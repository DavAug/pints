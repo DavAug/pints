{
 "cells": [
  {
   "cell_type": "markdown",
   "metadata": {},
   "source": [
    "# Schlögl"
   ]
  },
  {
   "cell_type": "markdown",
   "metadata": {},
   "source": [
    "- A + 2X -> 3X, rate k1\n",
    "- 3X -> A+2X, rate k2\n",
    "- B -> X, rate k3\n",
    "- X -> B, rate k4"
   ]
  },
  {
   "cell_type": "code",
   "execution_count": 1,
   "metadata": {},
   "outputs": [],
   "source": [
    "import pints\n",
    "import pints.toy.stochastic\n",
    "import matplotlib.pyplot as plt\n",
    "import numpy as np\n",
    "import math"
   ]
  },
  {
   "cell_type": "code",
   "execution_count": 2,
   "metadata": {},
   "outputs": [],
   "source": [
    "import line_profiler"
   ]
  },
  {
   "cell_type": "code",
   "execution_count": 6,
   "metadata": {},
   "outputs": [],
   "source": [
    "x_0 = 250\n",
    "\n",
    "model = pints.toy.stochastic.SchloglModel(x_0)\n",
    "\n",
    "times = np.linspace(0, 5, 100)\n",
    "k = [3e-7, 1e-4, 1e-3, 3.5]\n",
    "\n",
    "valuess = [model.simulate(k, times, approx=True, approx_tau=0.0125) for i in range(10000)]"
   ]
  },
  {
   "cell_type": "code",
   "execution_count": 4,
   "metadata": {},
   "outputs": [
    {
     "name": "stdout",
     "output_type": "stream",
     "text": [
      "380 ms ± 56.8 ms per loop (mean ± std. dev. of 7 runs, 1 loop each)\n"
     ]
    }
   ],
   "source": [
    "%timeit model.simulate(k, times)"
   ]
  },
  {
   "cell_type": "code",
   "execution_count": 5,
   "metadata": {},
   "outputs": [
    {
     "name": "stdout",
     "output_type": "stream",
     "text": [
      "16.3 ms ± 565 µs per loop (mean ± std. dev. of 7 runs, 100 loops each)\n"
     ]
    }
   ],
   "source": [
    "%timeit model.simulate(k, times, approx=True, approx_tau=0.0125)"
   ]
  },
  {
   "cell_type": "code",
   "execution_count": null,
   "metadata": {},
   "outputs": [],
   "source": [
    "for values in valuess:\n",
    "    plt.step(times, values)"
   ]
  },
  {
   "cell_type": "code",
   "execution_count": 8,
   "metadata": {},
   "outputs": [],
   "source": [
    "valuess = np.array(valuess)"
   ]
  },
  {
   "cell_type": "code",
   "execution_count": 9,
   "metadata": {},
   "outputs": [
    {
     "name": "stderr",
     "output_type": "stream",
     "text": [
      "No handles with labels found to put in legend.\n"
     ]
    },
    {
     "data": {
      "image/png": "[encoded data removed]",
      "text/plain": [
       "<Figure size 432x288 with 1 Axes>"
      ]
     },
     "metadata": {
      "needs_background": "light"
     },
     "output_type": "display_data"
    }
   ],
   "source": [
    "plt.hist(valuess[:,-1])\n",
    "plt.legend()\n",
    "plt.xlabel('X')\n",
    "plt.ylabel('Probability')\n",
    "plt.show()"
   ]
  },
  {
   "cell_type": "markdown",
   "metadata": {},
   "source": [
    "Given the stochastic nature of this model, every iteration returns a different result. However, averaging the concentration values at each time step, produces a reproducible result which tends towards a deterministic function as the the number of iterations tends to infinity (Erban et al., 2007): $ n_0e^{-kt} $\n"
   ]
  },
  {
   "cell_type": "code",
   "execution_count": null,
   "metadata": {},
   "outputs": [],
   "source": [
    "N = 100\n",
    "average = np.zeros(len(times))\n",
    "for i in range(N):\n",
    "    values = np.asarray(model.simulate(k, times))[0,:]\n",
    "    average += (values/N)\n",
    "    "
   ]
  },
  {
   "cell_type": "code",
   "execution_count": null,
   "metadata": {},
   "outputs": [],
   "source": [
    "average.shape"
   ]
  },
  {
   "cell_type": "code",
   "execution_count": null,
   "metadata": {},
   "outputs": [],
   "source": [
    "\n",
    "plt.plot(times, average, label = 'deterministic mean of A(t)')\n",
    "plt.title('stochastic degradation across different iterations')\n",
    "plt.xlabel('time')\n",
    "plt.ylabel('concentration (A(t))')\n",
    "plt.legend(loc = 'upper right')\n",
    "plt.show()"
   ]
  },
  {
   "cell_type": "markdown",
   "metadata": {},
   "source": [
    "The deterministic mean (from above) is plotted with the deterministic standard deviation. \n",
    "The deterministic variance of this model is given by: $e^{-2kt}(-1 + e^{kt})n_0$"
   ]
  },
  {
   "cell_type": "code",
   "execution_count": null,
   "metadata": {},
   "outputs": [],
   "source": [
    "mean = model.mean(k, times)\n",
    "variance = model.variance(k, times)\n",
    "std_dev = np.sqrt(variance)\n",
    "\n",
    "plt.plot(times, mean, '-', label = 'deterministic mean of A(t)')\n",
    "plt.plot(times, mean + std_dev, '--', label = 'standard deviation upper bound')\n",
    "plt.plot(times, mean - std_dev, '--', label = 'standard deviation lower bound')\n",
    "plt.legend(loc = 'upper right')\n",
    "plt.xlabel('time')\n",
    "plt.ylabel('concentration (A(t))')\n",
    "plt.show()"
   ]
  }
 ],
 "metadata": {
  "kernelspec": {
   "display_name": "Python 3",
   "language": "python",
   "name": "python3"
  },
  "language_info": {
   "codemirror_mode": {
    "name": "ipython",
    "version": 3
   },
   "file_extension": ".py",
   "mimetype": "text/x-python",
   "name": "python",
   "nbconvert_exporter": "python",
   "pygments_lexer": "ipython3",
   "version": "3.7.4"
  }
 },
 "nbformat": 4,
 "nbformat_minor": 4
}
