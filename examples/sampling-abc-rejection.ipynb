{
 "cells": [
  {
   "cell_type": "markdown",
   "metadata": {},
   "source": [
    "# ABC Rejection\n",
    "\n",
    "This example shows you how to perform ABC rejection on a time series from the stochastic degradation model."
   ]
  },
  {
   "cell_type": "code",
   "execution_count": 1,
   "metadata": {
    "collapsed": true
   },
   "outputs": [],
   "source": [
    "import pints\n",
    "import pints.toy as toy\n",
    "import pints.plot\n",
    "import numpy as np\n",
    "import matplotlib.pyplot as plt"
   ]
  },
  {
   "cell_type": "code",
   "execution_count": 2,
   "metadata": {},
   "outputs": [],
   "source": [
    "# Load a forward model\n",
    "model = toy.StochasticDegradationModel()\n",
    "model.suggested_parameters()\n",
    "\n",
    "# Create some toy data\n",
    "real_parameters = model.suggested_parameters()\n",
    "times = np.linspace(0, 10, 100)\n",
    "values = model.simulate(real_parameters, times)\n",
    "\n",
    "# Create an object with links to the model and time series\n",
    "problem = pints.SingleOutputProblem(model, times, values)"
   ]
  },
  {
   "cell_type": "code",
   "execution_count": 3,
   "metadata": {},
   "outputs": [],
   "source": [
    "# Create a uniform prior parameter\n",
    "log_prior = pints.UniformLogPrior(\n",
    "    [0.0],\n",
    "    [0.2]\n",
    ")\n",
    "\n",
    "# Set the error measure to be used to compare simulated to observed data\n",
    "error_measure = pints.RootMeanSquaredError(problem)\n"
   ]
  },
  {
   "cell_type": "code",
   "execution_count": 4,
   "metadata": {},
   "outputs": [],
   "source": [
    "abc = pints.ABCController(error_measure, log_prior)\n",
    "\n",
    "# Set threshold\n",
    "abc.sampler().set_threshold(10)\n",
    "\n",
    "abc.set_n_target(10)\n",
    "abc.set_log_to_screen(True)\n",
    "abc.set_parallel(2)"
   ]
  },
  {
   "cell_type": "code",
   "execution_count": 5,
   "metadata": {},
   "outputs": [
    {
     "name": "stdout",
     "output_type": "stream",
     "text": [
      "Running...\n",
      "Using Rejection ABC\n",
      "Running in parallel with 2 worker processess.\n",
      "Iter. Eval. Time m:s\n",
      "1     2       0:02.0\n",
      "2     4       0:02.0\n",
      "3     6       0:02.0\n",
      "5     10      0:02.0\n",
      "Halting: target number of samples (10) reached.\n",
      "Done!\n"
     ]
    }
   ],
   "source": [
    "# Run!\n",
    "print('Running...')\n",
    "samples = abc.run()\n",
    "print('Done!')"
   ]
  },
  {
   "cell_type": "code",
   "execution_count": 11,
   "metadata": {},
   "outputs": [
    {
     "data": {
      "text/plain": [
       "array([ 0.07827885,  0.13453987,  0.15426443,  0.15649234,  0.13282602,\n",
       "        0.18949774,  0.01792273,  0.05241492,  0.04605952,  0.19560205])"
      ]
     },
     "execution_count": 11,
     "metadata": {},
     "output_type": "execute_result"
    }
   ],
   "source": [
    "samples[:,0]"
   ]
  }
 ],
 "metadata": {
  "kernelspec": {
   "display_name": "Python 3",
   "language": "python",
   "name": "python3"
  },
  "language_info": {
   "codemirror_mode": {
    "name": "ipython",
    "version": 3
   },
   "file_extension": ".py",
   "mimetype": "text/x-python",
   "name": "python",
   "nbconvert_exporter": "python",
   "pygments_lexer": "ipython3",
   "version": "3.6.3"
  }
 },
 "nbformat": 4,
 "nbformat_minor": 2
}
