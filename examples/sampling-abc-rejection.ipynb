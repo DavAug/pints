{
 "cells": [
  {
   "cell_type": "markdown",
   "metadata": {},
   "source": [
    "# ABC Rejection\n",
    "\n",
    "This example shows you how to perform ABC rejection on a time series from the stochastic degradation model."
   ]
  },
  {
   "cell_type": "code",
   "execution_count": 1,
   "metadata": {},
   "outputs": [],
   "source": [
    "import pints\n",
    "import pints.toy as toy\n",
    "import pints.plot\n",
    "import numpy as np\n",
    "import matplotlib.pyplot as plt\n",
    "\n",
    "# Load a forward model\n",
    "model = toy.StochasticDegradationModel()\n",
    "\n",
    "# Create some toy data\n",
    "real_parameters = model.suggested_parameters()\n",
    "times = np.linspace(0, 10, 100)\n",
    "values = model.simulate(real_parameters, times)\n",
    "\n",
    "# Create an object with links to the model and time series\n",
    "problem = pints.SingleOutputProblem(model, times, values)\n",
    "\n",
    "# Create a uniform prior parameter\n",
    "log_prior = pints.UniformLogPrior(\n",
    "    [0.0],\n",
    "    [0.3]\n",
    ")\n",
    "\n",
    "# Set the error measure to be used to compare simulated to observed data\n",
    "error_measure = pints.RootMeanSquaredError(problem)"
   ]
  },
  {
   "cell_type": "markdown",
   "metadata": {},
   "source": [
    "Fit using ABC rejection."
   ]
  },
  {
   "cell_type": "code",
   "execution_count": 2,
   "metadata": {},
   "outputs": [
    {
     "name": "stdout",
     "output_type": "stream",
     "text": [
      "Running...\n",
      "Using Rejection ABC\n",
      "Running in sequential mode.\n",
      "Iter. Eval. Acceptance rate Time m:s\n",
      "1     9      0.111111111      0:00.0\n",
      "2     104    0.0192307692     0:00.1\n",
      "3     246    0.012195122      0:00.2\n",
      "20    2175   0.0091954023     0:01.0\n",
      "40    5796   0.00690131125    0:02.6\n",
      "60    7759   0.00773295528    0:03.4\n",
      "80    10607  0.00754218912    0:04.6\n",
      "100   12821  0.00779970361    0:05.6\n",
      "120   16420  0.00730816078    0:07.2\n",
      "140   20313  0.00689213804    0:08.9\n",
      "160   23078  0.00693300979    0:10.1\n",
      "180   26204  0.00686918028    0:11.5\n",
      "200   27554  0.00725847427    0:12.2\n",
      "Halting: target number of samples (200) reached.\n",
      "Done!\n"
     ]
    }
   ],
   "source": [
    "abc = pints.ABCController(error_measure, log_prior)\n",
    "\n",
    "# set threshold\n",
    "abc.sampler().set_threshold(1)\n",
    "\n",
    "# set target number of samples\n",
    "abc.set_n_target(200)\n",
    "\n",
    "# log to screen\n",
    "abc.set_log_to_screen(True)\n",
    "\n",
    "# Run!\n",
    "print('Running...')\n",
    "samples = abc.run()\n",
    "print('Done!')"
   ]
  },
  {
   "cell_type": "markdown",
   "metadata": {},
   "source": [
    "Plot approximate posterior vs actual parameter value."
   ]
  },
  {
   "cell_type": "code",
   "execution_count": 3,
   "metadata": {},
   "outputs": [
    {
     "data": {
      "image/png": "[encoded data removed]",
      "text/plain": [
       "<matplotlib.figure.Figure at 0x1eebe173630>"
      ]
     },
     "metadata": {},
     "output_type": "display_data"
    }
   ],
   "source": [
    "plt.hist(samples[:,0], color=\"blue\")\n",
    "plt.vlines(x=model.suggested_parameters(), linestyles='dashed', ymin=0, ymax=50)\n",
    "plt.show()"
   ]
  }
 ],
 "metadata": {
  "kernelspec": {
   "display_name": "Python 3",
   "language": "python",
   "name": "python3"
  },
  "language_info": {
   "codemirror_mode": {
    "name": "ipython",
    "version": 3
   },
   "file_extension": ".py",
   "mimetype": "text/x-python",
   "name": "python",
   "nbconvert_exporter": "python",
   "pygments_lexer": "ipython3",
   "version": "3.6.3"
  }
 },
 "nbformat": 4,
 "nbformat_minor": 2
}
