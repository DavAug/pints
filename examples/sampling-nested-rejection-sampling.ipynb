{
 "cells": [
  {
   "cell_type": "markdown",
   "metadata": {},
   "source": [
    "# Nested rejection sampling\n",
    "\n",
    "This example demonstrates how to use nested rejection sampling [1] to sample from the posterior distribution for a logistic model fitted to model-simulated data.\n",
    "\n",
    "[1] \"Nested Sampling for General Bayesian Computation\", John Skilling, Bayesian Analysis (2006) [https://projecteuclid.org/download/pdf_1/euclid.ba/1340370944](https://projecteuclid.org/download/pdf_1/euclid.ba/1340370944)."
   ]
  },
  {
   "cell_type": "markdown",
   "metadata": {},
   "source": [
    "First create fake data."
   ]
  },
  {
   "cell_type": "code",
   "execution_count": 1,
   "metadata": {},
   "outputs": [
    {
     "data": {
      "image/png": "[encoded data removed]",
      "text/plain": [
       "<matplotlib.figure.Figure at 0x26d0f91dd30>"
      ]
     },
     "metadata": {},
     "output_type": "display_data"
    }
   ],
   "source": [
    "import pints\n",
    "import pints.toy as toy\n",
    "import numpy as np\n",
    "import matplotlib.pyplot as plt\n",
    "\n",
    "# Load a forward model\n",
    "model = toy.LogisticModel()\n",
    "\n",
    "# Create some toy data\n",
    "r = 0.015\n",
    "k = 500\n",
    "real_parameters = [r, k]\n",
    "times = np.linspace(0, 1000, 100)\n",
    "signal_values = model.simulate(real_parameters, times)\n",
    "\n",
    "# Add independent Gaussian noise\n",
    "sigma = 10\n",
    "observed_values = signal_values + pints.noise.independent(sigma, signal_values.shape)\n",
    "\n",
    "# Plot\n",
    "plt.plot(times,signal_values,label = 'signal')\n",
    "plt.plot(times,observed_values,label = 'observed')\n",
    "plt.xlabel('Time')\n",
    "plt.ylabel('Values')\n",
    "plt.legend()\n",
    "plt.show()"
   ]
  },
  {
   "cell_type": "markdown",
   "metadata": {},
   "source": [
    "Create the nested sampler that will be used to sample from the posterior."
   ]
  },
  {
   "cell_type": "code",
   "execution_count": 2,
   "metadata": {
    "collapsed": true
   },
   "outputs": [],
   "source": [
    "# Create an object with links to the model and time series\n",
    "problem = pints.SingleOutputProblem(model, times, observed_values)\n",
    "\n",
    "# Create a log-likelihood function (adds an extra parameter!)\n",
    "log_likelihood = pints.GaussianLogLikelihood(problem)\n",
    "\n",
    "# Create a uniform prior over both the parameters and the new noise variable\n",
    "log_prior = pints.UniformLogPrior(\n",
    "    [0.01, 400, sigma * 0.5],\n",
    "    [0.02, 600, sigma * 1.5])\n",
    "\n",
    "# Create a nested ellipsoidal rejectection sampler\n",
    "sampler = pints.NestedController(log_likelihood, log_prior, method=pints.NestedRejectionSampler)\n",
    "\n",
    "# Set number of iterations\n",
    "sampler.set_iterations(3000)\n",
    "\n",
    "# Set the number of posterior samples to generate\n",
    "sampler.set_n_posterior_samples(300)\n",
    "\n",
    "# Set parallel\n",
    "sampler.set_parallel(True)"
   ]
  },
  {
   "cell_type": "markdown",
   "metadata": {},
   "source": [
    "Run the sampler!"
   ]
  },
  {
   "cell_type": "code",
   "execution_count": 3,
   "metadata": {},
   "outputs": [
    {
     "name": "stdout",
     "output_type": "stream",
     "text": [
      "Running Nested rejection sampler\n",
      "Number of active points: 400\n",
      "Total number of iterations: 3000\n",
      "Total number of posterior samples: 300\n",
      "Iter. Eval. Time m:s Delta_log(z) Acceptance rate\n",
      "0     1       0:02.2 -inf          1             \n",
      "0     2       0:02.2 -inf          1             \n",
      "0     3       0:02.3 -inf          1             \n",
      "0     4       0:02.3 -inf          1             \n",
      "0     5       0:02.3 -inf          1             \n",
      "0     21      0:02.4 -inf          1             \n",
      "0     41      0:02.5 -inf          1             \n",
      "0     61      0:02.6 -inf          1             \n",
      "0     81      0:02.7 -inf          1             \n",
      "0     101     0:02.7 -inf          1             \n",
      "0     121     0:02.8 -inf          1             \n",
      "0     141     0:02.9 -inf          1             \n",
      "0     161     0:03.0 -inf          1             \n",
      "0     181     0:03.1 -inf          1             \n",
      "0     201     0:03.2 -inf          1             \n",
      "0     221     0:03.3 -inf          1             \n",
      "0     241     0:03.4 -inf          1             \n",
      "0     261     0:03.5 -inf          1             \n",
      "0     281     0:03.6 -inf          1             \n",
      "0     301     0:03.7 -inf          1             \n",
      "0     321     0:03.8 -inf          1             \n",
      "0     341     0:03.9 -inf          1             \n",
      "0     361     0:04.0 -inf          1             \n",
      "0     381     0:04.1 -inf          1             \n",
      "400   404     0:04.2 -inf          0.25          \n",
      "420   424     0:04.3 -11880.95381  0.875         \n",
      "440   448     0:04.3 -8601.338793  0.854166667   \n",
      "460   468     0:04.4 -7211.258178  0.897058824   \n",
      "480   488     0:04.4 -5851.238816  0.920454545   \n",
      "500   512     0:04.5 -5092.462381  0.901785714   \n"
     ]
    },
    {
     "ename": "UnboundLocalError",
     "evalue": "local variable 'fx_temp' referenced before assignment",
     "output_type": "error",
     "traceback": [
      "\u001b[1;31m---------------------------------------------------------------------------\u001b[0m",
      "\u001b[1;31mUnboundLocalError\u001b[0m                         Traceback (most recent call last)",
      "\u001b[1;32m<ipython-input-3-085bafbbba77>\u001b[0m in \u001b[0;36m<module>\u001b[1;34m()\u001b[0m\n\u001b[1;32m----> 1\u001b[1;33m \u001b[0msamples\u001b[0m \u001b[1;33m=\u001b[0m \u001b[0msampler\u001b[0m\u001b[1;33m.\u001b[0m\u001b[0mrun\u001b[0m\u001b[1;33m(\u001b[0m\u001b[1;33m)\u001b[0m\u001b[1;33m\u001b[0m\u001b[0m\n\u001b[0m\u001b[0;32m      2\u001b[0m \u001b[0mprint\u001b[0m\u001b[1;33m(\u001b[0m\u001b[1;34m'Done!'\u001b[0m\u001b[1;33m)\u001b[0m\u001b[1;33m\u001b[0m\u001b[0m\n",
      "\u001b[1;32mc:\\users\\bclamber\\desktop\\pints\\pints\\_nested\\__init__.py\u001b[0m in \u001b[0;36mrun\u001b[1;34m(self)\u001b[0m\n\u001b[0;32m    521\u001b[0m                 \u001b[1;32melse\u001b[0m\u001b[1;33m:\u001b[0m\u001b[1;33m\u001b[0m\u001b[0m\n\u001b[0;32m    522\u001b[0m                     \u001b[0mlog_likelihood\u001b[0m \u001b[1;33m=\u001b[0m \u001b[0mself\u001b[0m\u001b[1;33m.\u001b[0m\u001b[0m_evaluator\u001b[0m\u001b[1;33m.\u001b[0m\u001b[0mevaluate\u001b[0m\u001b[1;33m(\u001b[0m\u001b[1;33m[\u001b[0m\u001b[0mproposed\u001b[0m\u001b[1;33m]\u001b[0m\u001b[1;33m)\u001b[0m\u001b[1;33m[\u001b[0m\u001b[1;36m0\u001b[0m\u001b[1;33m]\u001b[0m\u001b[1;33m\u001b[0m\u001b[0m\n\u001b[1;32m--> 523\u001b[1;33m                 \u001b[0msample\u001b[0m\u001b[1;33m,\u001b[0m \u001b[0mwinners\u001b[0m \u001b[1;33m=\u001b[0m \u001b[0mself\u001b[0m\u001b[1;33m.\u001b[0m\u001b[0m_sampler\u001b[0m\u001b[1;33m.\u001b[0m\u001b[0mtell\u001b[0m\u001b[1;33m(\u001b[0m\u001b[0mlog_likelihood\u001b[0m\u001b[1;33m)\u001b[0m\u001b[1;33m\u001b[0m\u001b[0m\n\u001b[0m\u001b[0;32m    524\u001b[0m                 \u001b[1;32mwhile\u001b[0m \u001b[0msample\u001b[0m \u001b[1;32mis\u001b[0m \u001b[1;32mNone\u001b[0m\u001b[1;33m:\u001b[0m\u001b[1;33m\u001b[0m\u001b[0m\n\u001b[0;32m    525\u001b[0m                     \u001b[0mproposed\u001b[0m \u001b[1;33m=\u001b[0m \u001b[0mself\u001b[0m\u001b[1;33m.\u001b[0m\u001b[0m_sampler\u001b[0m\u001b[1;33m.\u001b[0m\u001b[0mask\u001b[0m\u001b[1;33m(\u001b[0m\u001b[0mself\u001b[0m\u001b[1;33m.\u001b[0m\u001b[0m_n_workers\u001b[0m\u001b[1;33m)\u001b[0m\u001b[1;33m\u001b[0m\u001b[0m\n",
      "\u001b[1;32mc:\\users\\bclamber\\desktop\\pints\\pints\\_nested\\__init__.py\u001b[0m in \u001b[0;36mtell\u001b[1;34m(self, fx)\u001b[0m\n\u001b[0;32m     95\u001b[0m \u001b[1;33m\u001b[0m\u001b[0m\n\u001b[0;32m     96\u001b[0m         self._m_active[self._min_index, :] = np.concatenate(\n\u001b[1;32m---> 97\u001b[1;33m             (proposed, np.array([fx_temp])))\n\u001b[0m\u001b[0;32m     98\u001b[0m         self._min_index = np.argmin(\n\u001b[0;32m     99\u001b[0m             self._m_active[:, self._n_parameters])\n",
      "\u001b[1;31mUnboundLocalError\u001b[0m: local variable 'fx_temp' referenced before assignment"
     ]
    }
   ],
   "source": [
    "samples = sampler.run()\n",
    "print('Done!')"
   ]
  },
  {
   "cell_type": "markdown",
   "metadata": {},
   "source": [
    "## Plot posterior samples versus true parameter values (dashed lines)"
   ]
  },
  {
   "cell_type": "code",
   "execution_count": null,
   "metadata": {},
   "outputs": [],
   "source": [
    "# Plot output\n",
    "import pints.plot\n",
    "\n",
    "pints.plot.histogram([samples], ref_parameters=[r, k, sigma])\n",
    "\n",
    "plt.show()"
   ]
  },
  {
   "cell_type": "code",
   "execution_count": null,
   "metadata": {
    "scrolled": true
   },
   "outputs": [],
   "source": [
    "vTheta = samples[0]\n",
    "pints.plot.pairwise(samples, kde=True)\n",
    "\n",
    "plt.show()"
   ]
  },
  {
   "cell_type": "markdown",
   "metadata": {},
   "source": [
    "## Plot posterior predictive simulations versus the observed data"
   ]
  },
  {
   "cell_type": "code",
   "execution_count": null,
   "metadata": {},
   "outputs": [],
   "source": [
    "pints.plot.series(samples[:100], problem)\n",
    "plt.show()"
   ]
  },
  {
   "cell_type": "markdown",
   "metadata": {},
   "source": [
    "## Marginal likelihood estimate"
   ]
  },
  {
   "cell_type": "code",
   "execution_count": null,
   "metadata": {},
   "outputs": [],
   "source": [
    "print('marginal log-likelihood = ' + str(sampler.marginal_log_likelihood())\n",
    "      + ' ± ' + str(sampler.marginal_log_likelihood_standard_deviation()))"
   ]
  },
  {
   "cell_type": "markdown",
   "metadata": {},
   "source": [
    "## Examine active and inactive points at end of sampling run"
   ]
  },
  {
   "cell_type": "code",
   "execution_count": null,
   "metadata": {},
   "outputs": [],
   "source": [
    "m_active = sampler.active_points()\n",
    "m_inactive = sampler.inactive_points()\n",
    "\n",
    "f, axarr = plt.subplots(1,3,figsize=(15,6))\n",
    "axarr[0].scatter(m_inactive[:,0],m_inactive[:,1])\n",
    "axarr[0].scatter(m_active[:,0],m_active[:,1],alpha=0.1)\n",
    "axarr[0].set_xlim([0.008,0.022])\n",
    "axarr[0].set_xlabel('r')\n",
    "axarr[0].set_ylabel('k')\n",
    "axarr[1].scatter(m_inactive[:,0],m_inactive[:,2])\n",
    "axarr[1].scatter(m_active[:,0],m_active[:,2],alpha=0.1)\n",
    "axarr[1].set_xlim([0.008,0.022])\n",
    "axarr[1].set_xlabel('r')\n",
    "axarr[1].set_ylabel('sigma')\n",
    "axarr[2].scatter(m_inactive[:,1],m_inactive[:,2])\n",
    "axarr[2].scatter(m_active[:,1],m_active[:,2],alpha=0.1)\n",
    "axarr[2].set_xlabel('k')\n",
    "axarr[2].set_ylabel('sigma')\n",
    "plt.show()"
   ]
  },
  {
   "cell_type": "markdown",
   "metadata": {},
   "source": [
    "## Examine log-likelihoods versus proportion of prior space sampled"
   ]
  },
  {
   "cell_type": "code",
   "execution_count": null,
   "metadata": {},
   "outputs": [],
   "source": [
    "v_log_likelihood = sampler.log_likelihood_vector()\n",
    "v_log_likelihood = v_log_likelihood[:-sampler._sampler.n_active_points()]\n",
    "X = sampler.prior_space()\n",
    "X = X[:-1]\n",
    "plt.plot(X, v_log_likelihood)\n",
    "plt.xlabel('prior volume enclosed by X(L) > L')\n",
    "plt.ylabel('log likelihood')\n",
    "plt.show()"
   ]
  },
  {
   "cell_type": "markdown",
   "metadata": {},
   "source": [
    "## Sample some other posterior samples from recent run"
   ]
  },
  {
   "cell_type": "code",
   "execution_count": null,
   "metadata": {},
   "outputs": [],
   "source": [
    "samples_new = sampler.sample_from_posterior(1000)\n",
    "\n",
    "pints.plot.pairwise(samples_new, kde=True)\n",
    "\n",
    "plt.show()"
   ]
  }
 ],
 "metadata": {
  "kernelspec": {
   "display_name": "Python 3",
   "language": "python",
   "name": "python3"
  },
  "language_info": {
   "codemirror_mode": {
    "name": "ipython",
    "version": 3
   },
   "file_extension": ".py",
   "mimetype": "text/x-python",
   "name": "python",
   "nbconvert_exporter": "python",
   "pygments_lexer": "ipython3",
   "version": "3.6.3"
  }
 },
 "nbformat": 4,
 "nbformat_minor": 2
}
