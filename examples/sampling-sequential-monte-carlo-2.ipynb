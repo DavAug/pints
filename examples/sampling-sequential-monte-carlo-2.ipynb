{
 "cells": [
  {
   "cell_type": "markdown",
   "metadata": {},
   "source": [
    "# Logistic model fitting using Sequential Monte Carlo\n",
    "\n",
    "This example illustrates how to use SMC to sample from a posterior distribution for the logistic model, with normal errors. This example also indicates how it is typically necessary to tune hyperparameters to ensure good algorithmic performance on a given problem."
   ]
  },
  {
   "cell_type": "code",
   "execution_count": 1,
   "metadata": {},
   "outputs": [
    {
     "name": "stderr",
     "output_type": "stream",
     "text": [
      "WARNING:pints._log_likelihoods:The class `pints.KnownNoiseLogLikelihood` is deprecated. Please use `pints.GaussianLogLikelihood` instead.\n"
     ]
    }
   ],
   "source": [
    "from __future__ import print_function\n",
    "import pints\n",
    "import pints.toy as toy\n",
    "import pints.plot\n",
    "import numpy as np\n",
    "import matplotlib.pyplot as plt\n",
    "\n",
    "# Load a forward model\n",
    "model = toy.LogisticModel()\n",
    "\n",
    "# Create some toy data\n",
    "real_parameters = [0.015, 500]\n",
    "times = np.linspace(0, 1000, 1000)\n",
    "org_values = model.simulate(real_parameters, times)\n",
    "\n",
    "# Add noise\n",
    "noise = 10\n",
    "values = org_values + np.random.normal(0, noise, org_values.shape)\n",
    "real_parameters = np.array(real_parameters + [noise])\n",
    "\n",
    "# Get properties of the noise sample\n",
    "noise_sample_mean = np.mean(values - org_values)\n",
    "noise_sample_std = np.std(values - org_values)\n",
    "\n",
    "# Create an object with links to the model and time series\n",
    "problem = pints.SingleOutputProblem(model, times, values)\n",
    "\n",
    "# Create a log-likelihood function (adds an extra parameter!)\n",
    "log_likelihood = pints.UnknownNoiseLogLikelihood(problem)\n",
    "\n",
    "# Create a uniform prior over both the parameters and the new noise variable\n",
    "log_prior = pints.UniformLogPrior(\n",
    "    [-5, 400, noise*0.1],\n",
    "    [5, 600, noise*100]\n",
    ")"
   ]
  },
  {
   "cell_type": "code",
   "execution_count": 2,
   "metadata": {
    "scrolled": true
   },
   "outputs": [
    {
     "name": "stdout",
     "output_type": "stream",
     "text": [
      "Using Sequential Monte Carlo\n",
      "Total number of particles: 10000\n",
      "Number of temperatures: 10\n",
      "Number of MCMC steps at each temperature: 1\n",
      "Running in sequential mode.\n"
     ]
    },
    {
     "name": "stderr",
     "output_type": "stream",
     "text": [
      "/home/michael/dev/pints/pints/toy/_logistic_model.py:70: RuntimeWarning: overflow encountered in exp\n",
      "  exp = np.exp(-r * times)\n",
      "/home/michael/dev/pints/pints/toy/_logistic_model.py:73: RuntimeWarning: overflow encountered in multiply\n",
      "  values = k / (1 + c * exp)\n"
     ]
    },
    {
     "name": "stdout",
     "output_type": "stream",
     "text": [
      "Iter. Eval. Temperature ESS       Acc.      Time m:s\n",
      "0     10000  0.9999      8992.586  0          0:01.3\n"
     ]
    },
    {
     "name": "stderr",
     "output_type": "stream",
     "text": [
      "/home/michael/dev/pints/pints/_log_likelihoods.py:476: RuntimeWarning: invalid value encountered in log\n",
      "  - np.sum(error**2, axis=0) / (2 * sigma**2))\n",
      "/home/michael/dev/pints/pints/_sequential/_SMC.py:239: RuntimeWarning: divide by zero encountered in log\n",
      "  self._weights[j] = np.log(w) + self._w_tilde(\n"
     ]
    },
    {
     "name": "stdout",
     "output_type": "stream",
     "text": [
      "1     20000  0.99972     8780.808  0.231      0:06.6\n",
      "2     30000  0.99923     9708.799  0.233      0:11.8\n",
      "3     40000  0.99785     7690.542  0.231      0:17.3\n",
      "4     50000  0.99401     264.0242  0.227      0:23.0\n",
      "5     60000  0.98332     23.38561  0.199276   0:29.7\n",
      "6     70000  0.95358     2.127127  0.21       0:36.5\n",
      "7     80000  0.87085     3.096219  0.246      0:42.7\n",
      "8     90000  0.64062     396.8918  0.243      0:47.9\n",
      "9     100000  0           2111.325  0.239      0:53.2\n"
     ]
    }
   ],
   "source": [
    "# Create mcmc routine\n",
    "smc = pints.SMCController(log_likelihood, log_prior)\n",
    "\n",
    "# Set number of particles\n",
    "smc.sampler().set_n_particles(10000)\n",
    "\n",
    "# Run sampler\n",
    "samples = smc.run()"
   ]
  },
  {
   "cell_type": "markdown",
   "metadata": {},
   "source": [
    "## Plot results"
   ]
  },
  {
   "cell_type": "code",
   "execution_count": 3,
   "metadata": {},
   "outputs": [
    {
     "data": {
      "image/png": "[encoded data removed]",
      "text/plain": [
       "<Figure size 432x288 with 1 Axes>"
      ]
     },
     "metadata": {
      "needs_background": "light"
     },
     "output_type": "display_data"
    },
    {
     "name": "stdout",
     "output_type": "stream",
     "text": [
      "2111.3248568888844\n"
     ]
    }
   ],
   "source": [
    "plt.hist(samples[:, 0], 20)\n",
    "plt.show()\n",
    "print(smc.sampler().ess())"
   ]
  }
 ],
 "metadata": {
  "kernelspec": {
   "display_name": "Python 3",
   "language": "python",
   "name": "python3"
  },
  "language_info": {
   "codemirror_mode": {
    "name": "ipython",
    "version": 3
   },
   "file_extension": ".py",
   "mimetype": "text/x-python",
   "name": "python",
   "nbconvert_exporter": "python",
   "pygments_lexer": "ipython3",
   "version": "3.7.3"
  }
 },
 "nbformat": 4,
 "nbformat_minor": 2
}
