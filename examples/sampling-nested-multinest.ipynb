{
 "cells": [
  {
   "cell_type": "markdown",
   "metadata": {},
   "source": [
    "# MultiNest sampling\n",
    "\n",
    "This example demonstrates how to use MultiNest sampling [1] to sample from the posterior distribution for a logistic model fitted to model-simulated data.\n",
    "\n",
    "[1] \"MultiNest: an efficient and robust Bayesian inference tool for cosmology and particle physics.\"\n",
    "Feroz, F., M. P. Hobson, and M. Bridges. Monthly Notices of the Royal Astronomical Society 398.4 (2009): 1601-1614."
   ]
  },
  {
   "cell_type": "markdown",
   "metadata": {},
   "source": [
    "First create fake data."
   ]
  },
  {
   "cell_type": "code",
   "execution_count": 1,
   "metadata": {},
   "outputs": [
    {
     "data": {
      "image/png": "[encoded data removed]",
      "text/plain": [
       "<matplotlib.figure.Figure at 0x259d5027c88>"
      ]
     },
     "metadata": {},
     "output_type": "display_data"
    }
   ],
   "source": [
    "import pints\n",
    "import pints.toy as toy\n",
    "import numpy as np\n",
    "import matplotlib.pyplot as plt\n",
    "\n",
    "\n",
    "# below implicitly assumes the following priors\n",
    "# log_prior = pints.UniformLogPrior(\n",
    "#     [0.01, 400, sigma * 0.5],\n",
    "#     [0.02, 600, sigma * 1.5])\n",
    "class ExampleModel(pints.ForwardModel):\n",
    "    \n",
    "    def simulate(self, parameters, times):\n",
    "        # Run a simulation with the given parameters for the\n",
    "        # given times and return the simulated values\n",
    "        params_transformed = np.copy(parameters)\n",
    "        params_transformed[0] = (params_transformed[0] * 0.5 + 0.5) / 50\n",
    "        params_transformed[1] = (params_transformed[1] * 200 + 400)\n",
    "        return toy.LogisticModel().simulate(params_transformed, times) \n",
    "    \n",
    "    def n_parameters(self):\n",
    "        # Return the dimension of the parameter vector\n",
    "        return 2\n",
    "\n",
    "# Load a forward model\n",
    "model = ExampleModel()\n",
    "\n",
    "# Create some toy data\n",
    "r = 0.5\n",
    "k = 0.5\n",
    "real_parameters = [r, k]\n",
    "times = np.linspace(0, 1000, 100)\n",
    "signal_values = model.simulate(real_parameters, times)\n",
    "\n",
    "# Add independent Gaussian noise\n",
    "sigma = 10\n",
    "observed_values = signal_values + pints.noise.independent(sigma, signal_values.shape)\n",
    "\n",
    "# Plot\n",
    "plt.plot(times,signal_values,label = 'signal')\n",
    "plt.plot(times,observed_values,label = 'observed')\n",
    "plt.xlabel('Time')\n",
    "plt.ylabel('Values')\n",
    "plt.legend()\n",
    "plt.show()"
   ]
  },
  {
   "cell_type": "markdown",
   "metadata": {},
   "source": [
    "Create the nested sampler that will be used to sample from the posterior."
   ]
  },
  {
   "cell_type": "code",
   "execution_count": 2,
   "metadata": {},
   "outputs": [],
   "source": [
    "# Create an object with links to the model and time series\n",
    "problem = pints.SingleOutputProblem(model, times, observed_values)\n",
    "\n",
    "# Create a log-likelihood function (adds an extra parameter!)\n",
    "log_likelihood = pints.GaussianKnownSigmaLogLikelihood(problem, 10)\n",
    "\n",
    "# Create a uniform prior over both the parameters and the new noise variable\n",
    "log_prior = pints.UniformLogPrior(\n",
    "    [0.0, 0.0],\n",
    "    [1.0, 1.0])\n",
    "\n",
    "# Create a nested ellipsoidal rejectection sampler\n",
    "sampler = pints.NestedController(log_likelihood, log_prior, method=pints.MultinestSampler)\n",
    "\n",
    "# Set number of iterations\n",
    "sampler.set_iterations(8000)\n",
    "\n",
    "# Set the number of posterior samples to generate\n",
    "sampler.set_n_posterior_samples(1600)\n",
    "\n",
    "sampler._sampler.set_f_s_threshold(1.3)"
   ]
  },
  {
   "cell_type": "markdown",
   "metadata": {},
   "source": [
    "Run the sampler!"
   ]
  },
  {
   "cell_type": "code",
   "execution_count": 3,
   "metadata": {},
   "outputs": [
    {
     "name": "stdout",
     "output_type": "stream",
     "text": [
      "Running MultiNest sampler\n",
      "Number of active points: 400\n",
      "Total number of iterations: 8000\n",
      "Total number of posterior samples: 1600\n",
      "Iter. Eval. Time m:s Delta_log(z) Acceptance rate Ellipsoid count\n",
      "0     1       0:00.0 -inf          1               0             \n",
      "0     2       0:00.0 -inf          1               0             \n",
      "0     21      0:00.0 -inf          1               0             \n",
      "0     41      0:00.0 -inf          1               0             \n",
      "0     61      0:00.0 -inf          1               0             \n",
      "0     81      0:00.0 -inf          1               0             \n",
      "0     101     0:00.0 -inf          1               0             \n",
      "0     121     0:00.0 -inf          1               0             \n",
      "0     141     0:00.0 -inf          1               0             \n",
      "0     161     0:00.0 -inf          1               0             \n",
      "0     181     0:00.0 -inf          1               0             \n",
      "0     201     0:00.0 -inf          1               0             \n",
      "0     221     0:00.0 -inf          1               0             \n",
      "0     241     0:00.0 -inf          1               0             \n",
      "0     261     0:00.0 -inf          1               0             \n",
      "0     281     0:00.1 -inf          1               0             \n",
      "0     301     0:00.1 -inf          1               0             \n",
      "0     321     0:00.1 -inf          1               0             \n",
      "0     341     0:00.1 -inf          1               0             \n",
      "0     361     0:00.1 -inf          1               0             \n",
      "0     381     0:00.1 -inf          1               0             \n",
      "1     401     0:00.1 -inf          1               0             \n",
      "20    420     0:00.1 -7172.280286  1               0             \n",
      "40    441     0:00.1 -6352.032031  0.975609756     0             \n",
      "60    462     0:00.1 -5464.354695  0.967741935     0             \n",
      "80    483     0:00.1 -4686.057448  0.963855422     0             \n",
      "100   507     0:00.2 -4342.911397  0.934579439     0             \n",
      "120   528     0:00.2 -3880.814031  0.9375          0             \n",
      "140   553     0:00.2 -3404.37838   0.91503268      0             \n",
      "160   581     0:00.2 -3096.616548  0.883977901     0             \n",
      "180   617     0:00.3 -2856.33014   0.829493088     0             \n",
      "200   639     0:00.6 -2629.357623  0.836820083682  1             \n",
      "220   663     0:05.2 -2465.764162  0.836501901     1             \n"
     ]
    },
    {
     "ename": "KeyboardInterrupt",
     "evalue": "",
     "output_type": "error",
     "traceback": [
      "\u001b[1;31m---------------------------------------------------------------------------\u001b[0m",
      "\u001b[1;31mKeyboardInterrupt\u001b[0m                         Traceback (most recent call last)",
      "\u001b[1;32m<ipython-input-3-085bafbbba77>\u001b[0m in \u001b[0;36m<module>\u001b[1;34m()\u001b[0m\n\u001b[1;32m----> 1\u001b[1;33m \u001b[0msamples\u001b[0m \u001b[1;33m=\u001b[0m \u001b[0msampler\u001b[0m\u001b[1;33m.\u001b[0m\u001b[0mrun\u001b[0m\u001b[1;33m(\u001b[0m\u001b[1;33m)\u001b[0m\u001b[1;33m\u001b[0m\u001b[0m\n\u001b[0m\u001b[0;32m      2\u001b[0m \u001b[0mprint\u001b[0m\u001b[1;33m(\u001b[0m\u001b[1;34m'Done!'\u001b[0m\u001b[1;33m)\u001b[0m\u001b[1;33m\u001b[0m\u001b[0m\n",
      "\u001b[1;32mc:\\users\\bclamber\\desktop\\pints\\pints\\_nested\\__init__.py\u001b[0m in \u001b[0;36mrun\u001b[1;34m(self)\u001b[0m\n\u001b[0;32m    603\u001b[0m             \u001b[1;32mif\u001b[0m \u001b[0mi_iter_complete\u001b[0m \u001b[1;33m==\u001b[0m \u001b[1;36m0\u001b[0m\u001b[1;33m:\u001b[0m\u001b[1;33m\u001b[0m\u001b[0m\n\u001b[0;32m    604\u001b[0m                 \u001b[1;31m# Propose new samples\u001b[0m\u001b[1;33m\u001b[0m\u001b[1;33m\u001b[0m\u001b[0m\n\u001b[1;32m--> 605\u001b[1;33m                 \u001b[0mproposed\u001b[0m \u001b[1;33m=\u001b[0m \u001b[0mself\u001b[0m\u001b[1;33m.\u001b[0m\u001b[0m_sampler\u001b[0m\u001b[1;33m.\u001b[0m\u001b[0mask\u001b[0m\u001b[1;33m(\u001b[0m\u001b[0mself\u001b[0m\u001b[1;33m.\u001b[0m\u001b[0m_n_workers\u001b[0m\u001b[1;33m)\u001b[0m\u001b[1;33m\u001b[0m\u001b[0m\n\u001b[0m\u001b[0;32m    606\u001b[0m                 \u001b[1;31m# Evaluate their fit\u001b[0m\u001b[1;33m\u001b[0m\u001b[1;33m\u001b[0m\u001b[0m\n\u001b[0;32m    607\u001b[0m                 \u001b[1;32mif\u001b[0m \u001b[0mself\u001b[0m\u001b[1;33m.\u001b[0m\u001b[0m_n_workers\u001b[0m \u001b[1;33m>\u001b[0m \u001b[1;36m1\u001b[0m\u001b[1;33m:\u001b[0m\u001b[1;33m\u001b[0m\u001b[0m\n",
      "\u001b[1;32mc:\\users\\bclamber\\desktop\\pints\\pints\\_nested\\_multinest.py\u001b[0m in \u001b[0;36mask\u001b[1;34m(self, n_points)\u001b[0m\n\u001b[0;32m    229\u001b[0m                 (self._A_l, self._c_l, self._F_S, self._assignments,\n\u001b[0;32m    230\u001b[0m                  \u001b[0mself\u001b[0m\u001b[1;33m.\u001b[0m\u001b[0m_V_E_l\u001b[0m\u001b[1;33m,\u001b[0m \u001b[0mself\u001b[0m\u001b[1;33m.\u001b[0m\u001b[0m_V_S_l\u001b[0m\u001b[1;33m)\u001b[0m \u001b[1;33m=\u001b[0m \u001b[1;33m(\u001b[0m\u001b[1;33m\u001b[0m\u001b[0m\n\u001b[1;32m--> 231\u001b[1;33m                     \u001b[0mself\u001b[0m\u001b[1;33m.\u001b[0m\u001b[0m_f_s_minimisation\u001b[0m\u001b[1;33m(\u001b[0m\u001b[0mi\u001b[0m\u001b[1;33m,\u001b[0m \u001b[0mself\u001b[0m\u001b[1;33m.\u001b[0m\u001b[0m_m_active_transformed\u001b[0m\u001b[1;33m)\u001b[0m\u001b[1;33m\u001b[0m\u001b[0m\n\u001b[0m\u001b[0;32m    232\u001b[0m                 )\n\u001b[0;32m    233\u001b[0m             u = self._sample_overlapping_ellipsoids(n_points, self._A_l,\n",
      "\u001b[1;32mc:\\users\\bclamber\\desktop\\pints\\pints\\_nested\\_multinest.py\u001b[0m in \u001b[0;36m_f_s_minimisation\u001b[1;34m(self, iteration, u)\u001b[0m\n\u001b[0;32m    362\u001b[0m             self._f_s_minimisation_steps_1_to_3(iteration, u))\n\u001b[0;32m    363\u001b[0m         assignments_new, A_new_l, V_S_k_l, c_k_l, V_E_k_l = (\n\u001b[1;32m--> 364\u001b[1;33m             self._f_s_minimisation_lines_4_to_13(assignments, u, V_S, 1))\n\u001b[0m\u001b[0;32m    365\u001b[0m         \u001b[1;31m# lines 14 onwards\u001b[0m\u001b[1;33m\u001b[0m\u001b[1;33m\u001b[0m\u001b[0m\n\u001b[0;32m    366\u001b[0m         \u001b[0mA_l_running\u001b[0m \u001b[1;33m=\u001b[0m \u001b[1;33m[\u001b[0m\u001b[1;33m]\u001b[0m\u001b[1;33m\u001b[0m\u001b[0m\n",
      "\u001b[1;32mc:\\users\\bclamber\\desktop\\pints\\pints\\_nested\\_multinest.py\u001b[0m in \u001b[0;36m_f_s_minimisation_lines_4_to_13\u001b[1;34m(self, assignments, u, V_S, max_recursion)\u001b[0m\n\u001b[0;32m    441\u001b[0m             return self._f_s_minimisation_lines_4_to_13(assignments_new, u,\n\u001b[0;32m    442\u001b[0m                                                         \u001b[0mV_S\u001b[0m\u001b[1;33m,\u001b[0m\u001b[1;33m\u001b[0m\u001b[0m\n\u001b[1;32m--> 443\u001b[1;33m                                                         max_recursion + 1)\n\u001b[0m\u001b[0;32m    444\u001b[0m \u001b[1;33m\u001b[0m\u001b[0m\n\u001b[0;32m    445\u001b[0m     \u001b[1;32mdef\u001b[0m \u001b[0mf_s_threshold\u001b[0m\u001b[1;33m(\u001b[0m\u001b[0mself\u001b[0m\u001b[1;33m)\u001b[0m\u001b[1;33m:\u001b[0m\u001b[1;33m\u001b[0m\u001b[0m\n",
      "\u001b[1;32mc:\\users\\bclamber\\desktop\\pints\\pints\\_nested\\_multinest.py\u001b[0m in \u001b[0;36m_f_s_minimisation_lines_4_to_13\u001b[1;34m(self, assignments, u, V_S, max_recursion)\u001b[0m\n\u001b[0;32m    441\u001b[0m             return self._f_s_minimisation_lines_4_to_13(assignments_new, u,\n\u001b[0;32m    442\u001b[0m                                                         \u001b[0mV_S\u001b[0m\u001b[1;33m,\u001b[0m\u001b[1;33m\u001b[0m\u001b[0m\n\u001b[1;32m--> 443\u001b[1;33m                                                         max_recursion + 1)\n\u001b[0m\u001b[0;32m    444\u001b[0m \u001b[1;33m\u001b[0m\u001b[0m\n\u001b[0;32m    445\u001b[0m     \u001b[1;32mdef\u001b[0m \u001b[0mf_s_threshold\u001b[0m\u001b[1;33m(\u001b[0m\u001b[0mself\u001b[0m\u001b[1;33m)\u001b[0m\u001b[1;33m:\u001b[0m\u001b[1;33m\u001b[0m\u001b[0m\n",
      "\u001b[1;32mc:\\users\\bclamber\\desktop\\pints\\pints\\_nested\\_multinest.py\u001b[0m in \u001b[0;36m_f_s_minimisation_lines_4_to_13\u001b[1;34m(self, assignments, u, V_S, max_recursion)\u001b[0m\n\u001b[0;32m    441\u001b[0m             return self._f_s_minimisation_lines_4_to_13(assignments_new, u,\n\u001b[0;32m    442\u001b[0m                                                         \u001b[0mV_S\u001b[0m\u001b[1;33m,\u001b[0m\u001b[1;33m\u001b[0m\u001b[0m\n\u001b[1;32m--> 443\u001b[1;33m                                                         max_recursion + 1)\n\u001b[0m\u001b[0;32m    444\u001b[0m \u001b[1;33m\u001b[0m\u001b[0m\n\u001b[0;32m    445\u001b[0m     \u001b[1;32mdef\u001b[0m \u001b[0mf_s_threshold\u001b[0m\u001b[1;33m(\u001b[0m\u001b[0mself\u001b[0m\u001b[1;33m)\u001b[0m\u001b[1;33m:\u001b[0m\u001b[1;33m\u001b[0m\u001b[0m\n",
      "\u001b[1;32mc:\\users\\bclamber\\desktop\\pints\\pints\\_nested\\_multinest.py\u001b[0m in \u001b[0;36m_f_s_minimisation_lines_4_to_13\u001b[1;34m(self, assignments, u, V_S, max_recursion)\u001b[0m\n\u001b[0;32m    441\u001b[0m             return self._f_s_minimisation_lines_4_to_13(assignments_new, u,\n\u001b[0;32m    442\u001b[0m                                                         \u001b[0mV_S\u001b[0m\u001b[1;33m,\u001b[0m\u001b[1;33m\u001b[0m\u001b[0m\n\u001b[1;32m--> 443\u001b[1;33m                                                         max_recursion + 1)\n\u001b[0m\u001b[0;32m    444\u001b[0m \u001b[1;33m\u001b[0m\u001b[0m\n\u001b[0;32m    445\u001b[0m     \u001b[1;32mdef\u001b[0m \u001b[0mf_s_threshold\u001b[0m\u001b[1;33m(\u001b[0m\u001b[0mself\u001b[0m\u001b[1;33m)\u001b[0m\u001b[1;33m:\u001b[0m\u001b[1;33m\u001b[0m\u001b[0m\n",
      "\u001b[1;32mc:\\users\\bclamber\\desktop\\pints\\pints\\_nested\\_multinest.py\u001b[0m in \u001b[0;36m_f_s_minimisation_lines_4_to_13\u001b[1;34m(self, assignments, u, V_S, max_recursion)\u001b[0m\n\u001b[0;32m    441\u001b[0m             return self._f_s_minimisation_lines_4_to_13(assignments_new, u,\n\u001b[0;32m    442\u001b[0m                                                         \u001b[0mV_S\u001b[0m\u001b[1;33m,\u001b[0m\u001b[1;33m\u001b[0m\u001b[0m\n\u001b[1;32m--> 443\u001b[1;33m                                                         max_recursion + 1)\n\u001b[0m\u001b[0;32m    444\u001b[0m \u001b[1;33m\u001b[0m\u001b[0m\n\u001b[0;32m    445\u001b[0m     \u001b[1;32mdef\u001b[0m \u001b[0mf_s_threshold\u001b[0m\u001b[1;33m(\u001b[0m\u001b[0mself\u001b[0m\u001b[1;33m)\u001b[0m\u001b[1;33m:\u001b[0m\u001b[1;33m\u001b[0m\u001b[0m\n",
      "\u001b[1;32mc:\\users\\bclamber\\desktop\\pints\\pints\\_nested\\_multinest.py\u001b[0m in \u001b[0;36m_f_s_minimisation_lines_4_to_13\u001b[1;34m(self, assignments, u, V_S, max_recursion)\u001b[0m\n\u001b[0;32m    441\u001b[0m             return self._f_s_minimisation_lines_4_to_13(assignments_new, u,\n\u001b[0;32m    442\u001b[0m                                                         \u001b[0mV_S\u001b[0m\u001b[1;33m,\u001b[0m\u001b[1;33m\u001b[0m\u001b[0m\n\u001b[1;32m--> 443\u001b[1;33m                                                         max_recursion + 1)\n\u001b[0m\u001b[0;32m    444\u001b[0m \u001b[1;33m\u001b[0m\u001b[0m\n\u001b[0;32m    445\u001b[0m     \u001b[1;32mdef\u001b[0m \u001b[0mf_s_threshold\u001b[0m\u001b[1;33m(\u001b[0m\u001b[0mself\u001b[0m\u001b[1;33m)\u001b[0m\u001b[1;33m:\u001b[0m\u001b[1;33m\u001b[0m\u001b[0m\n",
      "\u001b[1;32mc:\\users\\bclamber\\desktop\\pints\\pints\\_nested\\_multinest.py\u001b[0m in \u001b[0;36m_f_s_minimisation_lines_4_to_13\u001b[1;34m(self, assignments, u, V_S, max_recursion)\u001b[0m\n\u001b[0;32m    426\u001b[0m                                         max_recursion):\n\u001b[0;32m    427\u001b[0m         \u001b[1;34m\"\"\" Performs steps 4-13 in Algorithm 1 in [1]_.\"\"\"\u001b[0m\u001b[1;33m\u001b[0m\u001b[0m\n\u001b[1;32m--> 428\u001b[1;33m         \u001b[0mA_k_l\u001b[0m\u001b[1;33m,\u001b[0m \u001b[0mc_k_l\u001b[0m\u001b[1;33m,\u001b[0m \u001b[0mV_E_l\u001b[0m \u001b[1;33m=\u001b[0m \u001b[0mself\u001b[0m\u001b[1;33m.\u001b[0m\u001b[0m_step_4\u001b[0m\u001b[1;33m(\u001b[0m\u001b[0massignments\u001b[0m\u001b[1;33m,\u001b[0m \u001b[0mu\u001b[0m\u001b[1;33m)\u001b[0m\u001b[1;33m\u001b[0m\u001b[0m\n\u001b[0m\u001b[0;32m    429\u001b[0m         A_new_l, V_S_k_l, V_E_k_l = self._step_5(assignments, V_E_l, A_k_l,\n\u001b[0;32m    430\u001b[0m                                                  V_S)\n",
      "\u001b[1;32mc:\\users\\bclamber\\desktop\\pints\\pints\\_nested\\_multinest.py\u001b[0m in \u001b[0;36m_step_4\u001b[1;34m(self, assignments, u)\u001b[0m\n\u001b[0;32m    615\u001b[0m         \u001b[1;32mfor\u001b[0m \u001b[0mi\u001b[0m \u001b[1;32min\u001b[0m \u001b[0mrange\u001b[0m\u001b[1;33m(\u001b[0m\u001b[1;36m0\u001b[0m\u001b[1;33m,\u001b[0m \u001b[1;36m2\u001b[0m\u001b[1;33m)\u001b[0m\u001b[1;33m:\u001b[0m\u001b[1;33m\u001b[0m\u001b[0m\n\u001b[0;32m    616\u001b[0m             A, c, V_E = self._ellipsoid_find_volume_calculator(i, u,\n\u001b[1;32m--> 617\u001b[1;33m                                                                assignments)\n\u001b[0m\u001b[0;32m    618\u001b[0m             \u001b[0mA_l\u001b[0m\u001b[1;33m[\u001b[0m\u001b[0mi\u001b[0m\u001b[1;33m]\u001b[0m \u001b[1;33m=\u001b[0m \u001b[0mA\u001b[0m\u001b[1;33m\u001b[0m\u001b[0m\n\u001b[0;32m    619\u001b[0m             \u001b[0mc_l\u001b[0m\u001b[1;33m[\u001b[0m\u001b[0mi\u001b[0m\u001b[1;33m]\u001b[0m \u001b[1;33m=\u001b[0m \u001b[0mc\u001b[0m\u001b[1;33m\u001b[0m\u001b[0m\n",
      "\u001b[1;32mc:\\users\\bclamber\\desktop\\pints\\pints\\_nested\\_multinest.py\u001b[0m in \u001b[0;36m_ellipsoid_find_volume_calculator\u001b[1;34m(self, a_index, u, assignments)\u001b[0m\n\u001b[0;32m    330\u001b[0m         \u001b[1;34m\"\"\" Finds volume of a particular ellipsoid. \"\"\"\u001b[0m\u001b[1;33m\u001b[0m\u001b[0m\n\u001b[0;32m    331\u001b[0m         \u001b[0mpoints\u001b[0m \u001b[1;33m=\u001b[0m \u001b[0mnp\u001b[0m\u001b[1;33m.\u001b[0m\u001b[0marray\u001b[0m\u001b[1;33m(\u001b[0m\u001b[0mu\u001b[0m\u001b[1;33m)\u001b[0m\u001b[1;33m[\u001b[0m\u001b[0mnp\u001b[0m\u001b[1;33m.\u001b[0m\u001b[0mwhere\u001b[0m\u001b[1;33m(\u001b[0m\u001b[0massignments\u001b[0m \u001b[1;33m==\u001b[0m \u001b[0ma_index\u001b[0m\u001b[1;33m)\u001b[0m\u001b[1;33m]\u001b[0m\u001b[1;33m\u001b[0m\u001b[0m\n\u001b[1;32m--> 332\u001b[1;33m         \u001b[0mA\u001b[0m\u001b[1;33m,\u001b[0m \u001b[0mc\u001b[0m \u001b[1;33m=\u001b[0m \u001b[0mself\u001b[0m\u001b[1;33m.\u001b[0m\u001b[0m_minimum_volume_ellipsoid\u001b[0m\u001b[1;33m(\u001b[0m\u001b[0mpoints\u001b[0m\u001b[1;33m)\u001b[0m\u001b[1;33m\u001b[0m\u001b[0m\n\u001b[0m\u001b[0;32m    333\u001b[0m         \u001b[1;32mreturn\u001b[0m \u001b[0mA\u001b[0m\u001b[1;33m,\u001b[0m \u001b[0mc\u001b[0m\u001b[1;33m,\u001b[0m \u001b[0mself\u001b[0m\u001b[1;33m.\u001b[0m\u001b[0m_ellipsoid_volume_calculator\u001b[0m\u001b[1;33m(\u001b[0m\u001b[0mA\u001b[0m\u001b[1;33m)\u001b[0m\u001b[1;33m\u001b[0m\u001b[0m\n\u001b[0;32m    334\u001b[0m \u001b[1;33m\u001b[0m\u001b[0m\n",
      "\u001b[1;32mc:\\users\\bclamber\\desktop\\pints\\pints\\_nested\\_multinest.py\u001b[0m in \u001b[0;36m_minimum_volume_ellipsoid\u001b[1;34m(self, points, tol)\u001b[0m\n\u001b[0;32m    475\u001b[0m             dist[i] = np.matmul(np.matmul(points[i] - c, cov_inv),\n\u001b[0;32m    476\u001b[0m                                 points[i] - c)\n\u001b[1;32m--> 477\u001b[1;33m         \u001b[0menlargement_factor\u001b[0m \u001b[1;33m=\u001b[0m \u001b[0mnp\u001b[0m\u001b[1;33m.\u001b[0m\u001b[0mmax\u001b[0m\u001b[1;33m(\u001b[0m\u001b[0mdist\u001b[0m\u001b[1;33m)\u001b[0m\u001b[1;33m\u001b[0m\u001b[0m\n\u001b[0m\u001b[0;32m    478\u001b[0m         \u001b[0mA\u001b[0m \u001b[1;33m=\u001b[0m \u001b[1;33m(\u001b[0m\u001b[1;36m1\u001b[0m \u001b[1;33m-\u001b[0m \u001b[0mtol\u001b[0m\u001b[1;33m)\u001b[0m \u001b[1;33m*\u001b[0m \u001b[1;33m(\u001b[0m\u001b[1;36m1.0\u001b[0m \u001b[1;33m/\u001b[0m \u001b[0menlargement_factor\u001b[0m\u001b[1;33m)\u001b[0m \u001b[1;33m*\u001b[0m \u001b[0mcov_inv\u001b[0m\u001b[1;33m\u001b[0m\u001b[0m\n\u001b[0;32m    479\u001b[0m         \u001b[1;32mreturn\u001b[0m \u001b[0mA\u001b[0m\u001b[1;33m,\u001b[0m \u001b[0mc\u001b[0m\u001b[1;33m\u001b[0m\u001b[0m\n",
      "\u001b[1;32m<__array_function__ internals>\u001b[0m in \u001b[0;36mamax\u001b[1;34m(*args, **kwargs)\u001b[0m\n",
      "\u001b[1;31mKeyboardInterrupt\u001b[0m: "
     ]
    }
   ],
   "source": [
    "samples = sampler.run()\n",
    "print('Done!')"
   ]
  },
  {
   "cell_type": "markdown",
   "metadata": {},
   "source": [
    "## Plot posterior samples versus true parameter values (dashed lines)"
   ]
  },
  {
   "cell_type": "code",
   "execution_count": null,
   "metadata": {},
   "outputs": [],
   "source": [
    "# Plot output\n",
    "import pints.plot\n",
    "\n",
    "pints.plot.histogram([samples], ref_parameters=[r, k])\n",
    "\n",
    "plt.show()"
   ]
  },
  {
   "cell_type": "markdown",
   "metadata": {},
   "source": [
    "## Plot posterior predictive simulations versus the observed data"
   ]
  },
  {
   "cell_type": "code",
   "execution_count": null,
   "metadata": {},
   "outputs": [],
   "source": [
    "pints.plot.series(samples[:100], problem)\n",
    "plt.show()"
   ]
  },
  {
   "cell_type": "markdown",
   "metadata": {},
   "source": [
    "## Marginal likelihood estimate"
   ]
  },
  {
   "cell_type": "code",
   "execution_count": null,
   "metadata": {},
   "outputs": [],
   "source": [
    "print('marginal log-likelihood = ' + str(sampler.marginal_log_likelihood())\n",
    "      + ' ± ' + str(sampler.marginal_log_likelihood_standard_deviation()))"
   ]
  },
  {
   "cell_type": "markdown",
   "metadata": {},
   "source": [
    "## Effective sample size"
   ]
  },
  {
   "cell_type": "code",
   "execution_count": null,
   "metadata": {},
   "outputs": [],
   "source": [
    "print('effective sample size = ' + str(sampler.effective_sample_size()))"
   ]
  },
  {
   "cell_type": "markdown",
   "metadata": {},
   "source": [
    "# Egg box problem"
   ]
  },
  {
   "cell_type": "code",
   "execution_count": 4,
   "metadata": {},
   "outputs": [],
   "source": [
    "class ExampleToy(pints.LogPDF):\n",
    "    def __init__(self, sigma, r):\n",
    "        self._sigma = sigma\n",
    "        self._r = r\n",
    "        self._log_toy = pints.toy.SimpleEggBoxLogPDF(self._sigma, self._r)\n",
    "\n",
    "    def __call__(self, x):\n",
    "        x1 = np.copy(x)\n",
    "        x1[0] = -15 + 30 * x[0]\n",
    "        x1[1] = -15 + 30 * x[1]\n",
    "        return self._log_toy(x1)\n",
    "\n",
    "    def n_parameters(self):\n",
    "        return 2"
   ]
  },
  {
   "cell_type": "code",
   "execution_count": 5,
   "metadata": {
    "collapsed": true
   },
   "outputs": [],
   "source": [
    "log_pdf = ExampleToy(2, 4)\n",
    "log_prior = pints.UniformLogPrior(\n",
    "    [0.0, 0.0],\n",
    "    [1.0, 1.0])"
   ]
  },
  {
   "cell_type": "code",
   "execution_count": 6,
   "metadata": {
    "collapsed": true
   },
   "outputs": [],
   "source": [
    "sampler = pints.NestedController(log_pdf, log_prior, method=pints.MultinestSampler)\n",
    "\n",
    "# Set number of iterations\n",
    "sampler.set_iterations(8000)\n",
    "\n",
    "# Set the number of posterior samples to generate\n",
    "sampler.set_n_posterior_samples(1600)\n",
    "\n",
    "sampler._sampler.set_f_s_threshold(1.3)"
   ]
  },
  {
   "cell_type": "code",
   "execution_count": 7,
   "metadata": {},
   "outputs": [
    {
     "name": "stdout",
     "output_type": "stream",
     "text": [
      "Running MultiNest sampler\n",
      "Number of active points: 400\n",
      "Total number of iterations: 8000\n",
      "Total number of posterior samples: 1600\n",
      "Iter. Eval. Time m:s Delta_log(z) Acceptance rate Ellipsoid count\n",
      "0     1       0:00.0 -inf          1               0             \n",
      "0     2       0:00.0 -inf          1               0             \n",
      "0     21      0:00.0 -inf          1               0             \n",
      "0     41      0:00.0 -inf          1               0             \n",
      "0     61      0:00.0 -inf          1               0             \n",
      "0     81      0:00.0 -inf          1               0             \n",
      "0     101     0:00.0 -inf          1               0             \n",
      "0     121     0:00.0 -inf          1               0             \n",
      "0     141     0:00.0 -inf          1               0             \n",
      "0     161     0:00.0 -inf          1               0             \n",
      "0     181     0:00.1 -inf          1               0             \n",
      "0     201     0:00.1 -inf          1               0             \n",
      "0     221     0:00.1 -inf          1               0             \n",
      "0     241     0:00.1 -inf          1               0             \n",
      "0     261     0:00.1 -inf          1               0             \n",
      "0     281     0:00.1 -inf          1               0             \n",
      "0     301     0:00.1 -inf          1               0             \n",
      "0     321     0:00.1 -inf          1               0             \n",
      "0     341     0:00.1 -inf          1               0             \n",
      "0     361     0:00.1 -inf          1               0             \n",
      "0     381     0:00.1 -inf          1               0             \n",
      "1     401     0:00.1 -inf          1               0             \n",
      "20    420     0:00.1 -26.13515323  1               0             \n",
      "40    441     0:00.2 -22.69267385  0.975609756     0             \n",
      "60    461     0:00.2 -19.62218485  0.983606557377  0             \n",
      "80    487     0:00.2 -18.01714112  0.91954023      0             \n",
      "100   510     0:00.2 -16.89947707  0.909090909     0             \n",
      "120   539     0:00.3 -15.98498309  0.863309352518  0             \n",
      "140   570     0:00.3 -15.21683761  0.823529412     0             \n",
      "160   601     0:00.3 -14.43596041  0.7960199       0             \n",
      "180   628     0:00.3 -13.75851732  0.789473684     0             \n",
      "200   659     0:00.9 -13.1893241   0.772200772     5             \n",
      "220   681     0:06.5 -12.58386648  0.782918149     4             \n",
      "240   703     0:12.4 -12.02394144  0.792079208     5             \n"
     ]
    },
    {
     "ename": "KeyboardInterrupt",
     "evalue": "",
     "output_type": "error",
     "traceback": [
      "\u001b[1;31m---------------------------------------------------------------------------\u001b[0m",
      "\u001b[1;31mKeyboardInterrupt\u001b[0m                         Traceback (most recent call last)",
      "\u001b[1;32m<ipython-input-7-085bafbbba77>\u001b[0m in \u001b[0;36m<module>\u001b[1;34m()\u001b[0m\n\u001b[1;32m----> 1\u001b[1;33m \u001b[0msamples\u001b[0m \u001b[1;33m=\u001b[0m \u001b[0msampler\u001b[0m\u001b[1;33m.\u001b[0m\u001b[0mrun\u001b[0m\u001b[1;33m(\u001b[0m\u001b[1;33m)\u001b[0m\u001b[1;33m\u001b[0m\u001b[0m\n\u001b[0m\u001b[0;32m      2\u001b[0m \u001b[0mprint\u001b[0m\u001b[1;33m(\u001b[0m\u001b[1;34m'Done!'\u001b[0m\u001b[1;33m)\u001b[0m\u001b[1;33m\u001b[0m\u001b[0m\n",
      "\u001b[1;32mc:\\users\\bclamber\\desktop\\pints\\pints\\_nested\\__init__.py\u001b[0m in \u001b[0;36mrun\u001b[1;34m(self)\u001b[0m\n\u001b[0;32m    611\u001b[0m                 \u001b[0msample\u001b[0m\u001b[1;33m,\u001b[0m \u001b[0mwinners\u001b[0m \u001b[1;33m=\u001b[0m \u001b[0mself\u001b[0m\u001b[1;33m.\u001b[0m\u001b[0m_sampler\u001b[0m\u001b[1;33m.\u001b[0m\u001b[0mtell\u001b[0m\u001b[1;33m(\u001b[0m\u001b[0mlog_likelihood\u001b[0m\u001b[1;33m)\u001b[0m\u001b[1;33m\u001b[0m\u001b[0m\n\u001b[0;32m    612\u001b[0m                 \u001b[1;32mwhile\u001b[0m \u001b[0msample\u001b[0m \u001b[1;32mis\u001b[0m \u001b[1;32mNone\u001b[0m\u001b[1;33m:\u001b[0m\u001b[1;33m\u001b[0m\u001b[0m\n\u001b[1;32m--> 613\u001b[1;33m                     \u001b[0mproposed\u001b[0m \u001b[1;33m=\u001b[0m \u001b[0mself\u001b[0m\u001b[1;33m.\u001b[0m\u001b[0m_sampler\u001b[0m\u001b[1;33m.\u001b[0m\u001b[0mask\u001b[0m\u001b[1;33m(\u001b[0m\u001b[0mself\u001b[0m\u001b[1;33m.\u001b[0m\u001b[0m_n_workers\u001b[0m\u001b[1;33m)\u001b[0m\u001b[1;33m\u001b[0m\u001b[0m\n\u001b[0m\u001b[0;32m    614\u001b[0m                     \u001b[1;32mif\u001b[0m \u001b[0mself\u001b[0m\u001b[1;33m.\u001b[0m\u001b[0m_n_workers\u001b[0m \u001b[1;33m>\u001b[0m \u001b[1;36m1\u001b[0m\u001b[1;33m:\u001b[0m\u001b[1;33m\u001b[0m\u001b[0m\n\u001b[0;32m    615\u001b[0m                         log_likelihood = (              # pragma: no cover\n",
      "\u001b[1;32mc:\\users\\bclamber\\desktop\\pints\\pints\\_nested\\_multinest.py\u001b[0m in \u001b[0;36mask\u001b[1;34m(self, n_points)\u001b[0m\n\u001b[0;32m    229\u001b[0m                 (self._A_l, self._c_l, self._F_S, self._assignments,\n\u001b[0;32m    230\u001b[0m                  \u001b[0mself\u001b[0m\u001b[1;33m.\u001b[0m\u001b[0m_V_E_l\u001b[0m\u001b[1;33m,\u001b[0m \u001b[0mself\u001b[0m\u001b[1;33m.\u001b[0m\u001b[0m_V_S_l\u001b[0m\u001b[1;33m)\u001b[0m \u001b[1;33m=\u001b[0m \u001b[1;33m(\u001b[0m\u001b[1;33m\u001b[0m\u001b[0m\n\u001b[1;32m--> 231\u001b[1;33m                     \u001b[0mself\u001b[0m\u001b[1;33m.\u001b[0m\u001b[0m_f_s_minimisation\u001b[0m\u001b[1;33m(\u001b[0m\u001b[0mi\u001b[0m\u001b[1;33m,\u001b[0m \u001b[0mself\u001b[0m\u001b[1;33m.\u001b[0m\u001b[0m_m_active_transformed\u001b[0m\u001b[1;33m)\u001b[0m\u001b[1;33m\u001b[0m\u001b[0m\n\u001b[0m\u001b[0;32m    232\u001b[0m                 )\n\u001b[0;32m    233\u001b[0m             u = self._sample_overlapping_ellipsoids(n_points, self._A_l,\n",
      "\u001b[1;32mc:\\users\\bclamber\\desktop\\pints\\pints\\_nested\\_multinest.py\u001b[0m in \u001b[0;36m_f_s_minimisation\u001b[1;34m(self, iteration, u)\u001b[0m\n\u001b[0;32m    373\u001b[0m                     self._f_s_minimisation_lines_2_onwards(\n\u001b[0;32m    374\u001b[0m                         \u001b[0mu_new\u001b[0m\u001b[1;33m,\u001b[0m \u001b[0mV_E_k_l\u001b[0m\u001b[1;33m[\u001b[0m\u001b[0mi\u001b[0m\u001b[1;33m]\u001b[0m\u001b[1;33m,\u001b[0m \u001b[0mV_S_k_l\u001b[0m\u001b[1;33m[\u001b[0m\u001b[0mi\u001b[0m\u001b[1;33m]\u001b[0m\u001b[1;33m,\u001b[0m \u001b[0mA_new_l\u001b[0m\u001b[1;33m[\u001b[0m\u001b[0mi\u001b[0m\u001b[1;33m]\u001b[0m\u001b[1;33m,\u001b[0m \u001b[0mc_k_l\u001b[0m\u001b[1;33m[\u001b[0m\u001b[0mi\u001b[0m\u001b[1;33m]\u001b[0m\u001b[1;33m,\u001b[0m\u001b[1;33m\u001b[0m\u001b[0m\n\u001b[1;32m--> 375\u001b[1;33m                         A_l_running, c_l_running))\n\u001b[0m\u001b[0;32m    376\u001b[0m             \u001b[0mV_E_k_l1\u001b[0m \u001b[1;33m=\u001b[0m \u001b[1;33m[\u001b[0m\u001b[1;33m]\u001b[0m\u001b[1;33m\u001b[0m\u001b[0m\n\u001b[0;32m    377\u001b[0m             \u001b[0mV_S_k_l1\u001b[0m \u001b[1;33m=\u001b[0m \u001b[1;33m[\u001b[0m\u001b[1;33m]\u001b[0m\u001b[1;33m\u001b[0m\u001b[0m\n",
      "\u001b[1;32mc:\\users\\bclamber\\desktop\\pints\\pints\\_nested\\_multinest.py\u001b[0m in \u001b[0;36m_f_s_minimisation_lines_2_onwards\u001b[1;34m(self, u, V_E, V_S, A, c, A_l_running, c_l_running)\u001b[0m\n\u001b[0;32m    416\u001b[0m                     self._f_s_minimisation_lines_2_onwards(\n\u001b[0;32m    417\u001b[0m                         \u001b[0mu_new\u001b[0m\u001b[1;33m,\u001b[0m \u001b[0mV_E_k_l\u001b[0m\u001b[1;33m[\u001b[0m\u001b[0mi\u001b[0m\u001b[1;33m]\u001b[0m\u001b[1;33m,\u001b[0m \u001b[0mV_S_k_l\u001b[0m\u001b[1;33m[\u001b[0m\u001b[0mi\u001b[0m\u001b[1;33m]\u001b[0m\u001b[1;33m,\u001b[0m \u001b[0mA_new_l\u001b[0m\u001b[1;33m[\u001b[0m\u001b[0mi\u001b[0m\u001b[1;33m]\u001b[0m\u001b[1;33m,\u001b[0m \u001b[0mc_k_l\u001b[0m\u001b[1;33m[\u001b[0m\u001b[0mi\u001b[0m\u001b[1;33m]\u001b[0m\u001b[1;33m,\u001b[0m\u001b[1;33m\u001b[0m\u001b[0m\n\u001b[1;32m--> 418\u001b[1;33m                         A_l_running, c_l_running))\n\u001b[0m\u001b[0;32m    419\u001b[0m             \u001b[1;32mreturn\u001b[0m \u001b[0mA_l_running\u001b[0m\u001b[1;33m,\u001b[0m \u001b[0mc_l_running\u001b[0m\u001b[1;33m\u001b[0m\u001b[0m\n\u001b[0;32m    420\u001b[0m         \u001b[1;32melse\u001b[0m\u001b[1;33m:\u001b[0m\u001b[1;33m\u001b[0m\u001b[0m\n",
      "\u001b[1;32mc:\\users\\bclamber\\desktop\\pints\\pints\\_nested\\_multinest.py\u001b[0m in \u001b[0;36m_f_s_minimisation_lines_2_onwards\u001b[1;34m(self, u, V_E, V_S, A, c, A_l_running, c_l_running)\u001b[0m\n\u001b[0;32m    402\u001b[0m         \u001b[0mcenters\u001b[0m\u001b[1;33m,\u001b[0m \u001b[0massignments\u001b[0m \u001b[1;33m=\u001b[0m \u001b[0mself\u001b[0m\u001b[1;33m.\u001b[0m\u001b[0m_step_3\u001b[0m\u001b[1;33m(\u001b[0m\u001b[0mu\u001b[0m\u001b[1;33m)\u001b[0m\u001b[1;33m\u001b[0m\u001b[0m\n\u001b[0;32m    403\u001b[0m         assignments_new, A_new_l, V_S_k_l, c_k_l, V_E_k_l = (\n\u001b[1;32m--> 404\u001b[1;33m             self._f_s_minimisation_lines_4_to_13(assignments, u, V_S, 1))\n\u001b[0m\u001b[0;32m    405\u001b[0m         \u001b[1;31m# lines 14 onwards\u001b[0m\u001b[1;33m\u001b[0m\u001b[1;33m\u001b[0m\u001b[0m\n\u001b[0;32m    406\u001b[0m         \u001b[0mV_E_k_tot\u001b[0m \u001b[1;33m=\u001b[0m \u001b[0mnp\u001b[0m\u001b[1;33m.\u001b[0m\u001b[0msum\u001b[0m\u001b[1;33m(\u001b[0m\u001b[0mV_E_k_l\u001b[0m\u001b[1;33m)\u001b[0m\u001b[1;33m\u001b[0m\u001b[0m\n",
      "\u001b[1;32mc:\\users\\bclamber\\desktop\\pints\\pints\\_nested\\_multinest.py\u001b[0m in \u001b[0;36m_f_s_minimisation_lines_4_to_13\u001b[1;34m(self, assignments, u, V_S, max_recursion)\u001b[0m\n\u001b[0;32m    441\u001b[0m             return self._f_s_minimisation_lines_4_to_13(assignments_new, u,\n\u001b[0;32m    442\u001b[0m                                                         \u001b[0mV_S\u001b[0m\u001b[1;33m,\u001b[0m\u001b[1;33m\u001b[0m\u001b[0m\n\u001b[1;32m--> 443\u001b[1;33m                                                         max_recursion + 1)\n\u001b[0m\u001b[0;32m    444\u001b[0m \u001b[1;33m\u001b[0m\u001b[0m\n\u001b[0;32m    445\u001b[0m     \u001b[1;32mdef\u001b[0m \u001b[0mf_s_threshold\u001b[0m\u001b[1;33m(\u001b[0m\u001b[0mself\u001b[0m\u001b[1;33m)\u001b[0m\u001b[1;33m:\u001b[0m\u001b[1;33m\u001b[0m\u001b[0m\n",
      "\u001b[1;32mc:\\users\\bclamber\\desktop\\pints\\pints\\_nested\\_multinest.py\u001b[0m in \u001b[0;36m_f_s_minimisation_lines_4_to_13\u001b[1;34m(self, assignments, u, V_S, max_recursion)\u001b[0m\n\u001b[0;32m    441\u001b[0m             return self._f_s_minimisation_lines_4_to_13(assignments_new, u,\n\u001b[0;32m    442\u001b[0m                                                         \u001b[0mV_S\u001b[0m\u001b[1;33m,\u001b[0m\u001b[1;33m\u001b[0m\u001b[0m\n\u001b[1;32m--> 443\u001b[1;33m                                                         max_recursion + 1)\n\u001b[0m\u001b[0;32m    444\u001b[0m \u001b[1;33m\u001b[0m\u001b[0m\n\u001b[0;32m    445\u001b[0m     \u001b[1;32mdef\u001b[0m \u001b[0mf_s_threshold\u001b[0m\u001b[1;33m(\u001b[0m\u001b[0mself\u001b[0m\u001b[1;33m)\u001b[0m\u001b[1;33m:\u001b[0m\u001b[1;33m\u001b[0m\u001b[0m\n",
      "\u001b[1;32mc:\\users\\bclamber\\desktop\\pints\\pints\\_nested\\_multinest.py\u001b[0m in \u001b[0;36m_f_s_minimisation_lines_4_to_13\u001b[1;34m(self, assignments, u, V_S, max_recursion)\u001b[0m\n\u001b[0;32m    441\u001b[0m             return self._f_s_minimisation_lines_4_to_13(assignments_new, u,\n\u001b[0;32m    442\u001b[0m                                                         \u001b[0mV_S\u001b[0m\u001b[1;33m,\u001b[0m\u001b[1;33m\u001b[0m\u001b[0m\n\u001b[1;32m--> 443\u001b[1;33m                                                         max_recursion + 1)\n\u001b[0m\u001b[0;32m    444\u001b[0m \u001b[1;33m\u001b[0m\u001b[0m\n\u001b[0;32m    445\u001b[0m     \u001b[1;32mdef\u001b[0m \u001b[0mf_s_threshold\u001b[0m\u001b[1;33m(\u001b[0m\u001b[0mself\u001b[0m\u001b[1;33m)\u001b[0m\u001b[1;33m:\u001b[0m\u001b[1;33m\u001b[0m\u001b[0m\n",
      "\u001b[1;32mc:\\users\\bclamber\\desktop\\pints\\pints\\_nested\\_multinest.py\u001b[0m in \u001b[0;36m_f_s_minimisation_lines_4_to_13\u001b[1;34m(self, assignments, u, V_S, max_recursion)\u001b[0m\n\u001b[0;32m    441\u001b[0m             return self._f_s_minimisation_lines_4_to_13(assignments_new, u,\n\u001b[0;32m    442\u001b[0m                                                         \u001b[0mV_S\u001b[0m\u001b[1;33m,\u001b[0m\u001b[1;33m\u001b[0m\u001b[0m\n\u001b[1;32m--> 443\u001b[1;33m                                                         max_recursion + 1)\n\u001b[0m\u001b[0;32m    444\u001b[0m \u001b[1;33m\u001b[0m\u001b[0m\n\u001b[0;32m    445\u001b[0m     \u001b[1;32mdef\u001b[0m \u001b[0mf_s_threshold\u001b[0m\u001b[1;33m(\u001b[0m\u001b[0mself\u001b[0m\u001b[1;33m)\u001b[0m\u001b[1;33m:\u001b[0m\u001b[1;33m\u001b[0m\u001b[0m\n",
      "\u001b[1;32mc:\\users\\bclamber\\desktop\\pints\\pints\\_nested\\_multinest.py\u001b[0m in \u001b[0;36m_f_s_minimisation_lines_4_to_13\u001b[1;34m(self, assignments, u, V_S, max_recursion)\u001b[0m\n\u001b[0;32m    426\u001b[0m                                         max_recursion):\n\u001b[0;32m    427\u001b[0m         \u001b[1;34m\"\"\" Performs steps 4-13 in Algorithm 1 in [1]_.\"\"\"\u001b[0m\u001b[1;33m\u001b[0m\u001b[0m\n\u001b[1;32m--> 428\u001b[1;33m         \u001b[0mA_k_l\u001b[0m\u001b[1;33m,\u001b[0m \u001b[0mc_k_l\u001b[0m\u001b[1;33m,\u001b[0m \u001b[0mV_E_l\u001b[0m \u001b[1;33m=\u001b[0m \u001b[0mself\u001b[0m\u001b[1;33m.\u001b[0m\u001b[0m_step_4\u001b[0m\u001b[1;33m(\u001b[0m\u001b[0massignments\u001b[0m\u001b[1;33m,\u001b[0m \u001b[0mu\u001b[0m\u001b[1;33m)\u001b[0m\u001b[1;33m\u001b[0m\u001b[0m\n\u001b[0m\u001b[0;32m    429\u001b[0m         A_new_l, V_S_k_l, V_E_k_l = self._step_5(assignments, V_E_l, A_k_l,\n\u001b[0;32m    430\u001b[0m                                                  V_S)\n",
      "\u001b[1;32mc:\\users\\bclamber\\desktop\\pints\\pints\\_nested\\_multinest.py\u001b[0m in \u001b[0;36m_step_4\u001b[1;34m(self, assignments, u)\u001b[0m\n\u001b[0;32m    615\u001b[0m         \u001b[1;32mfor\u001b[0m \u001b[0mi\u001b[0m \u001b[1;32min\u001b[0m \u001b[0mrange\u001b[0m\u001b[1;33m(\u001b[0m\u001b[1;36m0\u001b[0m\u001b[1;33m,\u001b[0m \u001b[1;36m2\u001b[0m\u001b[1;33m)\u001b[0m\u001b[1;33m:\u001b[0m\u001b[1;33m\u001b[0m\u001b[0m\n\u001b[0;32m    616\u001b[0m             A, c, V_E = self._ellipsoid_find_volume_calculator(i, u,\n\u001b[1;32m--> 617\u001b[1;33m                                                                assignments)\n\u001b[0m\u001b[0;32m    618\u001b[0m             \u001b[0mA_l\u001b[0m\u001b[1;33m[\u001b[0m\u001b[0mi\u001b[0m\u001b[1;33m]\u001b[0m \u001b[1;33m=\u001b[0m \u001b[0mA\u001b[0m\u001b[1;33m\u001b[0m\u001b[0m\n\u001b[0;32m    619\u001b[0m             \u001b[0mc_l\u001b[0m\u001b[1;33m[\u001b[0m\u001b[0mi\u001b[0m\u001b[1;33m]\u001b[0m \u001b[1;33m=\u001b[0m \u001b[0mc\u001b[0m\u001b[1;33m\u001b[0m\u001b[0m\n",
      "\u001b[1;32mc:\\users\\bclamber\\desktop\\pints\\pints\\_nested\\_multinest.py\u001b[0m in \u001b[0;36m_ellipsoid_find_volume_calculator\u001b[1;34m(self, a_index, u, assignments)\u001b[0m\n\u001b[0;32m    330\u001b[0m         \u001b[1;34m\"\"\" Finds volume of a particular ellipsoid. \"\"\"\u001b[0m\u001b[1;33m\u001b[0m\u001b[0m\n\u001b[0;32m    331\u001b[0m         \u001b[0mpoints\u001b[0m \u001b[1;33m=\u001b[0m \u001b[0mnp\u001b[0m\u001b[1;33m.\u001b[0m\u001b[0marray\u001b[0m\u001b[1;33m(\u001b[0m\u001b[0mu\u001b[0m\u001b[1;33m)\u001b[0m\u001b[1;33m[\u001b[0m\u001b[0mnp\u001b[0m\u001b[1;33m.\u001b[0m\u001b[0mwhere\u001b[0m\u001b[1;33m(\u001b[0m\u001b[0massignments\u001b[0m \u001b[1;33m==\u001b[0m \u001b[0ma_index\u001b[0m\u001b[1;33m)\u001b[0m\u001b[1;33m]\u001b[0m\u001b[1;33m\u001b[0m\u001b[0m\n\u001b[1;32m--> 332\u001b[1;33m         \u001b[0mA\u001b[0m\u001b[1;33m,\u001b[0m \u001b[0mc\u001b[0m \u001b[1;33m=\u001b[0m \u001b[0mself\u001b[0m\u001b[1;33m.\u001b[0m\u001b[0m_minimum_volume_ellipsoid\u001b[0m\u001b[1;33m(\u001b[0m\u001b[0mpoints\u001b[0m\u001b[1;33m)\u001b[0m\u001b[1;33m\u001b[0m\u001b[0m\n\u001b[0m\u001b[0;32m    333\u001b[0m         \u001b[1;32mreturn\u001b[0m \u001b[0mA\u001b[0m\u001b[1;33m,\u001b[0m \u001b[0mc\u001b[0m\u001b[1;33m,\u001b[0m \u001b[0mself\u001b[0m\u001b[1;33m.\u001b[0m\u001b[0m_ellipsoid_volume_calculator\u001b[0m\u001b[1;33m(\u001b[0m\u001b[0mA\u001b[0m\u001b[1;33m)\u001b[0m\u001b[1;33m\u001b[0m\u001b[0m\n\u001b[0;32m    334\u001b[0m \u001b[1;33m\u001b[0m\u001b[0m\n",
      "\u001b[1;32mc:\\users\\bclamber\\desktop\\pints\\pints\\_nested\\_multinest.py\u001b[0m in \u001b[0;36m_minimum_volume_ellipsoid\u001b[1;34m(self, points, tol)\u001b[0m\n\u001b[0;32m    468\u001b[0m         \u001b[0;31m`\u001b[0m\u001b[0;31m`\u001b[0m\u001b[1;33m(\u001b[0m\u001b[0mx\u001b[0m\u001b[1;33m-\u001b[0m\u001b[0mc\u001b[0m\u001b[1;33m)\u001b[0m\u001b[1;33m.\u001b[0m\u001b[0mT\u001b[0m \u001b[1;33m*\u001b[0m \u001b[0mA\u001b[0m \u001b[1;33m*\u001b[0m \u001b[1;33m(\u001b[0m\u001b[0mx\u001b[0m\u001b[1;33m-\u001b[0m\u001b[0mc\u001b[0m\u001b[1;33m)\u001b[0m \u001b[1;33m=\u001b[0m \u001b[1;36m1\u001b[0m\u001b[0;31m`\u001b[0m\u001b[0;31m`\u001b[0m\u001b[1;33m.\u001b[0m\u001b[1;33m\u001b[0m\u001b[0m\n\u001b[0;32m    469\u001b[0m         \"\"\"\n\u001b[1;32m--> 470\u001b[1;33m         \u001b[0mcov\u001b[0m \u001b[1;33m=\u001b[0m \u001b[0mnp\u001b[0m\u001b[1;33m.\u001b[0m\u001b[0mcov\u001b[0m\u001b[1;33m(\u001b[0m\u001b[0mnp\u001b[0m\u001b[1;33m.\u001b[0m\u001b[0mtranspose\u001b[0m\u001b[1;33m(\u001b[0m\u001b[0mpoints\u001b[0m\u001b[1;33m)\u001b[0m\u001b[1;33m)\u001b[0m\u001b[1;33m\u001b[0m\u001b[0m\n\u001b[0m\u001b[0;32m    471\u001b[0m         \u001b[0mcov_inv\u001b[0m \u001b[1;33m=\u001b[0m \u001b[0mnp\u001b[0m\u001b[1;33m.\u001b[0m\u001b[0mlinalg\u001b[0m\u001b[1;33m.\u001b[0m\u001b[0minv\u001b[0m\u001b[1;33m(\u001b[0m\u001b[0mcov\u001b[0m\u001b[1;33m)\u001b[0m\u001b[1;33m\u001b[0m\u001b[0m\n\u001b[0;32m    472\u001b[0m         \u001b[0mc\u001b[0m \u001b[1;33m=\u001b[0m \u001b[0mnp\u001b[0m\u001b[1;33m.\u001b[0m\u001b[0mmean\u001b[0m\u001b[1;33m(\u001b[0m\u001b[0mpoints\u001b[0m\u001b[1;33m,\u001b[0m \u001b[0maxis\u001b[0m\u001b[1;33m=\u001b[0m\u001b[1;36m0\u001b[0m\u001b[1;33m)\u001b[0m\u001b[1;33m\u001b[0m\u001b[0m\n",
      "\u001b[1;32m<__array_function__ internals>\u001b[0m in \u001b[0;36mcov\u001b[1;34m(*args, **kwargs)\u001b[0m\n",
      "\u001b[1;32m~\\Anaconda3\\lib\\site-packages\\numpy\\lib\\function_base.py\u001b[0m in \u001b[0;36mcov\u001b[1;34m(m, y, rowvar, bias, ddof, fweights, aweights)\u001b[0m\n\u001b[0;32m   2452\u001b[0m     \u001b[1;32melse\u001b[0m\u001b[1;33m:\u001b[0m\u001b[1;33m\u001b[0m\u001b[0m\n\u001b[0;32m   2453\u001b[0m         \u001b[0mX_T\u001b[0m \u001b[1;33m=\u001b[0m \u001b[1;33m(\u001b[0m\u001b[0mX\u001b[0m\u001b[1;33m*\u001b[0m\u001b[0mw\u001b[0m\u001b[1;33m)\u001b[0m\u001b[1;33m.\u001b[0m\u001b[0mT\u001b[0m\u001b[1;33m\u001b[0m\u001b[0m\n\u001b[1;32m-> 2454\u001b[1;33m     \u001b[0mc\u001b[0m \u001b[1;33m=\u001b[0m \u001b[0mdot\u001b[0m\u001b[1;33m(\u001b[0m\u001b[0mX\u001b[0m\u001b[1;33m,\u001b[0m \u001b[0mX_T\u001b[0m\u001b[1;33m.\u001b[0m\u001b[0mconj\u001b[0m\u001b[1;33m(\u001b[0m\u001b[1;33m)\u001b[0m\u001b[1;33m)\u001b[0m\u001b[1;33m\u001b[0m\u001b[0m\n\u001b[0m\u001b[0;32m   2455\u001b[0m     \u001b[0mc\u001b[0m \u001b[1;33m*=\u001b[0m \u001b[0mnp\u001b[0m\u001b[1;33m.\u001b[0m\u001b[0mtrue_divide\u001b[0m\u001b[1;33m(\u001b[0m\u001b[1;36m1\u001b[0m\u001b[1;33m,\u001b[0m \u001b[0mfact\u001b[0m\u001b[1;33m)\u001b[0m\u001b[1;33m\u001b[0m\u001b[0m\n\u001b[0;32m   2456\u001b[0m     \u001b[1;32mreturn\u001b[0m \u001b[0mc\u001b[0m\u001b[1;33m.\u001b[0m\u001b[0msqueeze\u001b[0m\u001b[1;33m(\u001b[0m\u001b[1;33m)\u001b[0m\u001b[1;33m\u001b[0m\u001b[0m\n",
      "\u001b[1;32m<__array_function__ internals>\u001b[0m in \u001b[0;36mdot\u001b[1;34m(*args, **kwargs)\u001b[0m\n",
      "\u001b[1;31mKeyboardInterrupt\u001b[0m: "
     ]
    }
   ],
   "source": [
    "samples = sampler.run()\n",
    "print('Done!')"
   ]
  },
  {
   "cell_type": "code",
   "execution_count": null,
   "metadata": {},
   "outputs": [],
   "source": [
    "sigma = 2\n",
    "r = 4\n",
    "log_pdf = pints.toy.SimpleEggBoxLogPDF(sigma, r)\n",
    "\n",
    "# Contour plot of pdf\n",
    "levels = np.linspace(-100, 0, 20)\n",
    "x = np.linspace(-15, 15, 100)\n",
    "y = np.linspace(-15, 15, 100)\n",
    "X, Y = np.meshgrid(x, y)\n",
    "Z = [[np.exp(log_pdf([i, j])) for i in x] for j in y]\n",
    "\n",
    "plt.figure()\n",
    "plt.contour(X, Y, Z, colors='k')\n",
    "plt.scatter(-15 + 30 * samples[:, 0], -15 + 30 * samples[:, 1], marker='.')\n",
    "plt.xlim(-15, 15)\n",
    "plt.ylim(-15, 15)\n",
    "plt.show()"
   ]
  },
  {
   "cell_type": "code",
   "execution_count": null,
   "metadata": {},
   "outputs": [],
   "source": [
    "print('effective sample size = ' + str(sampler.effective_sample_size()))"
   ]
  },
  {
   "cell_type": "code",
   "execution_count": null,
   "metadata": {},
   "outputs": [],
   "source": [
    "print('marginal log-likelihood = ' + str(sampler.marginal_log_likelihood())\n",
    "      + ' ± ' + str(sampler.marginal_log_likelihood_standard_deviation()))"
   ]
  }
 ],
 "metadata": {
  "kernelspec": {
   "display_name": "Python 3",
   "language": "python",
   "name": "python3"
  },
  "language_info": {
   "codemirror_mode": {
    "name": "ipython",
    "version": 3
   },
   "file_extension": ".py",
   "mimetype": "text/x-python",
   "name": "python",
   "nbconvert_exporter": "python",
   "pygments_lexer": "ipython3",
   "version": "3.6.3"
  }
 },
 "nbformat": 4,
 "nbformat_minor": 2
}
