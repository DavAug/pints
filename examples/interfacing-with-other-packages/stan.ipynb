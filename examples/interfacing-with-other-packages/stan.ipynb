{
 "cells": [
  {
   "cell_type": "markdown",
   "metadata": {},
   "source": [
    "# Interfacing with Stan\n",
    "This notebook explains how it is possible to interface with Stan to make use of their log-probability calculations, gradient calculation (via autodiff) and their large library of probability distributions."
   ]
  },
  {
   "cell_type": "code",
   "execution_count": 1,
   "metadata": {
    "collapsed": true
   },
   "outputs": [],
   "source": [
    "import pystan\n",
    "import pickle"
   ]
  },
  {
   "cell_type": "code",
   "execution_count": 2,
   "metadata": {
    "collapsed": true
   },
   "outputs": [],
   "source": [
    "code=\"\"\"data {\n",
    "  int<lower=0> J;\n",
    "  real y[J];\n",
    "  real<lower=0> sigma[J];\n",
    "}\n",
    "\n",
    "parameters {\n",
    "  real mu;\n",
    "  real<lower=0> tau;\n",
    "  real theta[J];\n",
    "}\n",
    "\n",
    "model {\n",
    "  mu ~ normal(0, 5);\n",
    "  tau ~ cauchy(0, 5);\n",
    "  theta ~ normal(mu, tau);\n",
    "  y ~ normal(theta, sigma);\n",
    "}\n",
    "\"\"\""
   ]
  },
  {
   "cell_type": "code",
   "execution_count": 3,
   "metadata": {},
   "outputs": [],
   "source": [
    "sm = pickle.load(open('model.pkl', 'rb'))\n",
    "# sm = pystan.StanModel(model_code=code)"
   ]
  },
  {
   "cell_type": "code",
   "execution_count": 4,
   "metadata": {},
   "outputs": [],
   "source": [
    "# with open('model.pkl', 'wb') as f:\n",
    "#     pickle.dump(sm, f)"
   ]
  },
  {
   "cell_type": "code",
   "execution_count": 5,
   "metadata": {
    "collapsed": true
   },
   "outputs": [],
   "source": [
    "import os\n",
    "os.chdir(\"../../\")\n",
    "import pints\n",
    "import pints.toy\n",
    "import numpy as np\n",
    "import matplotlib.pyplot as plt\n",
    "import pandas as pd\n",
    "import scipy\n",
    "import time\n",
    "import scipy.stats"
   ]
  },
  {
   "cell_type": "code",
   "execution_count": 6,
   "metadata": {},
   "outputs": [],
   "source": [
    "model = pints.toy.EightSchoolsCenteredLogPDF()"
   ]
  },
  {
   "cell_type": "code",
   "execution_count": 7,
   "metadata": {},
   "outputs": [
    {
     "name": "stderr",
     "output_type": "stream",
     "text": [
      "WARNING:pystan:n_eff / iter below 0.001 indicates that the effective sample size has likely been overestimated\n",
      "WARNING:pystan:Rhat above 1.1 or below 0.9 indicates that the chains very likely have not mixed\n"
     ]
    }
   ],
   "source": [
    "fit = sm.sampling(data=model.data(), iter=10, chains=1, verbose=True, refresh=10)"
   ]
  },
  {
   "cell_type": "code",
   "execution_count": 92,
   "metadata": {},
   "outputs": [
    {
     "name": "stdout",
     "output_type": "stream",
     "text": [
      "['mu', 'tau', 'theta.1', 'theta.2', 'theta.3', 'theta.4', 'theta.5', 'theta.6', 'theta.7', 'theta.8']\n",
      "-7.387585620114306\n",
      "[1. 0. 2. 2. 2. 2. 2. 2. 2. 2.]\n"
     ]
    }
   ],
   "source": [
    "print(fit.unconstrained_param_names())\n",
    "constrain_to_unconstrained = fit.unconstrain_pars\n",
    "log_prob = fit.log_prob\n",
    "print(log_prob(constrain_to_unconstrained({'mu':1, 'tau':1, 'theta': [2] * 8}), adjust_transform=True))\n",
    "fit.grad_log_prob(constrain_to_unconstrained({'mu':1, 'tau':1, 'theta': [2] * 8}))\n",
    "print(constrain_to_unconstrained({'mu':1, 'tau':1, 'theta': [2] * 8}))"
   ]
  },
  {
   "cell_type": "code",
   "execution_count": 137,
   "metadata": {
    "collapsed": true
   },
   "outputs": [],
   "source": [
    "class EightSchoolsStanLogPDF(pints.LogPDF):\n",
    "    def __init__(self, stanfit):\n",
    "        self._fit = stanfit\n",
    "        self._log_prob = stanfit.log_prob\n",
    "        self._grad_log_prob = stanfit.grad_log_prob\n",
    "        # Stan takes dictionary of parameter values\n",
    "        self._dict_dynamic = {'mu':1, 'tau':1, 'theta': [2] * 8}\n",
    "        # convert variables from unconstrained to constrained space\n",
    "        self._u_to_c = stanfit.unconstrain_pars\n",
    "\n",
    "    def __call__(self, x):\n",
    "        self._dict_update(x)\n",
    "        return self._log_prob(self._u_to_c(self._dict_dynamic))\n",
    "    \n",
    "    def _dict_update(self, x):\n",
    "        self._dict_dynamic[\"mu\"] = x[0]\n",
    "        self._dict_dynamic[\"tau\"] = x[1]\n",
    "        self._dict_dynamic[\"theta\"] = x[2:]\n",
    "    \n",
    "    def evaluateS1(self, x):\n",
    "        self._dict_update(x)\n",
    "        uncons = self._u_to_c(self._dict_dynamic)\n",
    "        return self._log_prob(uncons, adjust_transform=True), self._grad_log_prob(uncons, adjust_transform=True)\n",
    "\n",
    "    def n_parameters(self):\n",
    "        return 10"
   ]
  },
  {
   "cell_type": "code",
   "execution_count": 139,
   "metadata": {},
   "outputs": [
    {
     "ename": "IndexError",
     "evalue": "list index out of range",
     "output_type": "error",
     "traceback": [
      "\u001b[0;31m---------------------------------------------------------------------------\u001b[0m",
      "\u001b[0;31mIndexError\u001b[0m                                Traceback (most recent call last)",
      "\u001b[0;32m<ipython-input-139-70661c85e6fe>\u001b[0m in \u001b[0;36m<module>\u001b[0;34m\u001b[0m\n\u001b[1;32m      1\u001b[0m \u001b[0mstanmodel\u001b[0m \u001b[0;34m=\u001b[0m \u001b[0mEightSchoolsStanLogPDF\u001b[0m\u001b[0;34m(\u001b[0m\u001b[0mfit\u001b[0m\u001b[0;34m)\u001b[0m\u001b[0;34m\u001b[0m\u001b[0;34m\u001b[0m\u001b[0m\n\u001b[0;32m----> 2\u001b[0;31m \u001b[0mstanmodel\u001b[0m\u001b[0;34m.\u001b[0m\u001b[0mevaluateS1\u001b[0m\u001b[0;34m(\u001b[0m\u001b[0;34m[\u001b[0m\u001b[0mxs\u001b[0m\u001b[0;34m]\u001b[0m\u001b[0;34m)\u001b[0m\u001b[0;34m\u001b[0m\u001b[0;34m\u001b[0m\u001b[0m\n\u001b[0m\u001b[1;32m      3\u001b[0m \u001b[0;36m1\u001b[0m\u001b[0;34m+\u001b[0m\u001b[0;36m1\u001b[0m\u001b[0;34m\u001b[0m\u001b[0;34m\u001b[0m\u001b[0m\n",
      "\u001b[0;32m<ipython-input-137-e9e9c6a93068>\u001b[0m in \u001b[0;36mevaluateS1\u001b[0;34m(self, x)\u001b[0m\n\u001b[1;32m     19\u001b[0m \u001b[0;34m\u001b[0m\u001b[0m\n\u001b[1;32m     20\u001b[0m     \u001b[0;32mdef\u001b[0m \u001b[0mevaluateS1\u001b[0m\u001b[0;34m(\u001b[0m\u001b[0mself\u001b[0m\u001b[0;34m,\u001b[0m \u001b[0mx\u001b[0m\u001b[0;34m)\u001b[0m\u001b[0;34m:\u001b[0m\u001b[0;34m\u001b[0m\u001b[0;34m\u001b[0m\u001b[0m\n\u001b[0;32m---> 21\u001b[0;31m         \u001b[0mself\u001b[0m\u001b[0;34m.\u001b[0m\u001b[0m_dict_update\u001b[0m\u001b[0;34m(\u001b[0m\u001b[0mx\u001b[0m\u001b[0;34m)\u001b[0m\u001b[0;34m\u001b[0m\u001b[0;34m\u001b[0m\u001b[0m\n\u001b[0m\u001b[1;32m     22\u001b[0m         \u001b[0muncons\u001b[0m \u001b[0;34m=\u001b[0m \u001b[0mself\u001b[0m\u001b[0;34m.\u001b[0m\u001b[0m_u_to_c\u001b[0m\u001b[0;34m(\u001b[0m\u001b[0mself\u001b[0m\u001b[0;34m.\u001b[0m\u001b[0m_dict_dynamic\u001b[0m\u001b[0;34m)\u001b[0m\u001b[0;34m\u001b[0m\u001b[0;34m\u001b[0m\u001b[0m\n\u001b[1;32m     23\u001b[0m         \u001b[0;32mreturn\u001b[0m \u001b[0mself\u001b[0m\u001b[0;34m.\u001b[0m\u001b[0m_log_prob\u001b[0m\u001b[0;34m(\u001b[0m\u001b[0muncons\u001b[0m\u001b[0;34m,\u001b[0m \u001b[0madjust_transform\u001b[0m\u001b[0;34m=\u001b[0m\u001b[0;32mTrue\u001b[0m\u001b[0;34m)\u001b[0m\u001b[0;34m,\u001b[0m \u001b[0mself\u001b[0m\u001b[0;34m.\u001b[0m\u001b[0m_grad_log_prob\u001b[0m\u001b[0;34m(\u001b[0m\u001b[0muncons\u001b[0m\u001b[0;34m,\u001b[0m \u001b[0madjust_transform\u001b[0m\u001b[0;34m=\u001b[0m\u001b[0;32mTrue\u001b[0m\u001b[0;34m)\u001b[0m\u001b[0;34m\u001b[0m\u001b[0;34m\u001b[0m\u001b[0m\n",
      "\u001b[0;32m<ipython-input-137-e9e9c6a93068>\u001b[0m in \u001b[0;36m_dict_update\u001b[0;34m(self, x)\u001b[0m\n\u001b[1;32m     15\u001b[0m     \u001b[0;32mdef\u001b[0m \u001b[0m_dict_update\u001b[0m\u001b[0;34m(\u001b[0m\u001b[0mself\u001b[0m\u001b[0;34m,\u001b[0m \u001b[0mx\u001b[0m\u001b[0;34m)\u001b[0m\u001b[0;34m:\u001b[0m\u001b[0;34m\u001b[0m\u001b[0;34m\u001b[0m\u001b[0m\n\u001b[1;32m     16\u001b[0m         \u001b[0mself\u001b[0m\u001b[0;34m.\u001b[0m\u001b[0m_dict_dynamic\u001b[0m\u001b[0;34m[\u001b[0m\u001b[0;34m\"mu\"\u001b[0m\u001b[0;34m]\u001b[0m \u001b[0;34m=\u001b[0m \u001b[0mx\u001b[0m\u001b[0;34m[\u001b[0m\u001b[0;36m0\u001b[0m\u001b[0;34m]\u001b[0m\u001b[0;34m\u001b[0m\u001b[0;34m\u001b[0m\u001b[0m\n\u001b[0;32m---> 17\u001b[0;31m         \u001b[0mself\u001b[0m\u001b[0;34m.\u001b[0m\u001b[0m_dict_dynamic\u001b[0m\u001b[0;34m[\u001b[0m\u001b[0;34m\"tau\"\u001b[0m\u001b[0;34m]\u001b[0m \u001b[0;34m=\u001b[0m \u001b[0mx\u001b[0m\u001b[0;34m[\u001b[0m\u001b[0;36m1\u001b[0m\u001b[0;34m]\u001b[0m\u001b[0;34m\u001b[0m\u001b[0;34m\u001b[0m\u001b[0m\n\u001b[0m\u001b[1;32m     18\u001b[0m         \u001b[0mself\u001b[0m\u001b[0;34m.\u001b[0m\u001b[0m_dict_dynamic\u001b[0m\u001b[0;34m[\u001b[0m\u001b[0;34m\"theta\"\u001b[0m\u001b[0;34m]\u001b[0m \u001b[0;34m=\u001b[0m \u001b[0mx\u001b[0m\u001b[0;34m[\u001b[0m\u001b[0;36m2\u001b[0m\u001b[0;34m:\u001b[0m\u001b[0;34m]\u001b[0m\u001b[0;34m\u001b[0m\u001b[0;34m\u001b[0m\u001b[0m\n\u001b[1;32m     19\u001b[0m \u001b[0;34m\u001b[0m\u001b[0m\n",
      "\u001b[0;31mIndexError\u001b[0m: list index out of range"
     ]
    }
   ],
   "source": [
    "stanmodel = EightSchoolsStanLogPDF(fit)\n",
    "stanmodel.evaluateS1([xs])\n",
    "1+1"
   ]
  },
  {
   "cell_type": "code",
   "execution_count": 158,
   "metadata": {},
   "outputs": [
    {
     "name": "stdout",
     "output_type": "stream",
     "text": [
      "Running...\n",
      "Using Hamiltonian Monte Carlo\n",
      "Generating 4 chains.\n",
      "Running in sequential mode.\n",
      "Iter. Eval. Accept.   Accept.   Accept.   Accept.   Time m:s\n",
      "0     4      0         0         0         0          0:00.0\n",
      "1     84     0.333     0.333     0.333     0.333      0:00.0\n",
      "2     164    0.5       0.5       0.5       0.25       0:00.0\n",
      "3     244    0.6       0.6       0.6       0.4        0:00.0\n",
      "100   8004   0.922     0.892     0.922     0.872549   0:01.1\n",
      "200   16004  0.931     0.851     0.911     0.911      0:02.3\n",
      "300   24004  0.937     0.877     0.934     0.901      0:03.5\n",
      "400   32004  0.928     0.89801   0.920398  0.908      0:04.6\n",
      "500   40004  0.92      0.914     0.914     0.894      0:05.8\n",
      "600   48004  0.929     0.925     0.904     0.904      0:06.9\n",
      "700   56004  0.917     0.91      0.883     0.896      0:08.1\n",
      "800   64004  0.925187  0.909     0.867     0.89       0:09.2\n",
      "900   72004  0.926     0.907     0.874     0.882      0:10.4\n",
      "1000  79924  0.926     0.907     0.865     0.89       0:11.5\n",
      "Halting: Maximum number of iterations (1000) reached.\n",
      "Done!\n"
     ]
    }
   ],
   "source": [
    "# initialise\n",
    "xs = [np.random.normal(size=10) for chain in range(4)]\n",
    "# set 1st element of each list to positive number since corresponds to a scale parameter\n",
    "for x in xs:\n",
    "    x[1] = np.random.uniform()\n",
    "\n",
    "mcmc = pints.MCMCController(stanmodel, len(xs), xs, method=pints.HamiltonianMCMC)\n",
    "\n",
    "# Add stopping criterion\n",
    "mcmc.set_max_iterations(1000)\n",
    "\n",
    "# Set up modest logging\n",
    "mcmc.set_log_to_screen(True)\n",
    "mcmc.set_log_interval(100)\n",
    "\n",
    "# # Update step sizes used by individual samplers\n",
    "for sampler in mcmc.samplers():\n",
    "    sampler.set_leapfrog_step_size(0.1)\n",
    "\n",
    "start = time.time()\n",
    "# Run!\n",
    "print('Running...')\n",
    "full_chains = mcmc.run()\n",
    "print('Done!')\n",
    "end = time.time()"
   ]
  },
  {
   "cell_type": "code",
   "execution_count": 159,
   "metadata": {},
   "outputs": [
    {
     "name": "stdout",
     "output_type": "stream",
     "text": [
      "param    mean    std.    2.5%    25%    50%    75%    97.5%    rhat    ess    ess per sec.\n",
      "-------  ------  ------  ------  -----  -----  -----  -------  ------  -----  --------------\n",
      "mu       -0.13   1.61    -4.16   -0.83  0.09   1.02   2.29     1.44    28.44  2.48\n",
      "tau      2.37    1.30    0.58    1.46   2.10   2.88   5.87     1.28    32.34  2.82\n",
      "theta.1  0.77    1.84    -3.44   -0.38  1.05   2.08   3.81     1.00    20.35  1.77\n",
      "theta.2  0.47    2.04    -3.31   -0.88  0.53   1.54   4.87     1.28    26.06  2.27\n",
      "theta.3  -0.26   2.54    -7.16   -1.57  0.13   1.23   4.05     1.34    30.91  2.69\n",
      "theta.4  0.74    2.05    -2.81   -0.62  0.46   1.89   5.77     1.23    38.47  3.35\n",
      "theta.5  -1.33   3.96    -8.93   -5.15  -0.13  1.71   3.96     1.70    17.08  1.49\n",
      "theta.6  -0.31   1.95    -4.94   -1.56  -0.03  1.12   2.77     1.54    33.30  2.90\n",
      "theta.7  -0.81   2.06    -5.96   -1.75  -0.58  0.60   2.66     1.26    28.81  2.51\n",
      "theta.8  -0.13   1.69    -2.85   -1.37  -0.42  1.04   3.49     1.24    28.64  2.49\n"
     ]
    }
   ],
   "source": [
    "results = pints.MCMCSummary(chains=full_chains, time=(end-start), parameter_names=fit.unconstrained_param_names())\n",
    "print(results)"
   ]
  }
 ],
 "metadata": {
  "kernelspec": {
   "display_name": "Python 3",
   "language": "python",
   "name": "python3"
  },
  "language_info": {
   "codemirror_mode": {
    "name": "ipython",
    "version": 3
   },
   "file_extension": ".py",
   "mimetype": "text/x-python",
   "name": "python",
   "nbconvert_exporter": "python",
   "pygments_lexer": "ipython3",
   "version": "3.7.7"
  }
 },
 "nbformat": 4,
 "nbformat_minor": 2
}
