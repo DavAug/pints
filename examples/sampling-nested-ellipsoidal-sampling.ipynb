{
 "cells": [
  {
   "cell_type": "markdown",
   "metadata": {},
   "source": [
    "# Ellipsoidal nested sampling\n",
    "\n",
    "This example demonstrates how to use ellipsoidal nested rejection sampling [1] to sample from the posterior distribution for a logistic model fitted to model-simulated data.\n",
    "\n",
    "[1] \"A nested sampling algorithm for cosmological model selection\", Pia Mukherjee, David Parkinson and Andrew R. Liddle, [arXiv:astro-ph/0508461v2](https://arxiv.org/abs/astro-ph/0508461)."
   ]
  },
  {
   "cell_type": "markdown",
   "metadata": {},
   "source": [
    "First create fake data."
   ]
  },
  {
   "cell_type": "code",
   "execution_count": 1,
   "metadata": {},
   "outputs": [
    {
     "data": {
      "image/png": "[encoded data removed]",
      "text/plain": [
       "<matplotlib.figure.Figure at 0x1e9d4eded68>"
      ]
     },
     "metadata": {},
     "output_type": "display_data"
    }
   ],
   "source": [
    "import pints\n",
    "import pints.toy as toy\n",
    "import numpy as np\n",
    "import matplotlib.pyplot as plt\n",
    "\n",
    "# Load a forward model\n",
    "model = toy.LogisticModel()\n",
    "\n",
    "# Create some toy data\n",
    "r = 0.015\n",
    "k = 500\n",
    "real_parameters = [r, k]\n",
    "times = np.linspace(0, 1000, 100)\n",
    "signal_values = model.simulate(real_parameters, times)\n",
    "\n",
    "# Add independent Gaussian noise\n",
    "sigma = 10\n",
    "observed_values = signal_values + pints.noise.independent(sigma, signal_values.shape)\n",
    "\n",
    "# Plot\n",
    "plt.plot(times,signal_values,label = 'signal')\n",
    "plt.plot(times,observed_values,label = 'observed')\n",
    "plt.xlabel('Time')\n",
    "plt.ylabel('Values')\n",
    "plt.legend()\n",
    "plt.show()"
   ]
  },
  {
   "cell_type": "markdown",
   "metadata": {},
   "source": [
    "Create the nested sampler that will be used to sample from the posterior."
   ]
  },
  {
   "cell_type": "code",
   "execution_count": 2,
   "metadata": {
    "collapsed": true
   },
   "outputs": [],
   "source": [
    "# Create an object with links to the model and time series\n",
    "problem = pints.SingleOutputProblem(model, times, observed_values)\n",
    "\n",
    "# Create a log-likelihood function (adds an extra parameter!)\n",
    "log_likelihood = pints.GaussianLogLikelihood(problem)\n",
    "\n",
    "# Create a uniform prior over both the parameters and the new noise variable\n",
    "log_prior = pints.UniformLogPrior(\n",
    "    [0.01, 400, sigma * 0.5],\n",
    "    [0.02, 600, sigma * 1.5])\n",
    "\n",
    "# Create a nested ellipsoidal rejectection sampler\n",
    "sampler = pints.NestedController(log_likelihood, log_prior, method=pints.NestedEllipsoidSampler)\n",
    "\n",
    "# Set number of iterations\n",
    "sampler.set_iterations(8000)\n",
    "\n",
    "# Set the number of posterior samples to generate\n",
    "sampler.set_n_posterior_samples(1600)"
   ]
  },
  {
   "cell_type": "markdown",
   "metadata": {},
   "source": [
    "Run the sampler!"
   ]
  },
  {
   "cell_type": "code",
   "execution_count": 3,
   "metadata": {},
   "outputs": [
    {
     "name": "stdout",
     "output_type": "stream",
     "text": [
      "Running Nested ellipsoidal sampler\n",
      "Number of active points: 400\n",
      "Total number of iterations: 8000\n",
      "Total number of posterior samples: 1600\n",
      "Iter. Eval. Time m:s Delta_log(z) Acceptance rate\n",
      "0     1       0:00.0 -inf          1             \n",
      "0     2       0:00.0 -inf          1             \n",
      "0     3       0:00.0 -inf          1             \n",
      "0     4       0:00.0 -inf          1             \n",
      "0     5       0:00.0 -inf          1             \n",
      "0     21      0:00.0 -inf          1             \n",
      "0     41      0:00.0 -inf          1             \n",
      "0     61      0:00.0 -inf          1             \n",
      "0     81      0:00.0 -inf          1             \n",
      "0     101     0:00.0 -inf          1             \n",
      "0     121     0:00.0 -inf          1             \n",
      "0     141     0:00.0 -inf          1             \n",
      "0     161     0:00.0 -inf          1             \n",
      "0     181     0:00.0 -inf          1             \n",
      "0     201     0:00.0 -inf          1             \n",
      "0     221     0:00.0 -inf          1             \n",
      "0     241     0:00.0 -inf          1             \n",
      "0     261     0:00.0 -inf          1             \n",
      "0     281     0:00.0 -inf          1             \n",
      "0     301     0:00.0 -inf          1             \n",
      "0     321     0:00.0 -inf          1             \n",
      "0     341     0:00.0 -inf          1             \n",
      "0     361     0:00.0 -inf          1             \n",
      "0     381     0:00.0 -inf          1             \n",
      "400   401     0:00.0 -inf          1             \n",
      "420   421     0:00.0 -11911.26505  1             \n",
      "440   443     0:00.0 -8715.866517  0.953488372093\n",
      "460   466     0:00.1 -6928.353807  0.924242424   \n",
      "480   491     0:00.1 -6009.694963  0.89010989    \n",
      "500   518     0:00.1 -5193.166361  0.855932203   \n",
      "520   545     0:00.1 -4404.833445  0.834482759   \n",
      "540   570     0:00.1 -3800.756808  0.829411765   \n",
      "560   600     0:00.1 -3494.656335  0.805         \n",
      "580   633     0:00.1 -3008.263848  0.776824034   \n",
      "600   662     0:00.1 -2726.93662   0.767175573   \n",
      "620   689     0:00.1 -2430.654843  0.764705882   \n",
      "640   727     0:00.2 -2263.684053  0.737003058104\n",
      "660   770     0:00.2 -2107.92539   0.705405405   \n",
      "680   804     0:00.2 -1947.306006  0.695544554   \n",
      "700   843     0:00.2 -1817.745651  0.679458239   \n",
      "720   875     0:00.2 -1694.693555  0.675789474   \n",
      "740   910     0:00.3 -1580.922814  0.668627451   \n",
      "760   951     0:00.3 -1483.29578   0.655172414   \n",
      "780   987     0:00.3 -1382.281668  0.649063032368\n",
      "800   1027    0:00.3 -1313.663442  0.639553429   \n",
      "820   1067    0:00.4 -1245.55898   0.631184408   \n",
      "840   1109    0:00.4 -1175.052068  0.622002821   \n",
      "860   1151    0:00.4 -1111.344036  0.613848202   \n",
      "880   1198    0:00.4 -1049.272018  0.602756892   \n",
      "900   1244    0:00.4 -1008.054959  0.593601896   \n",
      "920   1283    0:00.5 -958.3957456  0.590033975   \n",
      "940   1321    0:00.5 -896.3078237  0.587404995   \n",
      "960   1378    0:00.5 -858.8510523  0.573619632   \n",
      "980   1434    0:00.5 -821.1021258  0.561895551   \n",
      "1000  1475    0:00.5 -779.8414465  0.559069767   \n",
      "1020  1508    0:00.6 -751.8699762  0.560469314   \n",
      "1040  1564    0:00.6 -722.0617037  0.550687285   \n",
      "1060  1612    0:00.6 -691.1510667  0.545379538   \n",
      "1080  1653    0:00.6 -656.0381327  0.543495611   \n",
      "1100  1696    0:00.6 -626.4395871  0.540895062   \n",
      "1120  1741    0:00.6 -591.4736797  0.537658463833\n",
      "1140  1785    0:00.7 -557.6978012  0.535018051   \n",
      "1160  1827    0:00.7 -530.0369546  0.533286615   \n",
      "1180  1874    0:00.7 -486.7437247  0.529850746   \n",
      "1200  1920    0:00.7 -467.5555256  0.526973684   \n",
      "1220  1968    0:00.8 -436.5259972  0.523596939   \n",
      "1240  2008    0:00.8 -416.4214204  0.52300995    \n",
      "1260  2063    0:00.8 -396.6362075  0.517739026   \n",
      "1280  2132    0:00.8 -373.5550596  0.508660508   \n",
      "1300  2192    0:00.9 -360.1820969  0.502790179   \n"
     ]
    },
    {
     "name": "stderr",
     "output_type": "stream",
     "text": [
      "c:\\users\\bclamber\\desktop\\pints\\pints\\_log_likelihoods.py:480: RuntimeWarning: invalid value encountered in log\n",
      "  - np.sum(error**2, axis=0) / (2 * sigma**2))\n"
     ]
    },
    {
     "name": "stdout",
     "output_type": "stream",
     "text": [
      "1320  2227    0:00.9 -347.8914092  0.504105090312\n",
      "1340  2281    0:00.9 -330.6168775  0.500265816   \n",
      "1360  2328    0:00.9 -309.2282     0.498443983   \n",
      "1380  2370    0:00.9 -293.8171853  0.497969543   \n",
      "1400  2410    0:01.0 -279.8934357  0.49800995    \n",
      "1420  2451    0:01.0 -266.3189897  0.497805948   \n",
      "1440  2484    0:01.0 -258.0378128  0.499520154   \n",
      "1460  2552    0:01.0 -247.4052507  0.493029739777\n",
      "1480  2600    0:01.1 -236.8658589  0.491363636   \n",
      "1500  2636    0:01.1 -225.173008   0.492397137746\n",
      "1520  2687    0:01.1 -213.9476203  0.490161784   \n",
      "1540  2732    0:01.1 -201.6655181  0.489279588   \n",
      "1560  2774    0:01.2 -189.7239471  0.489048020219\n",
      "1580  2837    0:01.2 -181.5782863  0.484612228   \n",
      "1600  2869    0:01.2 -172.8958572  0.486431754   \n",
      "1620  2916    0:01.2 -168.909559   0.485294118   \n",
      "1640  2956    0:01.3 -163.0577496  0.485524256651\n",
      "1660  3004    0:01.3 -156.4250572  0.484254992   \n",
      "1680  3064    0:01.3 -148.3997213  0.480855856   \n",
      "1700  3115    0:01.3 -143.3496959  0.479189687   \n",
      "1720  3162    0:01.3 -138.3245506  0.478276611   \n",
      "1740  3206    0:01.4 -134.1346419  0.47790449    \n",
      "1760  3252    0:01.4 -131.2491967  0.477208976   \n",
      "1780  3302    0:01.4 -128.7289796  0.475878704   \n",
      "1800  3351    0:01.4 -125.4292153  0.474754321   \n",
      "1820  3414    0:01.4 -121.7685949  0.47146649    \n",
      "1840  3468    0:01.5 -119.3271243  0.469687093   \n",
      "1860  3533    0:01.5 -117.7272666  0.466326205   \n",
      "1880  3591    0:01.5 -115.8629766  0.464117831   \n",
      "1900  3659    0:01.5 -113.6249591  0.460570727   \n",
      "1920  3688    0:01.5 -111.2961595  0.462591241   \n",
      "1940  3735    0:01.6 -109.2326563  0.462068966   \n",
      "1960  3778    0:01.6 -106.8192379  0.462107756   \n",
      "1980  3827    0:01.6 -104.7047287  0.461336445871\n",
      "2000  3864    0:01.6 -103.0199629  0.462182448037\n",
      "2020  3896    0:01.6 -101.3588159  0.463672769   \n",
      "2040  3931    0:01.7 -99.69947733  0.46474086661 \n",
      "2060  3969    0:01.7 -98.37368538  0.46539647    \n",
      "2080  4018    0:01.7 -97.04980984  0.464621338   \n",
      "2100  4064    0:01.7 -94.985874    0.464246725   \n",
      "2120  4109    0:01.7 -92.99196745  0.464006471   \n",
      "2140  4152    0:01.7 -91.0547028   0.46401919    \n",
      "2160  4198    0:01.7 -89.00023975  0.463665087   \n",
      "2180  4239    0:01.8 -87.3405158   0.463922897   \n",
      "2200  4283    0:01.8 -85.62068826  0.463816637   \n",
      "2220  4317    0:01.8 -83.96546431  0.464896605   \n",
      "2240  4349    0:01.8 -82.21914176  0.466193973   \n",
      "2260  4392    0:01.8 -80.71254725  0.466182365   \n",
      "2280  4428    0:01.8 -79.05248403  0.466981132   \n",
      "2300  4479    0:01.9 -77.80199065  0.466045599   \n",
      "2320  4509    0:01.9 -76.77561742  0.467510343   \n",
      "2340  4544    0:01.9 -75.56893792  0.468388030888\n",
      "2360  4592    0:01.9 -74.33612638  0.467795802   \n",
      "2380  4620    0:01.9 -73.22354966  0.46943128    \n",
      "2400  4660    0:01.9 -71.81705188  0.46971831    \n",
      "2420  4694    0:02.0 -70.48461223  0.47065673    \n",
      "2440  4731    0:02.0 -69.02172142  0.471253752   \n",
      "2460  4759    0:02.0 -67.39436755  0.472814866   \n",
      "2480  4795    0:02.0 -65.81389835  0.473492605   \n",
      "2500  4838    0:02.0 -64.40978834  0.473411447   \n",
      "2520  4864    0:02.0 -63.12941369  0.475134409   \n",
      "2540  4896    0:02.1 -62.13440302  0.476201068   \n",
      "2560  4927    0:02.1 -61.21811772  0.477358074   \n",
      "2580  4960    0:02.1 -60.10553601  0.478289474   \n",
      "2600  4996    0:02.1 -58.80270939  0.478894691   \n",
      "2620  5028    0:02.1 -57.27169718  0.479904927   \n",
      "2640  5062    0:02.1 -55.87950366  0.480694980695\n",
      "2660  5093    0:02.1 -54.77287961  0.481781377   \n",
      "2680  5120    0:02.2 -53.78207452  0.483262712   \n",
      "2700  5156    0:02.2 -52.65213006  0.483809924   \n",
      "2720  5178    0:02.2 -51.60964226  0.485768104   \n",
      "2740  5210    0:02.2 -50.38897455  0.486694387   \n",
      "2760  5242    0:02.2 -49.35323614  0.487608426   \n",
      "2780  5268    0:02.2 -48.32677125  0.489112572   \n",
      "2800  5298    0:02.3 -47.0305815   0.490200081666\n",
      "2820  5329    0:02.3 -45.79783579  0.49117468    \n",
      "2840  5357    0:02.3 -44.69912963  0.49243494    \n",
      "2860  5387    0:02.3 -43.64574566  0.493483056   \n",
      "2880  5416    0:02.3 -42.54323271  0.494617225   \n",
      "2900  5448    0:02.3 -41.42563312  0.49544374    \n",
      "2920  5477    0:02.3 -40.279756    0.496553083   \n",
      "2940  5517    0:02.4 -39.19249142  0.496580027   \n",
      "2960  5550    0:02.4 -38.16092267  0.497281553   \n",
      "2980  5593    0:02.4 -37.2877013   0.497015213   \n",
      "3000  5636    0:02.4 -36.45538616  0.496753247   \n",
      "3020  5662    0:02.4 -37.71183564  0.498099581908\n",
      "3040  5692    0:02.5 -37.03188216  0.499055178   \n",
      "3060  5730    0:02.5 -36.33397241  0.499249531   \n",
      "3080  5762    0:02.5 -35.58366871  0.5           \n",
      "3100  5783    0:02.5 -34.81899499  0.501764815   \n",
      "3120  5808    0:02.5 -34.14792521  0.503143491   \n",
      "3140  5844    0:02.5 -33.27177843  0.503490081   \n",
      "3160  5878    0:02.5 -32.42215474  0.504016064257\n",
      "3180  5905    0:02.6 -31.59303022  0.505177112   \n",
      "3200  5936    0:02.6 -30.87166003  0.505960982659\n",
      "3220  5967    0:02.6 -30.19956956  0.506736124   \n",
      "3240  6001    0:02.6 -29.39256634  0.507230852   \n",
      "3260  6036    0:02.6 -28.66906134  0.507629524   \n",
      "3280  6070    0:02.6 -28.01767172  0.508112875   \n",
      "3300  6111    0:02.7 -27.20073886  0.507967081   \n",
      "3320  6145    0:02.7 -26.38674355  0.508442124   \n",
      "3340  6172    0:02.7 -25.72060932  0.50952876    \n",
      "3360  6195    0:02.7 -25.11615511  0.510957722   \n",
      "3380  6221    0:02.7 -24.50244623  0.512111321   \n",
      "3400  6256    0:02.8 -23.88343281  0.512465847   \n",
      "3420  6279    0:02.8 -23.28154316  0.513862902   \n",
      "3440  6311    0:02.8 -22.69471031  0.514464558   \n",
      "3460  6347    0:02.8 -22.1068939   0.514713301   \n",
      "3480  6381    0:02.8 -21.45250785  0.515131248955\n",
      "3500  6415    0:02.9 -20.7205248   0.515544472153\n",
      "3520  6443    0:02.9 -20.08593335  0.516465332   \n",
      "3540  6475    0:02.9 -19.96062069  0.517037037037\n",
      "3560  6501    0:03.0 -19.38840224  0.518111785   \n",
      "3580  6538    0:03.0 -18.84437368  0.518246986   \n",
      "3600  6568    0:03.0 -18.3164406   0.518968872   \n",
      "3620  6593    0:03.1 -17.76121676  0.520103342   \n",
      "3640  6618    0:03.1 -17.27638748  0.521228691   \n",
      "3660  6655    0:03.1 -16.72872569  0.521342926   \n",
      "3680  6689    0:03.1 -16.27672744  0.521704564   \n",
      "3700  6717    0:03.2 -15.84932967  0.522558176   \n",
      "3720  6741    0:03.2 -15.42415876  0.523734427   \n",
      "3740  6768    0:03.2 -15.00786322  0.524654523   \n",
      "3760  6803    0:03.2 -14.58744116  0.524910198   \n",
      "3780  6837    0:03.2 -14.18600333  0.525244679   \n",
      "3800  6870    0:03.3 -13.80499084  0.525656877898\n",
      "3820  6891    0:03.3 -13.42746065  0.527037436   \n",
      "3840  6928    0:03.3 -13.05739519  0.527113971   \n",
      "3860  6958    0:03.3 -12.7189135   0.527752364   \n",
      "3880  6995    0:03.4 -12.38721254  0.527824109   \n",
      "3900  7026    0:03.4 -12.07254529  0.528373076   \n",
      "3920  7055    0:03.4 -11.77917438  0.529075883   \n",
      "3940  7092    0:03.5 -11.48101367  0.529139271   \n",
      "3960  7132    0:03.5 -11.20117209  0.528966132   \n",
      "3980  7167    0:03.5 -10.91637869  0.529185754   \n",
      "4000  7199    0:03.6 -10.61718223  0.529636711   \n",
      "4020  7227    0:03.6 -10.33186496  0.530394024   \n",
      "4040  7259    0:03.6 -10.0576502   0.530835399   \n",
      "4060  7294    0:03.6 -9.78901418   0.531041485   \n",
      "4080  7321    0:03.7 -9.529702082  0.531859558   \n",
      "4100  7351    0:03.7 -9.279806013  0.532441375   \n",
      "4120  7379    0:03.7 -9.036809651  0.533170941   \n",
      "4140  7413    0:03.7 -8.790905732  0.533437901   \n",
      "4160  7442    0:03.8 -8.54841095   0.534081227   \n",
      "4180  7484    0:03.8 -8.307029097  0.533738001   \n",
      "4200  7513    0:03.8 -8.065665043  0.534373682   \n",
      "4220  7541    0:03.8 -7.818123585  0.535079121   \n",
      "4240  7568    0:03.9 -7.573424418  0.535853795   \n",
      "4260  7596    0:03.9 -7.321558586  0.536548082   \n",
      "4280  7629    0:03.9 -7.084346711  0.536865403237\n",
      "4300  7663    0:03.9 -6.857688582  0.537105879   \n",
      "4320  7692    0:03.9 -6.63237726   0.537712562   \n",
      "4340  7720    0:04.0 -6.413990196  0.538387978   \n",
      "4360  7751    0:04.0 -6.201504222  0.538838253   \n",
      "4380  7776    0:04.0 -5.994051331  0.539723427   \n",
      "4400  7807    0:04.0 -5.794382059  0.540164709059\n",
      "4420  7830    0:04.1 -5.600259358  0.541184388   \n",
      "4440  7857    0:04.1 -5.412781009  0.541906933083\n",
      "4460  7886    0:04.1 -5.234847594  0.542479295   \n",
      "4480  7917    0:04.1 -5.058361986  0.542902754   \n",
      "4500  7949    0:04.1 -4.967290823  0.543250762   \n",
      "4520  7971    0:04.1 -4.790852924  0.544313829   \n",
      "4540  7996    0:04.2 -4.620682586  0.545155345   \n",
      "4560  8030    0:04.2 -4.454715815  0.545347313   \n",
      "4580  8061    0:04.2 -4.294660759  0.545751207   \n",
      "4600  8102    0:04.2 -4.139300498  0.545442742   \n",
      "4620  8124    0:04.3 -3.990015538  0.546478509   \n",
      "4640  8149    0:04.3 -3.846535462  0.547296425   \n",
      "4660  8179    0:04.3 -3.708635108  0.547756781   \n",
      "4680  8206    0:04.3 -3.628049149  0.548424289   \n",
      "4700  8233    0:04.3 -3.498733037  0.549087195   \n",
      "4720  8258    0:04.4 -3.372554218  0.54988546704 \n",
      "4740  8281    0:04.4 -3.287624241  0.550818424   \n"
     ]
    },
    {
     "name": "stdout",
     "output_type": "stream",
     "text": [
      "4760  8309    0:04.4 -3.166120396  0.551397142   \n",
      "4780  8345    0:04.4 -3.047574432  0.551415985   \n",
      "4800  8375    0:04.5 -2.932444447  0.55184953    \n",
      "4820  8399    0:04.5 -2.820368045  0.552694087   \n",
      "4840  8428    0:04.5 -2.711647711  0.553188839   \n",
      "4860  8455    0:04.6 -2.60453396   0.553817505   \n",
      "4880  8487    0:04.6 -2.501087325  0.554099172   \n",
      "4900  8518    0:04.6 -2.398735382  0.554446908   \n",
      "4920  8546    0:04.6 -2.299298082  0.554996317   \n",
      "4940  8573    0:04.7 -2.204017584  0.555609935   \n",
      "4960  8601    0:04.7 -2.112417919  0.556151689   \n",
      "4980  8642    0:04.7 -2.023779949  0.555811696   \n",
      "5000  8682    0:04.8 -1.938311398  0.55554214    \n",
      "5020  8704    0:04.8 -1.854591145  0.556478805395\n",
      "5040  8733    0:04.8 -1.773766565  0.556942278   \n",
      "5060  8773    0:04.8 -1.695712421  0.55667025    \n",
      "5080  8810    0:04.9 -1.620128917  0.556599287   \n",
      "5100  8858    0:04.9 -1.546382146  0.555805154883\n",
      "5120  8885    0:04.9 -1.475246256  0.556393636   \n",
      "5140  8920    0:04.9 -1.407100015  0.556455399061\n",
      "5160  8949    0:05.0 -1.341717977  0.556907241   \n",
      "5180  8977    0:05.0 -1.283181692  0.557421009677\n",
      "5200  9012    0:05.0 -1.222899349  0.557477938   \n",
      "5220  9036    0:05.0 -1.16494304   0.558244558   \n",
      "5240  9061    0:05.1 -1.109383325  0.558942385   \n",
      "5260  9090    0:05.1 -1.05603128   0.559378596   \n",
      "5280  9125    0:05.1 -1.004858733  0.559426934   \n",
      "5300  9161    0:05.1 -0.955776     0.559411026   \n",
      "5320  9186    0:05.2 -0.908934     0.560095607   \n",
      "5340  9212    0:05.2 -0.864267     0.560712665   \n",
      "5360  9240    0:05.2 -0.821579     0.561199095   \n",
      "5380  9274    0:05.2 -0.786474     0.561302682   \n",
      "5400  9303    0:05.2 -0.747425     0.561720768   \n",
      "5420  9328    0:05.2 -0.710204     0.562387993   \n",
      "5440  9361    0:05.3 -0.674722     0.562548822676\n",
      "5460  9395    0:05.3 -0.640993     0.562645914   \n",
      "5480  9422    0:05.3 -0.608876     0.563178896   \n",
      "5500  9453    0:05.3 -0.578342     0.563459627   \n",
      "5520  9480    0:05.4 -0.549186852  0.563986784141\n",
      "5540  9505    0:05.4 -0.521397     0.564634816   \n",
      "Convergence obtained with Delta_z = -0.498803981145\n",
      "Done!\n"
     ]
    }
   ],
   "source": [
    "samples = sampler.run()\n",
    "print('Done!')"
   ]
  },
  {
   "cell_type": "markdown",
   "metadata": {},
   "source": [
    "## Plot posterior samples versus true parameter values (dashed lines)"
   ]
  },
  {
   "cell_type": "code",
   "execution_count": 4,
   "metadata": {},
   "outputs": [
    {
     "data": {
      "image/png": "[encoded data removed]",
      "text/plain": [
       "<matplotlib.figure.Figure at 0x1e9d3dc88d0>"
      ]
     },
     "metadata": {},
     "output_type": "display_data"
    }
   ],
   "source": [
    "# Plot output\n",
    "import pints.plot\n",
    "\n",
    "pints.plot.histogram([samples], ref_parameters=[r, k, sigma])\n",
    "\n",
    "plt.show()"
   ]
  },
  {
   "cell_type": "markdown",
   "metadata": {},
   "source": [
    "## Plot posterior predictive simulations versus the observed data"
   ]
  },
  {
   "cell_type": "code",
   "execution_count": 5,
   "metadata": {},
   "outputs": [
    {
     "data": {
      "image/png": "[encoded data removed]",
      "text/plain": [
       "<matplotlib.figure.Figure at 0x1e9d836c1d0>"
      ]
     },
     "metadata": {},
     "output_type": "display_data"
    }
   ],
   "source": [
    "pints.plot.series(samples[:100], problem)\n",
    "plt.show()"
   ]
  },
  {
   "cell_type": "markdown",
   "metadata": {},
   "source": [
    "## Marginal likelihood estimate"
   ]
  },
  {
   "cell_type": "code",
   "execution_count": 6,
   "metadata": {},
   "outputs": [
    {
     "name": "stdout",
     "output_type": "stream",
     "text": [
      "marginal log-likelihood = -381.045801299 ± 0.079351836243\n"
     ]
    }
   ],
   "source": [
    "print('marginal log-likelihood = ' + str(sampler.marginal_log_likelihood())\n",
    "      + ' ± ' + str(sampler.marginal_log_likelihood_standard_deviation()))"
   ]
  },
  {
   "cell_type": "markdown",
   "metadata": {},
   "source": [
    "## Effective sample size"
   ]
  },
  {
   "cell_type": "code",
   "execution_count": 7,
   "metadata": {},
   "outputs": [
    {
     "name": "stdout",
     "output_type": "stream",
     "text": [
      "effective sample size = 1581.79786037\n"
     ]
    }
   ],
   "source": [
    "print('effective sample size = ' + str(sampler.effective_sample_size()))"
   ]
  },
  {
   "cell_type": "code",
   "execution_count": 29,
   "metadata": {},
   "outputs": [],
   "source": [
    "lst=[None, 1.0, 2.0, None, -3.0]"
   ]
  },
  {
   "cell_type": "code",
   "execution_count": 30,
   "metadata": {},
   "outputs": [
    {
     "data": {
      "text/plain": [
       "3"
      ]
     },
     "execution_count": 30,
     "metadata": {},
     "output_type": "execute_result"
    }
   ],
   "source": [
    "sum(x is not None for x in lst)"
   ]
  },
  {
   "cell_type": "code",
   "execution_count": 46,
   "metadata": {},
   "outputs": [
    {
     "data": {
      "text/plain": [
       "[1, 2, 4]"
      ]
     },
     "execution_count": 46,
     "metadata": {},
     "output_type": "execute_result"
    }
   ],
   "source": [
    "res=[i for i in lst if i]\n",
    "idex = [lst.index(i) for i in res]\n",
    "idex"
   ]
  },
  {
   "cell_type": "code",
   "execution_count": 34,
   "metadata": {},
   "outputs": [
    {
     "data": {
      "text/plain": [
       "2.0"
      ]
     },
     "execution_count": 34,
     "metadata": {},
     "output_type": "execute_result"
    }
   ],
   "source": [
    "np.random.choice(res)"
   ]
  },
  {
   "cell_type": "code",
   "execution_count": 36,
   "metadata": {},
   "outputs": [
    {
     "data": {
      "text/plain": [
       "0"
      ]
     },
     "execution_count": 36,
     "metadata": {},
     "output_type": "execute_result"
    }
   ],
   "source": [
    "res.index(1.0)"
   ]
  },
  {
   "cell_type": "code",
   "execution_count": 55,
   "metadata": {},
   "outputs": [
    {
     "data": {
      "text/plain": [
       "0"
      ]
     },
     "execution_count": 55,
     "metadata": {},
     "output_type": "execute_result"
    }
   ],
   "source": [
    "winners = np.array([[]])\n",
    "winners.size"
   ]
  },
  {
   "cell_type": "code",
   "execution_count": 104,
   "metadata": {},
   "outputs": [
    {
     "data": {
      "text/plain": [
       "0"
      ]
     },
     "execution_count": 104,
     "metadata": {},
     "output_type": "execute_result"
    }
   ],
   "source": [
    "winners = np.column_stack(([1, 2], [4, 5]))\n",
    "winners.size\n",
    "winners1 = np.column_stack(([3, 7], [9, 11]))\n",
    "winners.size\n",
    "winners2 = []\n",
    "len(winners2)"
   ]
  },
  {
   "cell_type": "code",
   "execution_count": 108,
   "metadata": {},
   "outputs": [
    {
     "ename": "ValueError",
     "evalue": "all the input arrays must have same number of dimensions",
     "output_type": "error",
     "traceback": [
      "\u001b[1;31m---------------------------------------------------------------------------\u001b[0m",
      "\u001b[1;31mValueError\u001b[0m                                Traceback (most recent call last)",
      "\u001b[1;32m<ipython-input-108-c9711fcb7b15>\u001b[0m in \u001b[0;36m<module>\u001b[1;34m()\u001b[0m\n\u001b[0;32m      1\u001b[0m \u001b[0mproposed\u001b[0m \u001b[1;33m=\u001b[0m \u001b[1;33m[\u001b[0m\u001b[1;33m[\u001b[0m\u001b[1;36m3\u001b[0m\u001b[1;33m,\u001b[0m \u001b[1;36m4\u001b[0m\u001b[1;33m,\u001b[0m \u001b[1;36m5\u001b[0m\u001b[1;33m]\u001b[0m\u001b[1;33m,\u001b[0m \u001b[1;33m[\u001b[0m\u001b[1;36m6\u001b[0m\u001b[1;33m,\u001b[0m \u001b[1;36m7\u001b[0m\u001b[1;33m,\u001b[0m \u001b[1;36m8\u001b[0m\u001b[1;33m]\u001b[0m\u001b[1;33m]\u001b[0m\u001b[1;33m\u001b[0m\u001b[0m\n\u001b[0;32m      2\u001b[0m \u001b[0mfx\u001b[0m \u001b[1;33m=\u001b[0m \u001b[1;33m[\u001b[0m\u001b[1;36m3.5\u001b[0m\u001b[1;33m,\u001b[0m \u001b[1;36m6.7\u001b[0m\u001b[1;33m]\u001b[0m\u001b[1;33m\u001b[0m\u001b[0m\n\u001b[1;32m----> 3\u001b[1;33m \u001b[0mnp\u001b[0m\u001b[1;33m.\u001b[0m\u001b[0mconcatenate\u001b[0m\u001b[1;33m(\u001b[0m\u001b[1;33m(\u001b[0m\u001b[0mproposed\u001b[0m\u001b[1;33m,\u001b[0m \u001b[0mfx\u001b[0m\u001b[1;33m)\u001b[0m\u001b[1;33m)\u001b[0m\u001b[1;33m\u001b[0m\u001b[0m\n\u001b[0m",
      "\u001b[1;31mValueError\u001b[0m: all the input arrays must have same number of dimensions"
     ]
    }
   ],
   "source": [
    "proposed = [[3, 4, 5], [6, 7, 8]]\n",
    "fx = [3.5, 6.7]\n",
    "np.concatenate((proposed, fx))"
   ]
  },
  {
   "cell_type": "code",
   "execution_count": 89,
   "metadata": {},
   "outputs": [
    {
     "data": {
      "text/plain": [
       "array([[ 1,  4],\n",
       "       [ 2,  5],\n",
       "       [ 3,  9],\n",
       "       [ 7, 11]])"
      ]
     },
     "execution_count": 89,
     "metadata": {},
     "output_type": "execute_result"
    }
   ],
   "source": [
    "previous_winners = []\n",
    "previous_winners.append(winners)\n",
    "previous_winners.append(winners1)\n",
    "previous_winners = np.concatenate(previous_winners)\n",
    "previous_winners"
   ]
  },
  {
   "cell_type": "code",
   "execution_count": 98,
   "metadata": {},
   "outputs": [
    {
     "ename": "ValueError",
     "evalue": "Cannot take a larger sample than population when 'replace=False'",
     "output_type": "error",
     "traceback": [
      "\u001b[1;31m---------------------------------------------------------------------------\u001b[0m",
      "\u001b[1;31mValueError\u001b[0m                                Traceback (most recent call last)",
      "\u001b[1;32m<ipython-input-98-a4db096989f8>\u001b[0m in \u001b[0;36m<module>\u001b[1;34m()\u001b[0m\n\u001b[1;32m----> 1\u001b[1;33m \u001b[0mprevious_winners\u001b[0m\u001b[1;33m[\u001b[0m\u001b[0mnp\u001b[0m\u001b[1;33m.\u001b[0m\u001b[0mrandom\u001b[0m\u001b[1;33m.\u001b[0m\u001b[0mchoice\u001b[0m\u001b[1;33m(\u001b[0m\u001b[0mprevious_winners\u001b[0m\u001b[1;33m.\u001b[0m\u001b[0mshape\u001b[0m\u001b[1;33m[\u001b[0m\u001b[1;36m0\u001b[0m\u001b[1;33m]\u001b[0m\u001b[1;33m,\u001b[0m \u001b[1;36m10\u001b[0m\u001b[1;33m,\u001b[0m \u001b[0mreplace\u001b[0m\u001b[1;33m=\u001b[0m\u001b[1;32mFalse\u001b[0m\u001b[1;33m)\u001b[0m\u001b[1;33m,\u001b[0m \u001b[1;33m:\u001b[0m\u001b[1;33m]\u001b[0m\u001b[1;33m\u001b[0m\u001b[0m\n\u001b[0m",
      "\u001b[1;32mmtrand.pyx\u001b[0m in \u001b[0;36mmtrand.RandomState.choice\u001b[1;34m()\u001b[0m\n",
      "\u001b[1;31mValueError\u001b[0m: Cannot take a larger sample than population when 'replace=False'"
     ]
    }
   ],
   "source": [
    "previous_winners[np.random.choice(previous_winners.shape[0], 10, replace=False), :]"
   ]
  },
  {
   "cell_type": "code",
   "execution_count": 96,
   "metadata": {},
   "outputs": [
    {
     "ename": "TypeError",
     "evalue": "randint() got an unexpected keyword argument 'replace'",
     "output_type": "error",
     "traceback": [
      "\u001b[1;31m---------------------------------------------------------------------------\u001b[0m",
      "\u001b[1;31mTypeError\u001b[0m                                 Traceback (most recent call last)",
      "\u001b[1;32m<ipython-input-96-09eeda76543c>\u001b[0m in \u001b[0;36m<module>\u001b[1;34m()\u001b[0m\n\u001b[1;32m----> 1\u001b[1;33m \u001b[0mprevious_winners\u001b[0m\u001b[1;33m[\u001b[0m\u001b[0mnp\u001b[0m\u001b[1;33m.\u001b[0m\u001b[0mrandom\u001b[0m\u001b[1;33m.\u001b[0m\u001b[0mrandint\u001b[0m\u001b[1;33m(\u001b[0m\u001b[0mprevious_winners\u001b[0m\u001b[1;33m.\u001b[0m\u001b[0mshape\u001b[0m\u001b[1;33m[\u001b[0m\u001b[1;36m0\u001b[0m\u001b[1;33m]\u001b[0m\u001b[1;33m,\u001b[0m \u001b[0msize\u001b[0m\u001b[1;33m=\u001b[0m\u001b[1;36m10\u001b[0m\u001b[1;33m,\u001b[0m \u001b[0mreplace\u001b[0m\u001b[1;33m=\u001b[0m\u001b[1;32mFalse\u001b[0m\u001b[1;33m)\u001b[0m\u001b[1;33m,\u001b[0m \u001b[1;33m:\u001b[0m\u001b[1;33m]\u001b[0m\u001b[1;33m\u001b[0m\u001b[0m\n\u001b[0m",
      "\u001b[1;32mmtrand.pyx\u001b[0m in \u001b[0;36mmtrand.RandomState.randint\u001b[1;34m()\u001b[0m\n",
      "\u001b[1;31mTypeError\u001b[0m: randint() got an unexpected keyword argument 'replace'"
     ]
    }
   ],
   "source": [
    "previous_winners[np.random.randint(previous_winners.shape[0], size=10, replace=False), :]"
   ]
  },
  {
   "cell_type": "code",
   "execution_count": 103,
   "metadata": {},
   "outputs": [
    {
     "data": {
      "text/plain": [
       "array([3, 0])"
      ]
     },
     "execution_count": 103,
     "metadata": {},
     "output_type": "execute_result"
    }
   ],
   "source": [
    "np.random.choice(previous_winners.shape[0],2, replace=False)"
   ]
  },
  {
   "cell_type": "code",
   "execution_count": 119,
   "metadata": {},
   "outputs": [
    {
     "ename": "ValueError",
     "evalue": "all the input arrays must have same number of dimensions",
     "output_type": "error",
     "traceback": [
      "\u001b[1;31m---------------------------------------------------------------------------\u001b[0m",
      "\u001b[1;31mValueError\u001b[0m                                Traceback (most recent call last)",
      "\u001b[1;32m<ipython-input-119-aa3f989e5764>\u001b[0m in \u001b[0;36m<module>\u001b[1;34m()\u001b[0m\n\u001b[0;32m      1\u001b[0m \u001b[0mproposed_short\u001b[0m \u001b[1;33m=\u001b[0m \u001b[0mnp\u001b[0m\u001b[1;33m.\u001b[0m\u001b[0marray\u001b[0m\u001b[1;33m(\u001b[0m\u001b[1;33m[\u001b[0m\u001b[0msampler\u001b[0m\u001b[1;33m.\u001b[0m\u001b[0m_sampler\u001b[0m\u001b[1;33m.\u001b[0m\u001b[0mask\u001b[0m\u001b[1;33m(\u001b[0m\u001b[1;33m)\u001b[0m \u001b[1;32mfor\u001b[0m \u001b[0mi\u001b[0m \u001b[1;32min\u001b[0m \u001b[0mrange\u001b[0m\u001b[1;33m(\u001b[0m\u001b[1;36m3\u001b[0m\u001b[1;33m)\u001b[0m\u001b[1;33m]\u001b[0m\u001b[1;33m)\u001b[0m\u001b[1;33m\u001b[0m\u001b[0m\n\u001b[0;32m      2\u001b[0m \u001b[0mfx\u001b[0m \u001b[1;33m=\u001b[0m \u001b[0mnp\u001b[0m\u001b[1;33m.\u001b[0m\u001b[0marray\u001b[0m\u001b[1;33m(\u001b[0m\u001b[1;33m[\u001b[0m\u001b[1;36m3.5\u001b[0m\u001b[1;33m,\u001b[0m \u001b[1;36m6.5\u001b[0m\u001b[1;33m,\u001b[0m \u001b[1;36m7.74\u001b[0m\u001b[1;33m]\u001b[0m\u001b[1;33m)\u001b[0m\u001b[1;33m\u001b[0m\u001b[0m\n\u001b[1;32m----> 3\u001b[1;33m \u001b[0mnp\u001b[0m\u001b[1;33m.\u001b[0m\u001b[0mconcatenate\u001b[0m\u001b[1;33m(\u001b[0m\u001b[1;33m(\u001b[0m\u001b[0mproposed_short\u001b[0m\u001b[1;33m,\u001b[0m \u001b[0mfx\u001b[0m\u001b[1;33m)\u001b[0m\u001b[1;33m)\u001b[0m\u001b[1;33m\u001b[0m\u001b[0m\n\u001b[0m",
      "\u001b[1;31mValueError\u001b[0m: all the input arrays must have same number of dimensions"
     ]
    }
   ],
   "source": [
    "proposed_short = np.array([sampler._sampler.ask() for i in range(3)])\n",
    "fx = np.array([3.5, 6.5, 7.74])\n",
    "np.concatenate((proposed_short, fx))"
   ]
  },
  {
   "cell_type": "code",
   "execution_count": 136,
   "metadata": {},
   "outputs": [],
   "source": [
    "a = np.transpose(np.vstack([np.transpose(proposed_short), fx]))\n",
    "b = np.transpose(np.vstack([np.transpose(proposed_short), fx]))\n",
    "c=np.concatenate([a, b])"
   ]
  },
  {
   "cell_type": "code",
   "execution_count": 147,
   "metadata": {},
   "outputs": [
    {
     "data": {
      "text/plain": [
       "(0, 3)"
      ]
     },
     "execution_count": 147,
     "metadata": {},
     "output_type": "execute_result"
    }
   ],
   "source": [
    "c[c[:, 3]>50, :3].shape"
   ]
  },
  {
   "cell_type": "code",
   "execution_count": 152,
   "metadata": {},
   "outputs": [
    {
     "data": {
      "text/plain": [
       "array([[  1.50400151e-02,   5.02683403e+02,   9.37503265e+00,\n",
       "          3.50000000e+00],\n",
       "       [  1.50288205e-02,   5.01857765e+02,   8.97674485e+00,\n",
       "          7.74000000e+00],\n",
       "       [  1.50400151e-02,   5.02683403e+02,   9.37503265e+00,\n",
       "          3.50000000e+00],\n",
       "       [  1.50939730e-02,   5.00395569e+02,   9.91198885e+00,\n",
       "          6.50000000e+00],\n",
       "       [  1.50288205e-02,   5.01857765e+02,   8.97674485e+00,\n",
       "          7.74000000e+00]])"
      ]
     },
     "execution_count": 152,
     "metadata": {},
     "output_type": "execute_result"
    }
   ],
   "source": [
    "np.delete(c[:, :], 1, 0)"
   ]
  },
  {
   "cell_type": "code",
   "execution_count": null,
   "metadata": {
    "collapsed": true
   },
   "outputs": [],
   "source": []
  }
 ],
 "metadata": {
  "kernelspec": {
   "display_name": "Python 3",
   "language": "python",
   "name": "python3"
  },
  "language_info": {
   "codemirror_mode": {
    "name": "ipython",
    "version": 3
   },
   "file_extension": ".py",
   "mimetype": "text/x-python",
   "name": "python",
   "nbconvert_exporter": "python",
   "pygments_lexer": "ipython3",
   "version": "3.6.3"
  }
 },
 "nbformat": 4,
 "nbformat_minor": 2
}
