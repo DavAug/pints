{
 "cells": [
  {
   "cell_type": "markdown",
   "metadata": {},
   "source": [
    "# Ellipsoidal nested sampling\n",
    "\n",
    "This example demonstrates how to use ellipsoidal nested rejection sampling [1] to sample from the posterior distribution for a logistic model fitted to model-simulated data.\n",
    "\n",
    "[1] \"A nested sampling algorithm for cosmological model selection\", Pia Mukherjee, David Parkinson and Andrew R. Liddle, [arXiv:astro-ph/0508461v2](https://arxiv.org/abs/astro-ph/0508461)."
   ]
  },
  {
   "cell_type": "markdown",
   "metadata": {},
   "source": [
    "First create fake data."
   ]
  },
  {
   "cell_type": "code",
   "execution_count": 1,
   "metadata": {},
   "outputs": [
    {
     "data": {
      "image/png": "[encoded data removed]",
      "text/plain": [
       "<matplotlib.figure.Figure at 0x2a62df8dd68>"
      ]
     },
     "metadata": {},
     "output_type": "display_data"
    }
   ],
   "source": [
    "import pints\n",
    "import pints.toy as toy\n",
    "import numpy as np\n",
    "import matplotlib.pyplot as plt\n",
    "\n",
    "# Load a forward model\n",
    "model = toy.LogisticModel()\n",
    "\n",
    "# Create some toy data\n",
    "r = 0.015\n",
    "k = 500\n",
    "real_parameters = [r, k]\n",
    "times = np.linspace(0, 1000, 100)\n",
    "signal_values = model.simulate(real_parameters, times)\n",
    "\n",
    "# Add independent Gaussian noise\n",
    "sigma = 10\n",
    "observed_values = signal_values + pints.noise.independent(sigma, signal_values.shape)\n",
    "\n",
    "# Plot\n",
    "plt.plot(times,signal_values,label = 'signal')\n",
    "plt.plot(times,observed_values,label = 'observed')\n",
    "plt.xlabel('Time')\n",
    "plt.ylabel('Values')\n",
    "plt.legend()\n",
    "plt.show()"
   ]
  },
  {
   "cell_type": "markdown",
   "metadata": {},
   "source": [
    "Create the nested sampler that will be used to sample from the posterior."
   ]
  },
  {
   "cell_type": "code",
   "execution_count": 8,
   "metadata": {
    "collapsed": true
   },
   "outputs": [],
   "source": [
    "# Create an object with links to the model and time series\n",
    "problem = pints.SingleOutputProblem(model, times, observed_values)\n",
    "\n",
    "# Create a log-likelihood function (adds an extra parameter!)\n",
    "log_likelihood = pints.GaussianLogLikelihood(problem)\n",
    "\n",
    "# Create a uniform prior over both the parameters and the new noise variable\n",
    "log_prior = pints.UniformLogPrior(\n",
    "    [0.01, 400, sigma * 0.5],\n",
    "    [0.02, 600, sigma * 1.5])\n",
    "\n",
    "# Create a nested ellipsoidal rejectection sampler\n",
    "sampler = pints.NestedController(log_likelihood, log_prior, method=pints.NestedEllipsoidSampler)\n",
    "\n",
    "# Set number of iterations\n",
    "sampler.set_iterations(8000)\n",
    "\n",
    "# Set the number of posterior samples to generate\n",
    "sampler.set_n_posterior_samples(1600)\n",
    "\n",
    "# Do proposals in parallel\n",
    "sampler.set_parallel(False)"
   ]
  },
  {
   "cell_type": "markdown",
   "metadata": {},
   "source": [
    "Run the sampler!"
   ]
  },
  {
   "cell_type": "code",
   "execution_count": 9,
   "metadata": {},
   "outputs": [
    {
     "name": "stdout",
     "output_type": "stream",
     "text": [
      "Running Nested ellipsoidal sampler\n",
      "Number of active points: 400\n",
      "Total number of iterations: 8000\n",
      "Total number of posterior samples: 1600\n",
      "Iter. Eval. Time m:s Delta_log(z) Acceptance rate\n",
      "0     1       0:00.0 -inf          1             \n",
      "0     2       0:00.0 -inf          1             \n",
      "0     3       0:00.0 -inf          1             \n",
      "0     4       0:00.0 -inf          1             \n",
      "0     5       0:00.0 -inf          1             \n",
      "0     21      0:00.0 -inf          1             \n",
      "0     41      0:00.0 -inf          1             \n",
      "0     61      0:00.0 -inf          1             \n",
      "0     81      0:00.0 -inf          1             \n",
      "0     101     0:00.0 -inf          1             \n",
      "0     121     0:00.0 -inf          1             \n",
      "0     141     0:00.0 -inf          1             \n",
      "0     161     0:00.0 -inf          1             \n",
      "0     181     0:00.0 -inf          1             \n",
      "0     201     0:00.0 -inf          1             \n",
      "0     221     0:00.0 -inf          1             \n",
      "0     241     0:00.0 -inf          1             \n",
      "0     261     0:00.0 -inf          1             \n",
      "0     281     0:00.0 -inf          1             \n",
      "0     301     0:00.0 -inf          1             \n",
      "0     321     0:00.0 -inf          1             \n",
      "0     341     0:00.0 -inf          1             \n",
      "0     361     0:00.0 -inf          1             \n",
      "0     381     0:00.0 -inf          1             \n",
      "400   401     0:00.0 -inf          1             \n",
      "420   421     0:00.1 -11470.60894  1             \n",
      "440   441     0:00.1 -9146.856924  1             \n",
      "460   461     0:00.1 -7091.758912  1             \n",
      "480   482     0:00.1 -6056.479713  0.987804878   \n",
      "500   503     0:00.1 -5121.222643  0.980582524   \n",
      "520   528     0:00.1 -4525.373548  0.9453125     \n",
      "540   553     0:00.1 -3761.002974  0.921568627451\n",
      "560   580     0:00.1 -3511.631973  0.894444444   \n",
      "580   606     0:00.1 -3249.518822  0.878640776699\n",
      "600   635     0:00.2 -2938.779021  0.855319149   \n",
      "620   673     0:00.2 -2702.094054  0.80952381    \n",
      "640   709     0:00.2 -2396.208849  0.779935275   \n",
      "660   747     0:00.2 -2209.816013  0.752161383   \n",
      "680   777     0:00.3 -2096.733858  0.74535809    \n",
      "700   820     0:00.3 -1929.243354  0.716666667   \n",
      "720   865     0:00.3 -1814.825414  0.690322581   \n",
      "740   909     0:00.4 -1706.275145  0.669941061   \n",
      "760   949     0:00.4 -1628.328019  0.657559199   \n",
      "780   1000    0:00.4 -1528.344485  0.635         \n",
      "800   1040    0:00.4 -1427.571452  0.6265625     \n",
      "820   1084    0:00.5 -1361.823784  0.615497076   \n",
      "840   1133    0:00.5 -1289.088785  0.601637108   \n",
      "860   1173    0:00.5 -1223.730719  0.596377749   \n",
      "880   1218    0:00.6 -1161.863079  0.58801956    \n",
      "900   1267    0:00.6 -1111.280231  0.577854671   \n",
      "920   1321    0:00.6 -1040.786973  0.565689468   \n",
      "940   1362    0:00.7 -992.4207167  0.562370062   \n",
      "960   1418    0:00.7 -951.6497246  0.55108055    \n",
      "980   1467    0:00.7 -895.3729768  0.544517338   \n",
      "1000  1520    0:00.8 -841.7295596  0.536607143   \n",
      "1020  1560    0:00.8 -805.8868643  0.535344828   \n",
      "1040  1610    0:00.9 -754.8427537  0.529752066   \n",
      "1060  1650    0:00.9 -732.484599   0.5288        \n",
      "1080  1689    0:00.9 -681.834804   0.528316524   \n",
      "1100  1735    0:01.0 -645.4660548  0.525093633   \n",
      "1120  1785    0:01.0 -615.4426228  0.520577617   \n",
      "1140  1821    0:01.0 -573.9439825  0.521463757917\n",
      "1160  1850    0:01.1 -550.4749709  0.524827586   \n",
      "1180  1882    0:01.1 -523.2436373  0.526990553   \n",
      "1200  1932    0:01.1 -500.5644318  0.522845953   \n",
      "1220  1976    0:01.2 -470.6361693  0.520939086   \n",
      "1240  2021    0:01.2 -446.8528538  0.518815546   \n",
      "1260  2068    0:01.2 -420.0184136  0.51618705    \n",
      "1280  2114    0:01.3 -389.9253205  0.514002334   \n",
      "1300  2152    0:01.3 -365.1324356  0.514269406   \n",
      "1320  2192    0:01.3 -342.6736784  0.513950893   \n",
      "1340  2236    0:01.4 -325.9621175  0.512527233   \n",
      "1360  2275    0:01.4 -310.4417021  0.512533333   \n",
      "1380  2340    0:01.4 -290.4044589  0.505670103   \n",
      "1400  2391    0:01.5 -278.0770637  0.502762431   \n",
      "1420  2443    0:01.6 -265.4918458  0.499755262   \n"
     ]
    },
    {
     "name": "stderr",
     "output_type": "stream",
     "text": [
      "c:\\users\\bclamber\\desktop\\pints\\pints\\_log_likelihoods.py:480: RuntimeWarning: invalid value encountered in log\n",
      "  - np.sum(error**2, axis=0) / (2 * sigma**2))\n"
     ]
    },
    {
     "name": "stdout",
     "output_type": "stream",
     "text": [
      "1440  2481    0:01.6 -252.7770022  0.500240269   \n",
      "1460  2536    0:01.6 -240.901552   0.496722846   \n",
      "1480  2600    0:01.7 -234.2987658  0.491363636   \n",
      "1500  2657    0:01.7 -221.9259664  0.487815684537\n",
      "1520  2697    0:01.8 -215.0150194  0.488027862   \n",
      "1540  2754    0:01.8 -198.4830079  0.484706882   \n",
      "1560  2824    0:01.9 -185.6565238  0.478960396   \n",
      "1580  2891    0:01.9 -178.0761772  0.474106784   \n",
      "1600  2986    0:02.0 -172.5605404  0.464423821   \n",
      "1620  3029    0:02.1 -166.9631132  0.464435146   \n",
      "1640  3064    0:02.1 -159.4454215  0.465840841   \n",
      "1660  3130    0:02.1 -154.6141725  0.461904762   \n",
      "1680  3190    0:02.2 -146.5867546  0.459139785   \n",
      "1700  3246    0:02.3 -141.7265276  0.457132818   \n",
      "1720  3290    0:02.3 -137.7692725  0.457093426   \n",
      "1740  3345    0:02.3 -134.5572816  0.455348048   \n",
      "1760  3387    0:02.4 -131.6673304  0.455641111   \n",
      "1780  3445    0:02.4 -128.1336355  0.453530378   \n",
      "1800  3492    0:02.5 -125.9696693  0.453104787   \n",
      "1820  3536    0:02.5 -123.5581382  0.453125      \n",
      "1840  3574    0:02.5 -120.2176093  0.45400126    \n",
      "1860  3624    0:02.6 -117.7680868  0.453163772   \n",
      "1880  3674    0:02.6 -115.5013543  0.452351863   \n",
      "1900  3716    0:02.7 -113.163198   0.4526538     \n",
      "1920  3750    0:02.7 -110.6184498  0.454029851   \n",
      "1940  3781    0:02.7 -108.6975612  0.455782313   \n",
      "1960  3827    0:02.8 -106.7070301  0.455500438   \n",
      "1980  3878    0:02.8 -104.8321692  0.454571593   \n",
      "2000  3914    0:02.8 -103.1852658  0.455606147   \n",
      "2020  3942    0:02.9 -101.7228429  0.457651045   \n",
      "2040  3980    0:02.9 -99.87941689  0.458379888   \n",
      "2060  4014    0:02.9 -98.07094416  0.45960155    \n",
      "2080  4061    0:03.0 -96.09193078  0.459164162797\n",
      "2100  4094    0:03.0 -94.36255156  0.460476448   \n",
      "2120  4124    0:03.0 -92.56392463  0.462137487   \n",
      "2140  4158    0:03.1 -91.02674736  0.46327834    \n",
      "2160  4183    0:03.1 -89.54136998  0.465503569   \n",
      "2180  4219    0:03.1 -87.89050405  0.466352448   \n",
      "2200  4267    0:03.2 -87.56780615  0.465735712   \n",
      "2220  4297    0:03.2 -85.82226152  0.467282525   \n",
      "2240  4330    0:03.2 -84.41404268  0.468447837   \n",
      "2260  4369    0:03.3 -83.13048592  0.46888385    \n",
      "2280  4401    0:03.3 -81.69516942  0.470132467   \n",
      "2300  4432    0:03.3 -80.23896041  0.471478175   \n",
      "2320  4463    0:03.3 -78.81794457  0.472803347   \n",
      "2340  4494    0:03.4 -77.55496593  0.474108451   \n",
      "2360  4531    0:03.4 -76.1132105   0.474703462   \n",
      "2380  4573    0:03.4 -74.9382137   0.474718428   \n",
      "2400  4608    0:03.5 -73.65438117  0.475522814   \n",
      "2420  4640    0:03.5 -72.44951698  0.476650943   \n",
      "2440  4673    0:03.6 -71.22553969  0.477650363   \n",
      "2460  4710    0:03.6 -70.00286829  0.478190255   \n",
      "2480  4756    0:03.6 -68.88790674  0.477731864   \n",
      "2500  4787    0:03.7 -67.52764485  0.478914976   \n",
      "2520  4822    0:03.7 -65.38524237  0.479647218   \n",
      "2540  4855    0:03.7 -64.0527852   0.480583614   \n",
      "2560  4889    0:03.8 -62.82110615  0.481398975   \n",
      "2580  4914    0:03.8 -61.42022129  0.483163491   \n",
      "2600  4951    0:03.8 -60.12355256  0.483629971   \n",
      "2620  4972    0:03.8 -62.26214516  0.485783027   \n",
      "2640  5003    0:03.9 -61.15143136  0.486856398   \n",
      "2660  5040    0:03.9 -60.01504649  0.487284483   \n",
      "2680  5069    0:03.9 -58.98420539  0.488541444   \n",
      "2700  5101    0:04.0 -57.79986754  0.489470325   \n",
      "2720  5135    0:04.0 -56.79524781  0.490179514   \n",
      "2740  5168    0:04.0 -55.4795327   0.490981544   \n",
      "2760  5196    0:04.1 -54.01798229  0.492285238   \n",
      "2780  5244    0:04.1 -52.94359053  0.491535921   \n",
      "2800  5285    0:04.2 -52.09397451  0.491504606   \n",
      "2820  5316    0:04.2 -51.19362557  0.492473556   \n",
      "2840  5349    0:04.2 -50.29163492  0.493230956   \n",
      "2860  5388    0:04.3 -49.44424184  0.493384122   \n",
      "2880  5425    0:04.3 -48.51913409  0.493731343   \n",
      "2900  5460    0:04.4 -47.61466256  0.494268775   \n",
      "2920  5496    0:04.4 -46.81187748  0.494701727   \n",
      "2940  5529    0:04.4 -45.89488043  0.49541821    \n",
      "2960  5559    0:04.5 -44.99022582  0.496414034   \n",
      "2980  5591    0:04.5 -44.03066697  0.497206704   \n",
      "3000  5625    0:04.5 -43.11820063  0.497799043   \n",
      "3020  5653    0:04.6 -42.36380923  0.49895297925 \n",
      "3040  5685    0:04.6 -41.61649891  0.499716178   \n",
      "3060  5714    0:04.6 -40.83016892  0.500752729   \n",
      "3080  5751    0:04.6 -40.09592147  0.501027845   \n",
      "3100  5785    0:04.7 -39.30483811  0.501578459   \n",
      "3120  5815    0:04.7 -38.38798495  0.502493075   \n",
      "3140  5842    0:04.7 -37.63678341  0.503675119   \n",
      "3160  5871    0:04.8 -36.92609298  0.504660939   \n",
      "3180  5910    0:04.8 -36.16947884  0.504718693   \n",
      "3200  5946    0:04.8 -35.38844312  0.505048683736\n",
      "3220  5972    0:04.9 -35.35765216  0.506281407   \n",
      "3240  5995    0:04.9 -34.50663827  0.507774799   \n",
      "3260  6023    0:04.9 -33.66969748  0.50880313    \n",
      "3280  6050    0:05.0 -32.85085524  0.509911504   \n",
      "3300  6079    0:05.0 -32.15772081  0.510829371   \n",
      "3320  6103    0:05.0 -31.47283754  0.512186568   \n",
      "3340  6133    0:05.1 -30.75562731  0.512994942   \n",
      "3360  6166    0:05.1 -29.99297255  0.513527575   \n",
      "3380  6199    0:05.1 -29.1245601   0.514054147   \n",
      "3400  6234    0:05.2 -28.20587143  0.514398354   \n",
      "3420  6258    0:05.2 -27.52039199  0.515705019   \n",
      "3440  6284    0:05.2 -26.86494711  0.516825289   \n",
      "3460  6318    0:05.3 -26.16763606  0.517235553   \n",
      "3480  6346    0:05.3 -25.44342841  0.518163471   \n",
      "3500  6370    0:05.3 -24.73889614  0.519430486   \n",
      "3520  6398    0:05.3 -24.04811992  0.520340113   \n",
      "3540  6433    0:05.4 -23.37315973  0.520636499   \n",
      "3560  6464    0:05.4 -22.77249971  0.521273087   \n",
      "3580  6497    0:05.5 -22.14977286  0.521731999   \n",
      "3600  6526    0:05.5 -21.5443192   0.522526934   \n",
      "3620  6551    0:05.5 -20.96333824  0.52365469    \n",
      "3640  6577    0:05.6 -20.33310628  0.52468836    \n",
      "3660  6617    0:05.6 -19.78144934  0.524529516   \n",
      "3680  6653    0:05.6 -19.31525382  0.52470814    \n",
      "3700  6692    0:05.7 -18.87673233  0.524634456   \n",
      "3720  6718    0:05.7 -18.43823253  0.525641025641\n",
      "3740  6746    0:05.7 -18.00271924  0.526473369   \n",
      "3760  6771    0:05.8 -17.54809001  0.527546696   \n",
      "3780  6803    0:05.8 -17.07534864  0.528033734   \n",
      "3800  6836    0:05.9 -16.61073805  0.52843381    \n",
      "3820  6863    0:05.9 -16.16029549  0.529320749   \n",
      "3840  6893    0:05.9 -15.69968633  0.529955337   \n",
      "3860  6921    0:05.9 -15.21733736  0.530746818   \n",
      "3880  6953    0:06.0 -14.7408241   0.531207081   \n",
      "3900  6996    0:06.0 -14.32011672  0.530776228017\n",
      "3920  7020    0:06.1 -13.95265678  0.531873112   \n",
      "3940  7041    0:06.1 -13.58789328  0.533202830899\n",
      "3960  7078    0:06.1 -13.23176944  0.533243486   \n",
      "3980  7107    0:06.2 -12.84762581  0.533919785   \n",
      "4000  7134    0:06.2 -12.49199074  0.534749034749\n",
      "4020  7159    0:06.2 -12.16336979  0.535730138   \n",
      "4040  7188    0:06.3 -11.84380928  0.536387743076\n",
      "4060  7217    0:06.3 -11.50720853  0.537039754   \n",
      "4080  7246    0:06.3 -11.14741303  0.53768624    \n",
      "4100  7273    0:06.4 -10.81226246  0.538483923   \n",
      "4120  7308    0:06.4 -10.49070691  0.53865084    \n",
      "4140  7335    0:06.4 -10.18775228  0.539437635   \n",
      "4160  7364    0:06.5 -9.883299612  0.540063182   \n",
      "4180  7403    0:06.5 -9.583487673  0.539911467   \n",
      "4200  7438    0:06.6 -9.287802921  0.540068201   \n",
      "4220  7467    0:06.6 -8.999704152  0.540682043   \n",
      "4240  7492    0:06.6 -8.718090869  0.541596165   \n",
      "4260  7527    0:06.7 -8.448412016  0.541742669   \n",
      "4280  7560    0:06.7 -8.181639728  0.542039106   \n",
      "4300  7589    0:06.8 -7.930256901  0.542634581   \n",
      "4320  7617    0:06.8 -7.693479475  0.54330054    \n",
      "4340  7641    0:06.8 -7.468376395  0.544261842287\n",
      "4360  7671    0:06.9 -7.245515191  0.544766882   \n",
      "4380  7699    0:06.9 -7.031823243  0.54541718    \n",
      "4400  7729    0:06.9 -6.818288888  0.545913494   \n",
      "4420  7755    0:07.0 -6.610527772  0.546702923   \n",
      "4440  7779    0:07.0 -6.402925917  0.547635181   \n",
      "4460  7806    0:07.0 -6.200771114  0.548339184445\n",
      "4480  7834    0:07.1 -6.004909811  0.548964218   \n",
      "4500  7868    0:07.1 -5.804869237  0.54914301    \n",
      "4520  7897    0:07.1 -5.618513363  0.549686541   \n",
      "4540  7933    0:07.2 -5.436780653  0.549714589   \n",
      "4560  7959    0:07.2 -5.250478176  0.550469639   \n",
      "4580  7988    0:07.3 -5.07177345   0.551001581   \n",
      "4600  8029    0:07.3 -4.919463899  0.550661948   \n",
      "4620  8064    0:07.3 -4.756492796  0.550756785   \n",
      "4640  8094    0:07.4 -4.598298729  0.551208734   \n",
      "4660  8122    0:07.4 -4.445783992  0.551800052   \n",
      "4680  8167    0:07.4 -4.296314531  0.551178061   \n",
      "4700  8193    0:07.5 -4.150485181  0.551905556   \n",
      "4720  8223    0:07.5 -4.007893071  0.552345647   \n",
      "4740  8253    0:07.5 -3.869207884  0.552782376162\n",
      "4760  8289    0:07.6 -3.733290021  0.552795031   \n",
      "4780  8321    0:07.6 -3.600127224  0.553086731   \n"
     ]
    },
    {
     "name": "stdout",
     "output_type": "stream",
     "text": [
      "4800  8355    0:07.7 -3.472716447  0.553236958   \n",
      "4820  8387    0:07.7 -3.348483251  0.553524477   \n",
      "4840  8415    0:07.7 -3.225511454  0.554086089   \n",
      "4860  8451    0:07.8 -3.106039468  0.554092659297\n",
      "4880  8484    0:07.8 -2.990746239  0.5543048     \n",
      "4900  8523    0:07.9 -2.938501416  0.554105626   \n",
      "4920  8548    0:07.9 -2.827340455  0.554860088   \n",
      "4940  8574    0:07.9 -2.717642302  0.555541962   \n",
      "4960  8616    0:08.0 -2.611490191  0.555136319   \n",
      "4980  8644    0:08.0 -2.508408895  0.555676856   \n",
      "5000  8676    0:08.1 -2.408502241  0.555944901   \n",
      "5020  8702    0:08.1 -2.311863871  0.55661286437 \n",
      "5040  8727    0:08.1 -2.218876163  0.557343581   \n",
      "5060  8753    0:08.2 -2.12881284   0.558003113   \n",
      "5080  8797    0:08.2 -2.041416581  0.557460998   \n",
      "5100  8827    0:08.3 -1.955811301  0.557849769   \n",
      "5120  8851    0:08.3 -1.873376048  0.558632115   \n",
      "5140  8878    0:08.3 -1.7940391    0.559212078   \n",
      "5160  8913    0:08.4 -1.71755711   0.559262305   \n",
      "5180  8958    0:08.4 -1.644071555  0.558658565   \n",
      "5200  8988    0:08.4 -1.573262653  0.559035864   \n",
      "5220  9010    0:08.5 -1.505138785  0.559930314   \n",
      "5240  9047    0:08.5 -1.439558433  0.559847346   \n",
      "5260  9077    0:08.5 -1.375933706  0.560216665   \n",
      "5280  9112    0:08.6 -1.314605086  0.560261707989\n",
      "5300  9148    0:08.6 -1.25529549   0.560242341   \n",
      "5320  9181    0:08.7 -1.198205184  0.560414531   \n",
      "5340  9207    0:08.7 -1.143384076  0.561030998   \n",
      "5360  9242    0:08.7 -1.090615659  0.561072156   \n",
      "5380  9275    0:08.8 -1.039644643  0.561239437   \n",
      "5400  9307    0:08.8 -0.990524     0.561468508   \n",
      "5420  9332    0:08.8 -0.943396     0.56213614    \n",
      "5440  9362    0:08.9 -0.898327     0.562486052   \n",
      "5460  9389    0:08.9 -0.855183     0.563021471   \n",
      "5480  9417    0:09.0 -0.814002     0.563491183   \n",
      "5500  9449    0:09.0 -0.774737     0.563708697   \n",
      "5520  9480    0:09.0 -0.737233789  0.563986784141\n",
      "5540  9508    0:09.1 -0.703051     0.564448836188\n",
      "5560  9531    0:09.1 -0.668697     0.565217391   \n",
      "5580  9566    0:09.1 -0.635899445  0.565241108   \n",
      "5600  9603    0:09.2 -0.604586     0.565141802   \n",
      "5620  9630    0:09.2 -0.574721     0.565655471   \n",
      "5640  9656    0:09.3 -0.546171     0.566227312   \n",
      "5660  9684    0:09.3 -0.518965     0.566673847   \n",
      "Convergence obtained with Delta_z = -0.499403795192\n",
      "Done!\n"
     ]
    }
   ],
   "source": [
    "samples = sampler.run()\n",
    "print('Done!')"
   ]
  },
  {
   "cell_type": "markdown",
   "metadata": {},
   "source": [
    "## Plot posterior samples versus true parameter values (dashed lines)"
   ]
  },
  {
   "cell_type": "code",
   "execution_count": 10,
   "metadata": {},
   "outputs": [
    {
     "data": {
      "image/png": "[encoded data removed]",
      "text/plain": [
       "<matplotlib.figure.Figure at 0x2a6315b2b70>"
      ]
     },
     "metadata": {},
     "output_type": "display_data"
    }
   ],
   "source": [
    "# Plot output\n",
    "import pints.plot\n",
    "\n",
    "pints.plot.histogram([samples], ref_parameters=[r, k, sigma])\n",
    "\n",
    "plt.show()"
   ]
  },
  {
   "cell_type": "markdown",
   "metadata": {},
   "source": [
    "## Plot posterior predictive simulations versus the observed data"
   ]
  },
  {
   "cell_type": "code",
   "execution_count": 5,
   "metadata": {},
   "outputs": [
    {
     "data": {
      "image/png": "[encoded data removed]",
      "text/plain": [
       "<matplotlib.figure.Figure at 0x2a62ce74518>"
      ]
     },
     "metadata": {},
     "output_type": "display_data"
    }
   ],
   "source": [
    "pints.plot.series(samples[:100], problem)\n",
    "plt.show()"
   ]
  },
  {
   "cell_type": "markdown",
   "metadata": {},
   "source": [
    "## Marginal likelihood estimate"
   ]
  },
  {
   "cell_type": "code",
   "execution_count": 6,
   "metadata": {},
   "outputs": [
    {
     "name": "stdout",
     "output_type": "stream",
     "text": [
      "marginal log-likelihood = -377.428659777 ± 0.0793120205802\n"
     ]
    }
   ],
   "source": [
    "print('marginal log-likelihood = ' + str(sampler.marginal_log_likelihood())\n",
    "      + ' ± ' + str(sampler.marginal_log_likelihood_standard_deviation()))"
   ]
  },
  {
   "cell_type": "markdown",
   "metadata": {},
   "source": [
    "## Effective sample size"
   ]
  },
  {
   "cell_type": "code",
   "execution_count": 7,
   "metadata": {},
   "outputs": [
    {
     "name": "stdout",
     "output_type": "stream",
     "text": [
      "effective sample size = 1591.26582757\n"
     ]
    }
   ],
   "source": [
    "print('effective sample size = ' + str(sampler.effective_sample_size()))"
   ]
  }
 ],
 "metadata": {
  "kernelspec": {
   "display_name": "Python 3",
   "language": "python",
   "name": "python3"
  },
  "language_info": {
   "codemirror_mode": {
    "name": "ipython",
    "version": 3
   },
   "file_extension": ".py",
   "mimetype": "text/x-python",
   "name": "python",
   "nbconvert_exporter": "python",
   "pygments_lexer": "ipython3",
   "version": "3.6.3"
  }
 },
 "nbformat": 4,
 "nbformat_minor": 2
}
