{
 "cells": [
  {
   "cell_type": "markdown",
   "metadata": {},
   "source": [
    "# Ellipsoidal nested sampling\n",
    "\n",
    "This example demonstrates how to use ellipsoidal nested rejection sampling [1] to sample from the posterior distribution for a logistic model fitted to model-simulated data.\n",
    "\n",
    "[1] \"A nested sampling algorithm for cosmological model selection\", Pia Mukherjee, David Parkinson and Andrew R. Liddle, [arXiv:astro-ph/0508461v2](https://arxiv.org/abs/astro-ph/0508461)."
   ]
  },
  {
   "cell_type": "markdown",
   "metadata": {},
   "source": [
    "First create fake data."
   ]
  },
  {
   "cell_type": "code",
   "execution_count": 1,
   "metadata": {},
   "outputs": [
    {
     "data": {
      "image/png": "[encoded data removed]",
      "text/plain": [
       "<matplotlib.figure.Figure at 0x1f6eb41ed30>"
      ]
     },
     "metadata": {},
     "output_type": "display_data"
    }
   ],
   "source": [
    "import pints\n",
    "import pints.toy as toy\n",
    "import numpy as np\n",
    "import matplotlib.pyplot as plt\n",
    "\n",
    "# Load a forward model\n",
    "model = toy.LogisticModel()\n",
    "\n",
    "# Create some toy data\n",
    "r = 0.015\n",
    "k = 500\n",
    "real_parameters = [r, k]\n",
    "times = np.linspace(0, 1000, 100)\n",
    "signal_values = model.simulate(real_parameters, times)\n",
    "\n",
    "# Add independent Gaussian noise\n",
    "sigma = 10\n",
    "observed_values = signal_values + pints.noise.independent(sigma, signal_values.shape)\n",
    "\n",
    "# Plot\n",
    "plt.plot(times,signal_values,label = 'signal')\n",
    "plt.plot(times,observed_values,label = 'observed')\n",
    "plt.xlabel('Time')\n",
    "plt.ylabel('Values')\n",
    "plt.legend()\n",
    "plt.show()"
   ]
  },
  {
   "cell_type": "markdown",
   "metadata": {},
   "source": [
    "Create the nested sampler that will be used to sample from the posterior."
   ]
  },
  {
   "cell_type": "code",
   "execution_count": 2,
   "metadata": {},
   "outputs": [],
   "source": [
    "# Create an object with links to the model and time series\n",
    "problem = pints.SingleOutputProblem(model, times, observed_values)\n",
    "\n",
    "# Create a log-likelihood function (adds an extra parameter!)\n",
    "log_likelihood = pints.GaussianLogLikelihood(problem)\n",
    "\n",
    "# Create a uniform prior over both the parameters and the new noise variable\n",
    "log_prior = pints.UniformLogPrior(\n",
    "    [0.01, 400, sigma * 0.5],\n",
    "    [0.02, 600, sigma * 1.5])\n",
    "\n",
    "# Create a nested ellipsoidal rejectection sampler\n",
    "sampler = pints.NestedController(log_likelihood, log_prior, method=pints.NestedEllipsoidSampler)\n",
    "\n",
    "# Set number of iterations\n",
    "sampler.set_iterations(8000)\n",
    "\n",
    "# Set the number of posterior samples to generate\n",
    "sampler.set_n_posterior_samples(1600)"
   ]
  },
  {
   "cell_type": "markdown",
   "metadata": {},
   "source": [
    "Run the sampler!"
   ]
  },
  {
   "cell_type": "code",
   "execution_count": 3,
   "metadata": {},
   "outputs": [
    {
     "name": "stdout",
     "output_type": "stream",
     "text": [
      "Running Nested ellipsoidal sampler\n",
      "Number of active points: 400\n",
      "Total number of iterations: 8000\n",
      "Total number of posterior samples: 1600\n",
      "Iter. Eval. Time m:s Delta_log(z) Acceptance rate\n",
      "0     1       0:00.0 -inf          1             \n",
      "0     2       0:00.0 -inf          1             \n",
      "0     3       0:00.0 -inf          1             \n",
      "0     4       0:00.0 -inf          1             \n",
      "0     5       0:00.0 -inf          1             \n",
      "0     21      0:00.0 -inf          1             \n",
      "0     41      0:00.0 -inf          1             \n",
      "0     61      0:00.0 -inf          1             \n",
      "0     81      0:00.0 -inf          1             \n",
      "0     101     0:00.0 -inf          1             \n",
      "0     121     0:00.0 -inf          1             \n",
      "0     141     0:00.0 -inf          1             \n",
      "0     161     0:00.0 -inf          1             \n",
      "0     181     0:00.0 -inf          1             \n",
      "0     201     0:00.0 -inf          1             \n",
      "0     221     0:00.0 -inf          1             \n",
      "0     241     0:00.0 -inf          1             \n",
      "0     261     0:00.0 -inf          1             \n",
      "0     281     0:00.0 -inf          1             \n",
      "0     301     0:00.0 -inf          1             \n",
      "0     321     0:00.0 -inf          1             \n",
      "0     341     0:00.0 -inf          1             \n",
      "0     361     0:00.1 -inf          1             \n",
      "0     381     0:00.1 -inf          1             \n",
      "400   401     0:00.1 -inf          1             \n",
      "420   422     0:00.1 -10954.85465  0.954545455   \n",
      "440   445     0:00.1 -6770.138706  0.911111111   \n",
      "460   471     0:00.1 -5746.481236  0.85915493    \n",
      "480   499     0:00.1 -4828.617678  0.818181818   \n",
      "500   522     0:00.1 -4121.431057  0.827868852459\n",
      "520   546     0:00.1 -3630.903577  0.828767123   \n",
      "540   575     0:00.1 -3179.874054  0.805714286   \n",
      "560   615     0:00.2 -2972.511757  0.748837209   \n",
      "580   651     0:00.2 -2696.043353  0.721115538   \n",
      "600   686     0:00.2 -2479.859225  0.702797203   \n",
      "620   726     0:00.3 -2341.529673  0.67791411    \n",
      "640   761     0:00.3 -2152.262884  0.667590028   \n",
      "660   796     0:00.3 -2051.663415  0.659090909   \n",
      "680   836     0:00.3 -1888.910524  0.644495412844\n",
      "700   869     0:00.4 -1791.879503  0.641791045   \n",
      "720   906     0:00.4 -1691.454336  0.634387352   \n",
      "740   942     0:00.4 -1580.668543  0.629151292   \n",
      "760   993     0:00.4 -1485.390375  0.608768971   \n",
      "780   1042    0:00.5 -1372.845201  0.593457944   \n",
      "800   1093    0:00.5 -1296.001292  0.578643579   \n",
      "820   1136    0:00.5 -1231.129206  0.57201087    \n",
      "840   1185    0:00.6 -1182.337835  0.561783439   \n",
      "860   1216    0:00.6 -1137.219009  0.56495098    \n",
      "880   1261    0:00.6 -1070.249417  0.558652729   \n",
      "900   1313    0:00.7 -1019.914751  0.548740416   \n",
      "920   1354    0:00.7 -938.9504156  0.546121593   \n",
      "940   1403    0:00.8 -894.3326234  0.539381854   \n",
      "960   1442    0:00.8 -849.1348876  0.538387716   \n",
      "980   1486    0:00.8 -812.1404003  0.534990792   \n",
      "1000  1525    0:00.9 -773.8494997  0.534222222   \n",
      "1020  1565    0:00.9 -749.2079119  0.53304721    \n",
      "1040  1606    0:00.9 -715.6852842  0.531509121   \n",
      "1060  1664    0:01.0 -676.566542   0.522943038   \n",
      "1080  1701    0:01.0 -632.8177072  0.523443505   \n",
      "1100  1752    0:01.0 -609.6346908  0.518491124   \n",
      "1120  1792    0:01.1 -591.4244135  0.51795977    \n",
      "1140  1825    0:01.1 -556.1610724  0.52          \n",
      "1160  1866    0:01.1 -520.0092927  0.519099591   \n",
      "1180  1907    0:01.2 -488.9623784  0.518248175   \n",
      "1200  1961    0:01.2 -456.0855658  0.513132607303\n",
      "1220  2004    0:01.2 -429.2929734  0.511845387   \n",
      "1240  2053    0:01.3 -414.7213998  0.50877193    \n",
      "1260  2094    0:01.3 -401.4269774  0.508264463   \n",
      "1280  2128    0:01.3 -375.4837867  0.509837962963\n",
      "1300  2183    0:01.4 -359.0532773  0.50532809871 \n",
      "1320  2220    0:01.4 -340.585755   0.506043956044\n",
      "1340  2277    0:01.4 -325.3485555  0.501331913   \n",
      "1360  2321    0:01.5 -309.7386612  0.500260281   \n",
      "1380  2366    0:01.5 -293.9467743  0.498982706002\n",
      "1400  2428    0:01.5 -277.252557   0.493589744   \n",
      "1420  2477    0:01.6 -266.5083986  0.491574386   \n"
     ]
    },
    {
     "name": "stderr",
     "output_type": "stream",
     "text": [
      "c:\\users\\bclamber\\desktop\\pints\\pints\\_log_likelihoods.py:480: RuntimeWarning: invalid value encountered in log\n",
      "  - np.sum(error**2, axis=0) / (2 * sigma**2))\n"
     ]
    },
    {
     "name": "stdout",
     "output_type": "stream",
     "text": [
      "1440  2542    0:01.6 -252.8697658  0.485994398   \n",
      "1460  2607    0:01.7 -243.4664543  0.48074309    \n",
      "1480  2654    0:01.7 -230.2482379  0.479591837   \n",
      "1500  2700    0:01.8 -220.8766511  0.478695652   \n",
      "1520  2731    0:01.8 -211.9046761  0.480909481   \n",
      "1540  2789    0:01.8 -204.3194436  0.477605693   \n",
      "1560  2825    0:01.8 -194.8469231  0.478762887   \n",
      "1580  2864    0:01.9 -185.9583575  0.479301948   \n",
      "1600  2915    0:02.0 -179.3877047  0.477534791   \n",
      "1620  2945    0:02.0 -173.0081281  0.479764244   \n",
      "1640  3000    0:02.0 -166.8089854  0.477307692   \n",
      "1660  3043    0:02.1 -159.1502413  0.477109345   \n",
      "1680  3100    0:02.1 -152.5018344  0.474444444   \n",
      "1700  3139    0:02.1 -147.9645479  0.474990873   \n",
      "1720  3183    0:02.2 -142.6072982  0.474667625   \n",
      "1740  3219    0:02.2 -138.7611314  0.475700603   \n",
      "1760  3273    0:02.2 -132.8730841  0.473720849   \n",
      "1780  3325    0:02.3 -128.0429499  0.472136752   \n",
      "1800  3381    0:02.3 -124.7543469  0.469976517947\n",
      "1820  3433    0:02.3 -122.3385661  0.468513023   \n",
      "1840  3481    0:02.4 -119.8270788  0.46770529    \n",
      "1860  3537    0:02.4 -116.9849133  0.465731591   \n",
      "1880  3579    0:02.4 -114.660633   0.465869770368\n",
      "1900  3620    0:02.5 -111.5048281  0.466149068323\n",
      "1920  3657    0:02.5 -109.1792317  0.466994166   \n",
      "1940  3712    0:02.6 -107.3448142  0.465277778   \n",
      "1960  3773    0:02.6 -105.0080317  0.462792766   \n",
      "1980  3825    0:02.6 -102.830624   0.461605839   \n",
      "2000  3869    0:02.7 -100.7398893  0.461516287   \n",
      "2020  3902    0:02.7 -99.02548054  0.462878355   \n",
      "2040  3938    0:02.7 -97.54830585  0.463821368   \n",
      "2060  3976    0:02.8 -95.99303762  0.464485458613\n",
      "2080  4016    0:02.8 -94.47499661  0.464878319   \n",
      "2100  4049    0:02.9 -93.101682    0.466155111   \n",
      "2120  4087    0:02.9 -91.22016561  0.466775156   \n",
      "2140  4122    0:02.9 -89.4812001   0.467759269   \n",
      "2160  4166    0:03.0 -87.85872897  0.467604886   \n",
      "2180  4203    0:03.0 -86.03548605  0.468314489   \n",
      "2200  4252    0:03.0 -84.19723565  0.467549325026\n",
      "2220  4289    0:03.1 -82.75406826  0.468243764   \n",
      "2240  4318    0:03.1 -81.26626696  0.469882593   \n",
      "2260  4351    0:03.1 -79.59095861  0.471019994938\n",
      "2280  4392    0:03.1 -77.88533355  0.471192385   \n",
      "2300  4431    0:03.2 -76.01434737  0.471595137683\n",
      "2320  4461    0:03.2 -74.76958983  0.473036198   \n",
      "2340  4500    0:03.2 -73.47962731  0.473414634   \n",
      "2360  4535    0:03.3 -71.83609664  0.474244256   \n",
      "2380  4570    0:03.3 -70.18109041  0.475059952   \n",
      "2400  4613    0:03.3 -69.06658084  0.474958462   \n",
      "2420  4643    0:03.4 -67.88633503  0.476313929   \n",
      "2440  4687    0:03.4 -66.43567922  0.476090506   \n",
      "2460  4718    0:03.4 -65.09336465  0.477304308   \n",
      "2480  4750    0:03.4 -65.73539469  0.478390805   \n",
      "2500  4784    0:03.5 -64.20585864  0.479242701   \n",
      "2520  4814    0:03.5 -62.88385922  0.480516538   \n",
      "2540  4843    0:03.5 -61.73184208  0.481881612   \n",
      "2560  4873    0:03.6 -60.75238156  0.483120948   \n",
      "2580  4908    0:03.6 -59.66775621  0.483806566   \n",
      "2600  4947    0:03.6 -58.59888612  0.484055421   \n",
      "2620  4979    0:03.7 -57.56166614  0.485040402   \n",
      "2640  5010    0:03.7 -56.46080298  0.486117137   \n",
      "2660  5048    0:03.7 -55.2885609   0.486445783   \n",
      "2680  5079    0:03.8 -54.09240282  0.487497328489\n",
      "2700  5111    0:03.8 -52.73770162  0.488431331   \n",
      "2720  5140    0:03.8 -51.48270924  0.489662447   \n",
      "2740  5174    0:03.8 -50.46177547  0.490364474   \n",
      "2760  5205    0:03.9 -50.48208666  0.491363163   \n",
      "2780  5234    0:03.9 -49.4259429   0.492552751   \n",
      "2800  5267    0:03.9 -48.45251827  0.493322375   \n",
      "2820  5300    0:04.0 -47.55987905  0.494081633   \n",
      "2840  5331    0:04.0 -46.64866623  0.495031434   \n",
      "2860  5363    0:04.0 -45.63086287  0.495869434   \n",
      "2880  5401    0:04.0 -44.64147164  0.496100779844\n",
      "2900  5443    0:04.1 -43.53921698  0.495934959   \n",
      "2920  5470    0:04.1 -42.56276605  0.497238659   \n",
      "2940  5507    0:04.2 -41.75354711  0.497552379   \n",
      "2960  5541    0:04.2 -40.87727568  0.49815211    \n",
      "2980  5587    0:04.2 -39.99965065  0.497590129   \n",
      "3000  5621    0:04.3 -38.97469383  0.498180425   \n",
      "3020  5652    0:04.3 -37.98772851  0.499047982   \n",
      "3040  5689    0:04.3 -36.98815752  0.499338249   \n",
      "3060  5720    0:04.3 -36.04858509  0.50018797    \n",
      "3080  5755    0:04.4 -36.36457922  0.500653595   \n",
      "3100  5780    0:04.4 -35.44846896  0.50204461    \n",
      "3120  5808    0:04.4 -34.68371591  0.503143491   \n",
      "3140  5840    0:04.5 -33.82064282  0.503860294   \n",
      "3160  5872    0:04.5 -33.04107481  0.504568713   \n",
      "3180  5902    0:04.5 -32.46749758  0.505452563   \n",
      "3200  5934    0:04.6 -31.7924908   0.506143838   \n",
      "3220  5960    0:04.6 -31.07815925  0.507374101   \n",
      "3240  5987    0:04.6 -30.39187182  0.508501879   \n",
      "3260  6015    0:04.6 -29.67703301  0.50952805    \n",
      "3280  6045    0:04.7 -28.9376107   0.510363153   \n",
      "3300  6080    0:04.7 -28.27196579  0.510739437   \n",
      "3320  6106    0:04.7 -27.54292348  0.51191728    \n",
      "3340  6131    0:04.7 -26.80888501  0.513173966149\n",
      "3360  6161    0:04.8 -26.1047352   0.513973269   \n",
      "3380  6193    0:04.8 -25.48310956  0.51458657    \n",
      "3400  6223    0:04.8 -24.86139867  0.515370084   \n",
      "3420  6248    0:04.9 -24.20144277  0.516586867   \n",
      "3440  6283    0:04.9 -23.55290118  0.51691314    \n",
      "3460  6314    0:04.9 -22.91197764  0.517585391   \n",
      "3480  6342    0:04.9 -22.33227486  0.518512285   \n",
      "3500  6381    0:05.0 -21.80289754  0.518475171376\n",
      "3520  6403    0:05.0 -21.27212244  0.51990671331 \n",
      "3540  6433    0:05.0 -20.76782008  0.520636499   \n",
      "3560  6460    0:05.1 -20.17346507  0.521617162   \n",
      "3580  6492    0:05.1 -19.61992953  0.52216021    \n",
      "3600  6526    0:05.1 -19.1225672   0.522526934   \n",
      "3620  6550    0:05.2 -18.71400757  0.523739837   \n",
      "3640  6574    0:05.2 -18.28015728  0.524943311   \n",
      "3660  6610    0:05.2 -17.83876086  0.525120773   \n",
      "3680  6639    0:05.3 -17.39864712  0.525885559   \n",
      "3700  6672    0:05.3 -16.97439952  0.526307398   \n",
      "3720  6702    0:05.3 -16.57628913  0.526975563   \n",
      "3740  6728    0:05.4 -16.49586109  0.527970923   \n",
      "3760  6767    0:05.4 -16.09192537  0.527878122   \n",
      "3780  6796    0:05.4 -15.66950366  0.528611632   \n",
      "3800  6828    0:05.4 -15.29570085  0.529091475   \n",
      "3820  6856    0:05.5 -14.91833451  0.529894672   \n",
      "3840  6893    0:05.5 -14.53147461  0.529955337   \n",
      "3860  6927    0:05.5 -14.12062317  0.530258924   \n",
      "3880  6967    0:05.5 -13.70210263  0.530074616   \n",
      "3900  6996    0:05.6 -13.31660111  0.530776228017\n",
      "3920  7027    0:05.6 -12.95415481  0.531311302   \n",
      "3940  7061    0:05.6 -12.60868818  0.531601862   \n",
      "3960  7089    0:05.7 -12.25052228  0.532366572   \n",
      "3980  7124    0:05.7 -11.87143179  0.532569899   \n",
      "4000  7158    0:05.7 -11.52053528  0.532849956   \n",
      "4020  7182    0:05.8 -11.18361997  0.5339133     \n",
      "4040  7210    0:05.8 -10.86732884  0.534654919   \n",
      "4060  7233    0:05.8 -10.56165137  0.535782233   \n",
      "4080  7264    0:05.9 -10.25589467  0.536276224   \n",
      "4100  7296    0:05.9 -10.0964146   0.536687935   \n",
      "4120  7324    0:05.9 -9.827457034  0.537406123628\n",
      "4140  7359    0:05.9 -9.561314519  0.537577238   \n",
      "4160  7391    0:06.0 -9.304185319  0.5379774     \n",
      "4180  7426    0:06.0 -9.047445969  0.538144036   \n",
      "4200  7458    0:06.0 -8.795662346  0.538537829   \n",
      "4220  7483    0:06.1 -8.557324755  0.539460681   \n",
      "4240  7510    0:06.1 -8.320490608  0.540225035   \n",
      "4260  7538    0:06.1 -8.082152993  0.540907817   \n",
      "4280  7578    0:06.1 -7.844822528  0.540679855   \n",
      "4300  7606    0:06.2 -7.615595128  0.541354427   \n",
      "4320  7636    0:06.2 -7.398451979  0.541873964   \n",
      "4340  7669    0:06.2 -7.186870637  0.54216536    \n",
      "4360  7697    0:06.2 -6.979994904  0.542825819   \n",
      "4380  7730    0:06.3 -6.782710836  0.543110505   \n",
      "4400  7756    0:06.3 -6.587421598  0.543909734   \n",
      "4420  7783    0:06.3 -6.396338188  0.544629554   \n",
      "4440  7808    0:06.4 -6.214881687  0.545491361   \n",
      "4460  7843    0:06.4 -6.040900885  0.545613328   \n",
      "4480  7885    0:06.5 -5.871819104  0.545223781   \n",
      "4500  7921    0:06.5 -5.701816244  0.545273235   \n",
      "4520  7950    0:06.5 -5.534642247  0.545827815   \n",
      "4540  7981    0:06.5 -5.372608542  0.546234006   \n",
      "4560  8012    0:06.6 -5.21338859   0.546636889   \n",
      "4580  8045    0:06.6 -5.058859961  0.546893394   \n",
      "4600  8075    0:06.6 -4.90589423   0.547361564   \n",
      "4620  8105    0:06.7 -4.750417221  0.547826087   \n",
      "4640  8132    0:06.7 -4.596903334  0.548499741   \n",
      "4660  8161    0:06.8 -4.446474738  0.549027187   \n",
      "4680  8191    0:06.8 -4.298126487  0.549480169   \n",
      "4700  8220    0:06.8 -4.154259742  0.55          \n",
      "4720  8254    0:06.9 -4.010711766  0.550165521   \n",
      "4740  8290    0:06.9 -3.87055232   0.550190114   \n",
      "4760  8323    0:06.9 -3.732531926  0.550422819639\n",
      "4780  8350    0:07.0 -3.599647705  0.551069182   \n",
      "4800  8384    0:07.0 -3.470251944  0.551227455   \n",
      "4820  8408    0:07.0 -3.344884188  0.552072927   \n"
     ]
    },
    {
     "name": "stdout",
     "output_type": "stream",
     "text": [
      "4840  8437    0:07.0 -3.223811419  0.552569367   \n",
      "4860  8466    0:07.1 -3.105844281  0.553062237   \n",
      "4880  8493    0:07.1 -2.991523457  0.553688373   \n",
      "4900  8522    0:07.1 -2.880332745  0.554173849   \n",
      "4920  8546    0:07.1 -2.771842281  0.554996317   \n",
      "4940  8580    0:07.2 -2.664365517  0.555134474   \n",
      "4960  8609    0:07.2 -2.560787233  0.555609697   \n",
      "4980  8638    0:07.2 -2.461807051  0.556081573   \n",
      "5000  8667    0:07.3 -2.367193559  0.556550139   \n",
      "5020  8691    0:07.3 -2.327134254  0.557351345   \n",
      "5040  8716    0:07.3 -2.237232203  0.558080808   \n",
      "5060  8741    0:07.3 -2.149517523  0.558805899   \n",
      "5080  8766    0:07.4 -2.064129371  0.559526656   \n",
      "5100  8793    0:07.4 -1.981107835  0.560109615   \n",
      "5120  8821    0:07.4 -1.900575835  0.560622254   \n",
      "5140  8846    0:07.4 -1.82256306   0.561330807   \n",
      "5160  8873    0:07.5 -1.747023194  0.561902514   \n",
      "5180  8904    0:07.5 -1.673341706  0.562206021   \n",
      "5200  8927    0:07.6 -1.601497509  0.563035065   \n",
      "5220  8953    0:07.6 -1.531942757  0.563661873027\n",
      "5240  8977    0:07.6 -1.464990222  0.564416463   \n",
      "5260  9008    0:07.7 -1.400266559  0.564707249   \n",
      "5280  9040    0:07.7 -1.337792676  0.564930556   \n",
      "5300  9068    0:07.7 -1.277220094  0.565413013   \n",
      "5320  9095    0:07.8 -1.218762049  0.565957447   \n",
      "5340  9124    0:07.8 -1.162425711  0.566368638   \n",
      "5360  9150    0:07.8 -1.108214593  0.566971429   \n",
      "5380  9177    0:07.9 -1.056029243  0.567505982   \n",
      "5400  9208    0:07.9 -1.005919355  0.567779292   \n",
      "5420  9232    0:07.9 -0.957968     0.568500906   \n",
      "5440  9255    0:08.0 -0.912044     0.569282891022\n",
      "5460  9281    0:08.0 -0.868066     0.569868258079\n",
      "5480  9306    0:08.0 -0.825944     0.57051426    \n",
      "5500  9342    0:08.0 -0.785529806  0.570454037   \n",
      "5520  9368    0:08.1 -0.746903     0.57103033    \n",
      "5540  9395    0:08.1 -0.710056     0.571539744   \n",
      "5560  9420    0:08.1 -0.674916601  0.572172949   \n",
      "5580  9451    0:08.2 -0.641414     0.572422937   \n",
      "5600  9496    0:08.2 -0.609434     0.571789798   \n",
      "5620  9520    0:08.2 -0.578959     0.57247807    \n",
      "5640  9553    0:08.3 -0.549947     0.572599148   \n",
      "5660  9580    0:08.3 -0.522321     0.573093682   \n",
      "Convergence obtained with Delta_z = -0.499836288133\n",
      "Done!\n"
     ]
    }
   ],
   "source": [
    "samples = sampler.run()\n",
    "print('Done!')"
   ]
  },
  {
   "cell_type": "markdown",
   "metadata": {},
   "source": [
    "## Plot posterior samples versus true parameter values (dashed lines)"
   ]
  },
  {
   "cell_type": "code",
   "execution_count": 4,
   "metadata": {},
   "outputs": [
    {
     "data": {
      "image/png": "[encoded data removed]",
      "text/plain": [
       "<matplotlib.figure.Figure at 0x1f6ea304cc0>"
      ]
     },
     "metadata": {},
     "output_type": "display_data"
    }
   ],
   "source": [
    "# Plot output\n",
    "import pints.plot\n",
    "\n",
    "pints.plot.histogram([samples], ref_parameters=[r, k, sigma])\n",
    "\n",
    "plt.show()"
   ]
  },
  {
   "cell_type": "markdown",
   "metadata": {},
   "source": [
    "## Plot posterior predictive simulations versus the observed data"
   ]
  },
  {
   "cell_type": "code",
   "execution_count": 5,
   "metadata": {},
   "outputs": [
    {
     "data": {
      "image/png": "[encoded data removed]",
      "text/plain": [
       "<matplotlib.figure.Figure at 0x1f6eb401b70>"
      ]
     },
     "metadata": {},
     "output_type": "display_data"
    }
   ],
   "source": [
    "pints.plot.series(samples[:100], problem)\n",
    "plt.show()"
   ]
  },
  {
   "cell_type": "markdown",
   "metadata": {},
   "source": [
    "## Marginal likelihood estimate"
   ]
  },
  {
   "cell_type": "code",
   "execution_count": 6,
   "metadata": {},
   "outputs": [
    {
     "name": "stdout",
     "output_type": "stream",
     "text": [
      "marginal log-likelihood = -388.389626241 ± 0.0796540662066\n"
     ]
    }
   ],
   "source": [
    "print('marginal log-likelihood = ' + str(sampler.marginal_log_likelihood())\n",
    "      + ' ± ' + str(sampler.marginal_log_likelihood_standard_deviation()))"
   ]
  },
  {
   "cell_type": "markdown",
   "metadata": {},
   "source": [
    "## Effective sample size"
   ]
  },
  {
   "cell_type": "code",
   "execution_count": 7,
   "metadata": {},
   "outputs": [
    {
     "name": "stdout",
     "output_type": "stream",
     "text": [
      "effective sample size = 1638.23714121\n"
     ]
    }
   ],
   "source": [
    "print('effective sample size = ' + str(sampler.effective_sample_size()))"
   ]
  }
 ],
 "metadata": {
  "kernelspec": {
   "display_name": "Python 3",
   "language": "python",
   "name": "python3"
  },
  "language_info": {
   "codemirror_mode": {
    "name": "ipython",
    "version": 3
   },
   "file_extension": ".py",
   "mimetype": "text/x-python",
   "name": "python",
   "nbconvert_exporter": "python",
   "pygments_lexer": "ipython3",
   "version": "3.6.3"
  }
 },
 "nbformat": 4,
 "nbformat_minor": 2
}
