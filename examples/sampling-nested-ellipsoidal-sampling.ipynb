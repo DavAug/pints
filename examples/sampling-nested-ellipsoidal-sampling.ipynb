{
 "cells": [
  {
   "cell_type": "markdown",
   "metadata": {},
   "source": [
    "# Ellipsoidal nested sampling\n",
    "\n",
    "This example demonstrates how to use ellipsoidal nested rejection sampling [1] to sample from the posterior distribution for a logistic model fitted to model-simulated data.\n",
    "\n",
    "[1] \"A nested sampling algorithm for cosmological model selection\", Pia Mukherjee, David Parkinson and Andrew R. Liddle, [arXiv:astro-ph/0508461v2](https://arxiv.org/abs/astro-ph/0508461)."
   ]
  },
  {
   "cell_type": "markdown",
   "metadata": {},
   "source": [
    "First create fake data."
   ]
  },
  {
   "cell_type": "code",
   "execution_count": 1,
   "metadata": {},
   "outputs": [
    {
     "data": {
      "image/png": "[encoded data removed]",
      "text/plain": [
       "<matplotlib.figure.Figure at 0x1dd55afdd30>"
      ]
     },
     "metadata": {},
     "output_type": "display_data"
    }
   ],
   "source": [
    "import pints\n",
    "import pints.toy as toy\n",
    "import numpy as np\n",
    "import matplotlib.pyplot as plt\n",
    "\n",
    "# Load a forward model\n",
    "model = toy.LogisticModel()\n",
    "\n",
    "# Create some toy data\n",
    "r = 0.015\n",
    "k = 500\n",
    "real_parameters = [r, k]\n",
    "times = np.linspace(0, 1000, 100)\n",
    "signal_values = model.simulate(real_parameters, times)\n",
    "\n",
    "# Add independent Gaussian noise\n",
    "sigma = 10\n",
    "observed_values = signal_values + pints.noise.independent(sigma, signal_values.shape)\n",
    "\n",
    "# Plot\n",
    "plt.plot(times,signal_values,label = 'signal')\n",
    "plt.plot(times,observed_values,label = 'observed')\n",
    "plt.xlabel('Time')\n",
    "plt.ylabel('Values')\n",
    "plt.legend()\n",
    "plt.show()"
   ]
  },
  {
   "cell_type": "markdown",
   "metadata": {},
   "source": [
    "Create the nested sampler that will be used to sample from the posterior."
   ]
  },
  {
   "cell_type": "code",
   "execution_count": 2,
   "metadata": {},
   "outputs": [],
   "source": [
    "# Create an object with links to the model and time series\n",
    "problem = pints.SingleOutputProblem(model, times, observed_values)\n",
    "\n",
    "# Create a log-likelihood function (adds an extra parameter!)\n",
    "log_likelihood = pints.GaussianLogLikelihood(problem)\n",
    "\n",
    "# Create a uniform prior over both the parameters and the new noise variable\n",
    "log_prior = pints.UniformLogPrior(\n",
    "    [0.01, 400, sigma * 0.5],\n",
    "    [0.02, 600, sigma * 1.5])\n",
    "\n",
    "# Create a nested ellipsoidal rejectection sampler\n",
    "sampler = pints.NestedController(log_likelihood, log_prior, method=pints.NestedEllipsoidSampler)\n",
    "\n",
    "# Set number of iterations\n",
    "sampler.set_iterations(8000)\n",
    "\n",
    "# Set the number of posterior samples to generate\n",
    "sampler.set_n_posterior_samples(1600)\n",
    "\n",
    "# Do proposals in parallel\n",
    "sampler.set_parallel(True)\n",
    "\n",
    "# Use dynamic enlargement factor\n",
    "sampler._sampler.set_dynamic_enlargement_factor(1)"
   ]
  },
  {
   "cell_type": "markdown",
   "metadata": {},
   "source": [
    "Run the sampler!"
   ]
  },
  {
   "cell_type": "code",
   "execution_count": 3,
   "metadata": {},
   "outputs": [
    {
     "name": "stdout",
     "output_type": "stream",
     "text": [
      "Running Nested ellipsoidal sampler\n",
      "Number of active points: 400\n",
      "Total number of iterations: 8000\n",
      "Total number of posterior samples: 1600\n",
      "Iter. Eval. Time m:s Delta_log(z) Acceptance rate\n",
      "0     1       0:01.9 -inf          1             \n",
      "0     2       0:01.9 -inf          1             \n",
      "0     3       0:01.9 -inf          1             \n",
      "0     4       0:01.9 -inf          1             \n",
      "0     5       0:01.9 -inf          1             \n",
      "0     21      0:02.0 -inf          1             \n",
      "0     41      0:02.0 -inf          1             \n",
      "0     61      0:02.0 -inf          1             \n",
      "0     81      0:02.1 -inf          1             \n",
      "0     101     0:02.1 -inf          1             \n",
      "0     121     0:02.2 -inf          1             \n",
      "0     141     0:02.2 -inf          1             \n",
      "0     161     0:02.3 -inf          1             \n",
      "0     181     0:02.3 -inf          1             \n",
      "0     201     0:02.4 -inf          1             \n",
      "0     221     0:02.4 -inf          1             \n",
      "0     241     0:02.4 -inf          1             \n",
      "0     261     0:02.5 -inf          1             \n",
      "0     281     0:02.5 -inf          1             \n",
      "0     301     0:02.6 -inf          1             \n",
      "0     321     0:02.6 -inf          1             \n",
      "0     341     0:02.7 -inf          1             \n",
      "0     361     0:02.7 -inf          1             \n",
      "0     381     0:02.7 -inf          1             \n",
      "400   404     0:02.8 -inf          0.25          \n",
      "420   424     0:02.8 -11176.23613  0.875         \n",
      "440   444     0:02.8 -8282.561094  0.931818182   \n",
      "460   468     0:02.9 -6680.872093  0.897058824   \n",
      "480   488     0:02.9 -5888.771148  0.920454545   \n",
      "500   512     0:02.9 -5055.876986  0.901785714   \n",
      "520   540     0:02.9 -4424.585767  0.864285714   \n",
      "540   572     0:03.0 -3871.596198  0.819767442   \n",
      "560   596     0:03.0 -3465.50953   0.821428571   \n",
      "580   636     0:03.0 -3089.055482  0.766949153   \n",
      "600   672     0:03.1 -2831.974267  0.738970588   \n",
      "620   712     0:03.1 -2653.683942  0.708333333   \n",
      "640   740     0:03.1 -2416.149226  0.708823529   \n",
      "660   784     0:03.1 -2291.721539  0.6796875     \n",
      "680   820     0:03.2 -2105.210909  0.669047619   \n",
      "700   864     0:03.2 -1968.849216  0.648706897   \n",
      "720   892     0:03.2 -1855.386476  0.652439024   \n",
      "740   932     0:03.3 -1704.892754  0.640977443609\n",
      "760   968     0:03.3 -1589.756389  0.63556338    \n",
      "780   1008    0:03.4 -1509.05313   0.626644737   \n",
      "800   1048    0:03.4 -1426.106855  0.61882716    \n",
      "820   1096    0:03.4 -1335.275183  0.604885057   \n",
      "840   1140    0:03.5 -1222.140109  0.595945946   \n",
      "860   1192    0:03.5 -1147.255245  0.582070707   \n",
      "880   1252    0:03.6 -1097.499527  0.564553991   \n",
      "900   1300    0:03.6 -1033.399335  0.556666667   \n",
      "920   1364    0:03.6 -985.1943492  0.540456432   \n",
      "940   1416    0:03.7 -939.2700497  0.532480315   \n",
      "960   1476    0:03.7 -880.4810266  0.521375464684\n",
      "980   1540    0:03.8 -818.5331546  0.509649122807\n",
      "1000  1584    0:03.8 -776.6830768  0.507601351   \n",
      "1020  1656    0:03.9 -747.4174061  0.494426752   \n",
      "1040  1724    0:03.9 -725.957253   0.484138973   \n",
      "1060  1808    0:04.0 -679.2266788  0.469460227   \n",
      "1080  1896    0:04.3 -641.2052872  0.455213904   \n",
      "1100  2004    0:06.1 -603.4051379  0.437032419   \n",
      "1120  2056    0:06.2 -572.8283357  0.43538647343 \n",
      "1140  2124    0:06.3 -544.8488132  0.429814385   \n",
      "1160  2168    0:06.3 -517.0007846  0.430429864   \n",
      "1180  2220    0:06.3 -495.9498559  0.429120879   \n",
      "1200  2272    0:06.4 -470.7490036  0.427884615   \n",
      "1220  2316    0:06.5 -435.5984581  0.428496868476\n",
      "1240  2384    0:06.6 -415.1542737  0.423891129   \n",
      "1260  2436    0:06.7 -389.3904476  0.422888016   \n",
      "1280  2492    0:06.7 -368.893511   0.421128107   \n",
      "1300  2556    0:06.8 -355.087364   0.417903525   \n",
      "1320  2620    0:06.9 -335.790762   0.414864865   \n",
      "1340  2680    0:07.0 -324.0486333  0.412719298   \n",
      "1360  2748    0:07.3 -304.9269422  0.409284497   \n",
      "1380  2848    0:07.4 -288.0089572  0.400735294   \n",
      "1400  2936    0:07.5 -276.5584206  0.394716088   \n",
      "1420  3016    0:07.5 -261.9884449  0.39029052    \n",
      "1440  3100    0:07.6 -247.628557   0.385555556   \n",
      "1460  3196    0:07.7 -237.264075   0.379470672   \n",
      "1480  3280    0:07.7 -221.0953084  0.375347222   \n",
      "1500  3380    0:07.8 -208.6228342  0.369463087   \n",
      "1520  3428    0:07.9 -197.3922502  0.370211361   \n",
      "1540  3480    0:07.9 -186.7586443  0.370454545   \n",
      "1560  3520    0:08.0 -180.8534514  0.372115385   \n",
      "1580  3568    0:08.2 -173.1809417  0.372790404   \n",
      "1600  3620    0:08.3 -164.6582501  0.372981366   \n",
      "1620  3652    0:08.3 -158.7145988  0.375461255   \n",
      "1640  3688    0:08.4 -152.9108305  0.37743309    \n",
      "1660  3732    0:08.4 -146.8248164  0.378451381   \n",
      "1680  3772    0:08.5 -139.536212   0.379893238   \n",
      "1700  3828    0:08.6 -134.0709572  0.379521587   \n",
      "1720  3884    0:08.6 -126.9010247  0.379161883   \n",
      "1740  3920    0:08.7 -122.2769128  0.380965909   \n",
      "1760  3972    0:09.0 -117.8706998  0.381019037   \n",
      "1780  4048    0:09.1 -113.6785958  0.378563596   \n",
      "1800  4116    0:09.2 -109.8004359  0.377018299   \n",
      "1820  4192    0:09.5 -106.8821834  0.374736287   \n",
      "1840  4248    0:09.5 -102.6024372  0.374480249   \n",
      "1860  4304    0:09.6 -99.22549449  0.374231557377\n",
      "1880  4380    0:09.7 -96.02006085  0.372110553   \n",
      "1900  4472    0:09.8 -93.10587399  0.368614931   \n",
      "1920  4516    0:10.3 -90.17507965  0.369533528   \n",
      "1940  4556    0:10.3 -87.9036929   0.37078922    \n",
      "1960  4600    0:10.4 -85.98910137  0.371666667   \n",
      "1980  4648    0:10.4 -84.02303798  0.372175141   \n",
      "2000  4692    0:10.5 -82.33484522  0.373019571   \n",
      "2020  4760    0:10.5 -80.70117631  0.371788991   \n",
      "2040  4812    0:10.6 -80.66380757  0.371940163   \n",
      "2060  4876    0:10.7 -79.18139461  0.37109025916 \n",
      "2080  4940    0:10.7 -77.71605428  0.370264317   \n",
      "2100  5000    0:10.8 -75.69674028  0.369782609   \n",
      "2120  5032    0:10.8 -74.13278771  0.371545769   \n",
      "2140  5068    0:10.9 -72.70775873  0.372964867   \n",
      "2160  5108    0:10.9 -71.41509627  0.37404418    \n",
      "2180  5160    0:11.0 -70.16059583  0.374159664   \n",
      "2200  5204    0:11.4 -68.74810991  0.37489592    \n",
      "2220  5260    0:11.5 -67.25303999  0.374691358   \n",
      "2240  5296    0:11.5 -65.46678085  0.376021242   \n",
      "2260  5348    0:11.5 -63.83867609  0.37611156    \n",
      "2280  5404    0:11.6 -62.4041563   0.375899281   \n",
      "2300  5440    0:11.6 -61.10220897  0.37718254    \n",
      "2320  5520    0:11.7 -59.65365974  0.3751953125  \n",
      "2340  5576    0:11.8 -58.63399247  0.375         \n",
      "2360  5640    0:11.8 -57.49652381  0.374236641   \n",
      "2380  5720    0:11.9 -55.87603342  0.372368421   \n",
      "2400  5812    0:12.0 -54.60163683  0.369733924612\n",
      "2420  5840    0:12.0 -53.52249194  0.371507353   \n",
      "2440  5868    0:12.4 -52.41230802  0.373262619   \n",
      "2460  5892    0:12.4 -51.40173067  0.375273125   \n",
      "2480  5920    0:12.4 -50.42552277  0.376992754   \n",
      "2500  5960    0:12.5 -49.30199487  0.377877698   \n",
      "2520  5992    0:12.5 -48.18880566  0.379291845   \n",
      "2540  6028    0:12.6 -47.1749587   0.380419332   \n",
      "2560  6056    0:12.6 -46.02284385  0.382072135785\n",
      "2580  6092    0:12.7 -44.96779581  0.383169360506\n",
      "2600  6148    0:12.7 -43.94086905  0.382915797   \n",
      "2620  6188    0:12.8 -42.92772236  0.383724948   \n",
      "2640  6224    0:13.1 -41.86633599  0.384787088   \n",
      "2660  6260    0:13.1 -41.11047968  0.385836177   \n",
      "2680  6312    0:13.2 -40.25622444  0.38582544    \n",
      "2700  6368    0:13.2 -39.24533267  0.3855563     \n",
      "2720  6416    0:13.3 -38.33981944  0.385804521   \n",
      "2740  6480    0:13.3 -37.41097865  0.385032895   \n",
      "2760  6548    0:13.4 -36.42616259  0.384027326   \n",
      "2780  6620    0:13.4 -35.49006635  0.382797428   \n",
      "2800  6704    0:13.5 -34.60269226  0.380869289   \n",
      "2820  6728    0:13.6 -33.7059129   0.382585335019\n",
      "2840  6748    0:13.6 -32.86826738  0.384530561   \n",
      "2860  6776    0:13.6 -32.06337399  0.38597867    \n",
      "2880  6804    0:14.0 -31.27648415  0.387414116   \n",
      "2900  6832    0:14.0 -30.49712488  0.388837065   \n",
      "2920  6852    0:14.0 -29.78320872  0.390731556   \n",
      "2940  6876    0:14.1 -29.01313723  0.392371834   \n",
      "2960  6900    0:14.1 -28.19030202  0.394         \n",
      "2980  6924    0:14.1 -27.58340439  0.395616186   \n",
      "3000  6956    0:14.2 -26.86478258  0.396735814521\n",
      "3020  6992    0:14.2 -26.24222393  0.397603155   \n",
      "3040  7024    0:14.2 -25.5969191   0.398701691   \n",
      "3060  7052    0:14.3 -25.00592693  0.400030066   \n",
      "3080  7084    0:14.3 -24.41025016  0.401107121   \n",
      "3100  7128    0:14.4 -23.82726935  0.401456599   \n",
      "3120  7160    0:14.4 -23.27108534  0.402514793   \n"
     ]
    },
    {
     "name": "stdout",
     "output_type": "stream",
     "text": [
      "3140  7184    0:14.4 -22.68497473  0.404038915   \n",
      "3160  7220    0:14.5 -22.00901291  0.40483871    \n",
      "3180  7252    0:14.8 -21.37612081  0.4058669     \n",
      "3200  7284    0:14.8 -20.80887879  0.406885532   \n",
      "3220  7324    0:14.8 -20.25530169  0.407423455   \n",
      "3240  7360    0:14.9 -19.73618796  0.408189655   \n",
      "3260  7392    0:14.9 -19.23279631  0.409181922   \n",
      "3280  7428    0:15.0 -18.69041829  0.409931702   \n",
      "3300  7468    0:15.0 -18.11761143  0.410441426146\n",
      "3320  7516    0:15.1 -17.61364559  0.410483418   \n",
      "3340  7568    0:15.1 -17.10341116  0.410295759   \n",
      "3360  7632    0:15.2 -16.55232645  0.40943031    \n",
      "3380  7676    0:15.2 -16.08071787  0.409703134   \n",
      "3400  7720    0:15.3 -15.66040328  0.409972678   \n",
      "3420  7744    0:15.3 -15.23785403  0.411356209   \n",
      "3440  7768    0:15.3 -14.81803427  0.412730727   \n",
      "3460  7792    0:15.4 -14.39978337  0.41409632    \n",
      "3480  7820    0:15.7 -13.98855862  0.415229111   \n",
      "3500  7848    0:15.7 -13.91559884  0.416353383   \n",
      "3520  7872    0:15.7 -13.54425869  0.417692719   \n",
      "3540  7908    0:15.8 -13.16655261  0.418353756   \n",
      "3560  7956    0:15.9 -12.79700509  0.418343039   \n",
      "3580  7992    0:15.9 -12.45925667  0.418993678   \n",
      "3600  8028    0:16.0 -12.13495979  0.419638175   \n",
      "3620  8052    0:16.0 -11.81209063  0.420935703   \n",
      "3640  8076    0:16.1 -11.47676879  0.422225117   \n",
      "3660  8112    0:16.1 -11.15854486  0.42284751    \n",
      "3680  8140    0:16.2 -10.84402981  0.423901809   \n",
      "3700  8176    0:16.2 -10.70101281  0.424511317   \n",
      "3720  8196    0:16.3 -10.42197433  0.425987686   \n",
      "3740  8224    0:16.3 -10.1522464   0.427019427   \n",
      "3760  8248    0:16.4 -10.07916242  0.428261978   \n",
      "3780  8280    0:16.6 -9.821898322  0.429060914   \n",
      "3800  8308    0:16.7 -9.563774777  0.430070814   \n",
      "3820  8328    0:16.8 -9.317783359  0.431508577   \n",
      "3840  8356    0:16.8 -9.077262606  0.432503771   \n",
      "3860  8376    0:16.8 -8.831316229  0.433926780341\n",
      "3880  8400    0:16.9 -8.575800472  0.435125      \n",
      "3900  8436    0:16.9 -8.325275669  0.43566451    \n",
      "3920  8472    0:16.9 -8.080829943  0.436199207   \n",
      "3940  8504    0:17.0 -7.843231681  0.436944719   \n",
      "3960  8536    0:17.0 -7.619107934  0.437684366   \n",
      "3980  8576    0:17.1 -7.396346404  0.437989237   \n",
      "4000  8616    0:17.1 -7.178888645  0.438291139   \n",
      "4020  8660    0:17.2 -6.959698183  0.438377724   \n",
      "4040  8696    0:17.2 -6.742098639  0.43888621    \n",
      "4060  8732    0:17.3 -6.530903357  0.439390302   \n",
      "4080  8784    0:17.4 -6.322679971  0.439050573   \n",
      "4100  8840    0:17.7 -6.111634498  0.438507109   \n",
      "4120  8912    0:17.7 -5.89754216   0.437147556391\n",
      "4140  8988    0:17.8 -5.690727373  0.435607825   \n",
      "4160  9036    0:17.9 -5.491403382  0.435502547   \n",
      "4180  9088    0:17.9 -5.295822068  0.435197974   \n",
      "4200  9136    0:18.0 -5.102360707  0.435096154   \n",
      "4220  9160    0:18.0 -4.915968536  0.436187215   \n",
      "4240  9188    0:18.1 -4.741438128  0.437073282   \n",
      "4260  9212    0:18.1 -4.571101605  0.438152519   \n",
      "4280  9240    0:18.2 -4.436913604  0.439027149   \n",
      "4300  9264    0:18.2 -4.280602993  0.440094765343\n",
      "4320  9288    0:18.3 -4.12988866   0.441156616   \n",
      "4340  9316    0:19.1 -3.981748096  0.442014356   \n",
      "4360  9348    0:19.1 -3.837637312  0.442668753   \n",
      "4380  9384    0:19.1 -3.701449276  0.443121104   \n",
      "4400  9428    0:19.2 -3.563558258  0.443176783   \n",
      "4420  9464    0:19.2 -3.427930698  0.443623124   \n",
      "4440  9500    0:19.3 -3.296377725  0.444065934   \n",
      "4460  9540    0:19.4 -3.167470844  0.444310722   \n",
      "4480  9588    0:19.4 -3.043154849  0.444166304   \n",
      "4500  9636    0:19.5 -2.923992118  0.444023387   \n",
      "4520  9684    0:19.6 -2.807673013  0.443881947   \n",
      "4540  9732    0:19.7 -2.692069755  0.443741963   \n",
      "4560  9788    0:20.1 -2.57867285   0.443225394   \n",
      "4580  9852    0:20.2 -2.46966944   0.442340245   \n",
      "4600  9896    0:20.2 -2.365169476  0.442396799   \n",
      "4620  9920    0:20.3 -2.264150619  0.443382353   \n",
      "4640  9944    0:20.3 -2.16754092   0.444362951   \n",
      "4660  9976    0:20.4 -2.074789781  0.444966583   \n",
      "4680  10004   0:20.4 -1.984778905  0.44575177    \n",
      "4700  10024   0:20.4 -1.89797463   0.446903574   \n",
      "4720  10052   0:20.5 -1.814688263  0.447679237   \n",
      "4740  10080   0:20.5 -1.734085901  0.448450413   \n",
      "4760  10112   0:20.5 -1.656365408  0.449032125   \n",
      "4780  10152   0:20.6 -1.598629905  0.449241181   \n",
      "4800  10180   0:20.6 -1.526824875  0.45          \n",
      "4820  10216   0:20.6 -1.45800275   0.450387123   \n",
      "4840  10256   0:20.7 -1.391860132  0.450588474026\n",
      "4860  10308   0:21.0 -1.328322576  0.450242229   \n",
      "4880  10340   0:21.1 -1.267096667  0.450804829   \n",
      "4900  10408   0:21.1 -1.208146369  0.449740208   \n",
      "4920  10452   0:21.2 -1.151564235  0.449761241544\n",
      "4940  10504   0:21.2 -1.09727333   0.44942597    \n",
      "4960  10560   0:21.3 -1.045159071  0.448917323   \n",
      "4980  10600   0:21.3 -0.995113     0.449117647   \n",
      "5000  10672   0:21.4 -0.948003     0.447916667   \n",
      "5020  10696   0:21.4 -0.902328     0.448815074   \n",
      "5040  10720   0:21.5 -0.858740911  0.449709302   \n",
      "5060  10744   0:21.5 -0.817074     0.450599381   \n",
      "5080  10772   0:21.7 -0.777334     0.451311223   \n",
      "5100  10796   0:21.8 -0.73939      0.452193151212\n",
      "5120  10824   0:21.8 -0.702994     0.45289716    \n",
      "5140  10852   0:21.8 -0.668263     0.453597398   \n",
      "5160  10892   0:21.9 -0.635133     0.453774304   \n",
      "5180  10928   0:21.9 -0.603504     0.45412234    \n",
      "5200  10968   0:22.0 -0.573402     0.454295987888\n",
      "5220  11004   0:22.0 -0.544666     0.454639759   \n",
      "5240  11036   0:22.1 -0.517267     0.455152313   \n",
      "Convergence obtained with Delta_z = -0.498864392945\n",
      "Done!\n"
     ]
    }
   ],
   "source": [
    "samples = sampler.run()\n",
    "print('Done!')"
   ]
  },
  {
   "cell_type": "markdown",
   "metadata": {},
   "source": [
    "## Plot posterior samples versus true parameter values (dashed lines)"
   ]
  },
  {
   "cell_type": "code",
   "execution_count": 4,
   "metadata": {},
   "outputs": [
    {
     "data": {
      "image/png": "[encoded data removed]",
      "text/plain": [
       "<matplotlib.figure.Figure at 0x1dd57671a20>"
      ]
     },
     "metadata": {},
     "output_type": "display_data"
    }
   ],
   "source": [
    "# Plot output\n",
    "import pints.plot\n",
    "\n",
    "pints.plot.histogram([samples], ref_parameters=[r, k, sigma])\n",
    "\n",
    "plt.show()"
   ]
  },
  {
   "cell_type": "markdown",
   "metadata": {},
   "source": [
    "## Plot posterior predictive simulations versus the observed data"
   ]
  },
  {
   "cell_type": "code",
   "execution_count": 5,
   "metadata": {},
   "outputs": [
    {
     "data": {
      "image/png": "[encoded data removed]",
      "text/plain": [
       "<matplotlib.figure.Figure at 0x1dd590c4278>"
      ]
     },
     "metadata": {},
     "output_type": "display_data"
    }
   ],
   "source": [
    "pints.plot.series(samples[:100], problem)\n",
    "plt.show()"
   ]
  },
  {
   "cell_type": "markdown",
   "metadata": {},
   "source": [
    "## Marginal likelihood estimate"
   ]
  },
  {
   "cell_type": "code",
   "execution_count": 6,
   "metadata": {},
   "outputs": [
    {
     "name": "stdout",
     "output_type": "stream",
     "text": [
      "marginal log-likelihood = -391.885476666 ± 0.0783236845709\n"
     ]
    }
   ],
   "source": [
    "print('marginal log-likelihood = ' + str(sampler.marginal_log_likelihood())\n",
    "      + ' ± ' + str(sampler.marginal_log_likelihood_standard_deviation()))"
   ]
  },
  {
   "cell_type": "markdown",
   "metadata": {},
   "source": [
    "## Effective sample size"
   ]
  },
  {
   "cell_type": "code",
   "execution_count": 7,
   "metadata": {},
   "outputs": [
    {
     "name": "stdout",
     "output_type": "stream",
     "text": [
      "effective sample size = 1565.34694054\n"
     ]
    }
   ],
   "source": [
    "print('effective sample size = ' + str(sampler.effective_sample_size()))"
   ]
  }
 ],
 "metadata": {
  "kernelspec": {
   "display_name": "Python 3",
   "language": "python",
   "name": "python3"
  },
  "language_info": {
   "codemirror_mode": {
    "name": "ipython",
    "version": 3
   },
   "file_extension": ".py",
   "mimetype": "text/x-python",
   "name": "python",
   "nbconvert_exporter": "python",
   "pygments_lexer": "ipython3",
   "version": "3.6.3"
  }
 },
 "nbformat": 4,
 "nbformat_minor": 2
}
