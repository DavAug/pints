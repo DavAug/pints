{
 "cells": [
  {
   "cell_type": "markdown",
   "metadata": {},
   "source": [
    "# Ellipsoidal nested sampling\n",
    "\n",
    "This example demonstrates how to use ellipsoidal nested rejection sampling [1] to sample from the posterior distribution for a logistic model fitted to model-simulated data.\n",
    "\n",
    "[1] \"A nested sampling algorithm for cosmological model selection\", Pia Mukherjee, David Parkinson and Andrew R. Liddle, [arXiv:astro-ph/0508461v2](https://arxiv.org/abs/astro-ph/0508461)."
   ]
  },
  {
   "cell_type": "markdown",
   "metadata": {},
   "source": [
    "First create fake data."
   ]
  },
  {
   "cell_type": "code",
   "execution_count": 1,
   "metadata": {},
   "outputs": [
    {
     "data": {
      "image/png": "[encoded data removed]",
      "text/plain": [
       "<matplotlib.figure.Figure at 0x2635a3dad30>"
      ]
     },
     "metadata": {},
     "output_type": "display_data"
    }
   ],
   "source": [
    "import pints\n",
    "import pints.toy as toy\n",
    "import numpy as np\n",
    "import matplotlib.pyplot as plt\n",
    "\n",
    "# Load a forward model\n",
    "model = toy.LogisticModel()\n",
    "\n",
    "# Create some toy data\n",
    "r = 0.015\n",
    "k = 500\n",
    "real_parameters = [r, k]\n",
    "times = np.linspace(0, 1000, 100)\n",
    "signal_values = model.simulate(real_parameters, times)\n",
    "\n",
    "# Add independent Gaussian noise\n",
    "sigma = 10\n",
    "observed_values = signal_values + pints.noise.independent(sigma, signal_values.shape)\n",
    "\n",
    "# Plot\n",
    "plt.plot(times,signal_values,label = 'signal')\n",
    "plt.plot(times,observed_values,label = 'observed')\n",
    "plt.xlabel('Time')\n",
    "plt.ylabel('Values')\n",
    "plt.legend()\n",
    "plt.show()"
   ]
  },
  {
   "cell_type": "markdown",
   "metadata": {},
   "source": [
    "Create the nested sampler that will be used to sample from the posterior."
   ]
  },
  {
   "cell_type": "code",
   "execution_count": 2,
   "metadata": {},
   "outputs": [],
   "source": [
    "# Create an object with links to the model and time series\n",
    "problem = pints.SingleOutputProblem(model, times, observed_values)\n",
    "\n",
    "# Create a log-likelihood function (adds an extra parameter!)\n",
    "log_likelihood = pints.GaussianLogLikelihood(problem)\n",
    "\n",
    "# Create a uniform prior over both the parameters and the new noise variable\n",
    "log_prior = pints.UniformLogPrior(\n",
    "    [0.01, 400, sigma * 0.5],\n",
    "    [0.02, 600, sigma * 1.5])\n",
    "\n",
    "# Create a nested ellipsoidal rejectection sampler\n",
    "sampler = pints.NestedController(log_likelihood, log_prior, method=pints.NestedEllipsoidSampler)\n",
    "\n",
    "# Set number of iterations\n",
    "sampler.set_iterations(8000)\n",
    "\n",
    "# Set the number of posterior samples to generate\n",
    "sampler.set_n_posterior_samples(1600)\n",
    "\n",
    "# Do proposals in parallel\n",
    "sampler.set_parallel(True)\n",
    "\n",
    "# Use dynamic enlargement factor\n",
    "sampler._sampler.set_dynamic_enlargement_factor(1)"
   ]
  },
  {
   "cell_type": "markdown",
   "metadata": {},
   "source": [
    "Run the sampler!"
   ]
  },
  {
   "cell_type": "code",
   "execution_count": 3,
   "metadata": {},
   "outputs": [
    {
     "name": "stdout",
     "output_type": "stream",
     "text": [
      "Running Nested ellipsoidal sampler\n",
      "Number of active points: 400\n",
      "Total number of iterations: 8000\n",
      "Total number of posterior samples: 1600\n",
      "Iter. Eval. Time m:s Delta_log(z) Acceptance rate\n",
      "0     1       0:01.2 -inf          1             \n",
      "0     2       0:01.2 -inf          1             \n",
      "0     3       0:01.2 -inf          1             \n",
      "0     4       0:01.2 -inf          1             \n",
      "0     5       0:01.2 -inf          1             \n",
      "0     21      0:01.3 -inf          1             \n",
      "0     41      0:01.3 -inf          1             \n",
      "0     61      0:01.3 -inf          1             \n",
      "0     81      0:01.4 -inf          1             \n",
      "0     101     0:01.4 -inf          1             \n",
      "0     121     0:01.5 -inf          1             \n",
      "0     141     0:01.5 -inf          1             \n",
      "0     161     0:01.5 -inf          1             \n",
      "0     181     0:01.6 -inf          1             \n",
      "0     201     0:01.6 -inf          1             \n",
      "0     221     0:01.6 -inf          1             \n",
      "0     241     0:01.7 -inf          1             \n",
      "0     261     0:01.7 -inf          1             \n",
      "0     281     0:01.8 -inf          1             \n",
      "0     301     0:01.8 -inf          1             \n",
      "0     321     0:01.8 -inf          1             \n",
      "0     341     0:01.9 -inf          1             \n",
      "0     361     0:01.9 -inf          1             \n",
      "0     381     0:02.0 -inf          1             \n",
      "400   404     0:02.0 -inf          0.25          \n",
      "420   424     0:02.0 -11616.49887  0.875         \n",
      "440   444     0:02.0 -8368.403046  0.931818182   \n",
      "460   464     0:02.0 -6679.946086  0.953125      \n",
      "480   492     0:02.1 -5345.176229  0.880434783   \n",
      "500   516     0:02.1 -4516.332623  0.870689655   \n",
      "520   540     0:02.1 -4084.144848  0.864285714   \n",
      "540   564     0:02.1 -3738.334043  0.859756097561\n",
      "560   592     0:02.2 -3402.887688  0.838541667   \n",
      "580   620     0:02.2 -3155.190222  0.822727273   \n",
      "600   652     0:02.2 -2819.638558  0.797619047619\n",
      "620   692     0:02.2 -2508.46326   0.756849315   \n",
      "640   732     0:02.3 -2266.124193  0.725903614   \n",
      "660   764     0:02.3 -2093.814194  0.717032967033\n",
      "680   800     0:02.3 -1971.12364   0.7025        \n",
      "700   852     0:02.3 -1848.566531  0.665929204   \n",
      "720   888     0:02.4 -1734.619422  0.657786885   \n",
      "740   932     0:02.4 -1607.352369  0.640977443609\n",
      "760   980     0:02.4 -1504.808097  0.622413793   \n",
      "780   1048    0:02.5 -1415.774657  0.587962962963\n",
      "800   1112    0:02.5 -1327.289655  0.563202247191\n",
      "820   1144    0:02.5 -1258.556141  0.565860215   \n",
      "840   1200    0:02.6 -1197.806773  0.55125       \n",
      "860   1240    0:02.6 -1151.04012   0.548809524   \n",
      "880   1288    0:02.6 -1105.809145  0.541666667   \n",
      "900   1332    0:02.7 -1051.403119  0.537553648   \n",
      "920   1372    0:02.7 -1013.689462  0.53600823    \n",
      "940   1416    0:02.7 -985.8703451  0.532480315   \n",
      "960   1456    0:02.8 -951.7090701  0.53125       \n",
      "980   1496    0:02.8 -892.9592435  0.530109489   \n",
      "1000  1548    0:02.8 -840.6095114  0.523519164   \n",
      "1020  1588    0:02.9 -807.2415204  0.522727273   \n",
      "1040  1628    0:02.9 -757.0428585  0.521986970684\n",
      "1060  1664    0:03.1 -729.5658484  0.522943038   \n",
      "1080  1716    0:03.1 -685.7756238  0.517477204   \n",
      "1100  1756    0:03.2 -649.1828036  0.516961652   \n",
      "1120  1796    0:03.2 -609.6468769  0.516475645   \n",
      "1140  1852    0:03.2 -568.5641394  0.510330579   \n",
      "1160  1896    0:03.3 -545.5780439  0.50868984    \n",
      "1180  1944    0:03.3 -521.6671106  0.505829015544\n",
      "1200  1988    0:03.5 -485.2029792  0.50440806    \n",
      "1220  2032    0:04.2 -460.573793   0.503063725   \n",
      "1240  2068    0:04.2 -441.7123316  0.504196643   \n",
      "1260  2120    0:04.3 -413.7067227  0.500581395   \n",
      "1280  2152    0:04.3 -391.1759113  0.502853881   \n",
      "1300  2204    0:04.3 -357.8957701  0.499445676   \n",
      "1320  2244    0:04.4 -345.2416897  0.499457701   \n",
      "1340  2292    0:04.5 -329.702018   0.497357294   \n",
      "1360  2336    0:04.5 -308.6921567  0.496384298   \n",
      "1380  2372    0:04.6 -292.6573879  0.497464503   \n",
      "1400  2408    0:04.6 -279.4188459  0.498505976   \n",
      "1420  2468    0:04.7 -267.8747277  0.493713733   \n",
      "1440  2520    0:05.0 -256.3852753  0.491037736   \n",
      "1460  2580    0:05.2 -241.871633   0.486697248   \n",
      "1480  2648    0:05.2 -230.4375777  0.480871886121\n",
      "1500  2692    0:05.3 -217.0198582  0.480366492   \n",
      "1520  2744    0:05.3 -207.7070895  0.478242321   \n",
      "1540  2816    0:05.6 -196.2648861  0.472268212   \n",
      "1560  2896    0:05.8 -187.5970966  0.465144231   \n",
      "1580  2968    0:05.8 -174.3589517  0.459890966   \n",
      "1600  3084    0:05.9 -168.5030667  0.447466468   \n",
      "1620  3120    0:06.0 -164.1217841  0.448897059   \n",
      "1640  3156    0:06.0 -152.824365   0.450290275762\n",
      "1660  3200    0:06.1 -145.5409588  0.450357143   \n",
      "1680  3252    0:06.1 -140.3249454  0.449158485   \n",
      "1700  3300    0:06.2 -134.736951   0.44862069    \n",
      "1720  3348    0:06.2 -129.0392423  0.448100407   \n",
      "1740  3384    0:06.3 -124.2822459  0.449396783   \n",
      "1760  3420    0:06.3 -121.1226809  0.450662252   \n",
      "1780  3472    0:06.3 -117.963398   0.449544271   \n",
      "1800  3524    0:06.4 -114.9579389  0.448463508   \n",
      "1820  3572    0:06.4 -112.0498609  0.447982346   \n",
      "1840  3616    0:06.5 -109.0879653  0.448072139   \n",
      "1860  3656    0:06.5 -105.6700763  0.448710074   \n",
      "1880  3704    0:06.6 -103.0814381  0.448244552   \n",
      "1900  3760    0:06.6 -100.7859077  0.44672619    \n",
      "1920  3812    0:06.8 -98.68822447  0.445779601   \n",
      "1940  3860    0:06.9 -96.39094783  0.445375723   \n",
      "1960  3908    0:06.9 -93.66717512  0.444982896   \n",
      "1980  3964    0:07.0 -91.50737586  0.443602694   \n",
      "2000  4008    0:07.0 -89.38393593  0.443736142   \n",
      "2020  4036    0:07.1 -87.70497124  0.445819582   \n",
      "2040  4076    0:07.3 -85.683703    0.44640914037 \n",
      "2060  4112    0:07.3 -83.85566982  0.447467672   \n",
      "2080  4160    0:07.4 -82.57770489  0.447074468   \n",
      "2100  4192    0:07.4 -80.922664    0.448575949   \n",
      "2120  4248    0:07.5 -79.38489541  0.447245322   \n",
      "2140  4292    0:07.7 -78.20521097  0.447327852   \n",
      "2160  4344    0:07.8 -76.93742086  0.446501014   \n",
      "2180  4388    0:07.9 -75.729518    0.446589769   \n",
      "2200  4432    0:07.9 -74.5156965   0.446676587   \n",
      "2220  4456    0:08.0 -73.27973761  0.448964497   \n",
      "2240  4488    0:08.0 -71.85329675  0.450342466   \n",
      "2260  4512    0:08.3 -70.58803534  0.452577821   \n",
      "2280  4544    0:08.4 -69.1641524   0.453909266   \n",
      "2300  4568    0:08.4 -67.85000927  0.456094049904\n",
      "2320  4608    0:08.5 -66.65744163  0.456511407   \n",
      "2340  4644    0:08.5 -65.50437172  0.457351555   \n",
      "2360  4684    0:08.5 -64.43454542  0.457749767   \n",
      "2380  4720    0:08.6 -62.97544035  0.458564815   \n",
      "2400  4764    0:08.7 -61.7442007   0.45852429    \n",
      "2420  4788    0:08.7 -60.86469261  0.460574294   \n",
      "2440  4816    0:08.7 -59.78926945  0.462182971   \n",
      "2460  4844    0:08.8 -58.42007277  0.463771377   \n",
      "2480  4876    0:08.8 -56.83128114  0.464924039   \n",
      "2500  4912    0:08.8 -55.58156269  0.465647163   \n",
      "2520  4940    0:08.9 -54.58935895  0.467180617   \n",
      "2540  4968    0:08.9 -53.61408965  0.468695271   \n",
      "2560  5004    0:08.9 -52.71840594  0.469374457   \n",
      "2580  5040    0:09.0 -51.71891277  0.470043103   \n",
      "2600  5088    0:09.0 -50.67309866  0.469496587   \n",
      "2620  5132    0:09.1 -49.7753137   0.469357566   \n",
      "2640  5180    0:09.1 -48.74306903  0.468828452   \n",
      "2660  5232    0:09.2 -47.72150278  0.467922185   \n",
      "2680  5280    0:09.4 -46.78437867  0.467418033   \n",
      "2700  5324    0:09.5 -45.84900255  0.467303006   \n",
      "2720  5348    0:09.5 -44.92826129  0.469078416   \n",
      "2740  5380    0:09.5 -43.98319289  0.470080321   \n",
      "2760  5412    0:09.6 -43.04534191  0.471069433   \n",
      "2780  5444    0:09.6 -42.3034715   0.472045995   \n",
      "2800  5480    0:09.6 -41.42554876  0.472637795   \n",
      "2820  5508    0:09.7 -40.33700224  0.473962412   \n",
      "2840  5536    0:09.7 -39.36828853  0.475272586   \n",
      "2860  5564    0:09.7 -38.62772067  0.476568552   \n",
      "2880  5596    0:09.8 -37.77663547  0.477482679   \n",
      "2900  5628    0:09.8 -36.93667314  0.478385616   \n",
      "2920  5652    0:09.8 -36.06853955  0.480007616   \n",
      "2940  5676    0:09.9 -35.23171849  0.48161486    \n",
      "2960  5700    0:09.9 -34.48667957  0.483207547   \n",
      "2980  5728    0:09.9 -33.73367645  0.484421922   \n",
      "3000  5764    0:10.0 -32.96433137  0.484899329   \n",
      "3020  5788    0:10.0 -32.18935386  0.486451373   \n",
      "3040  5816    0:10.0 -31.37889913  0.487629247   \n",
      "3060  5856    0:10.1 -30.51330232  0.487719941349\n",
      "3080  5884    0:10.1 -29.77802547  0.488876732   \n",
      "3100  5920    0:10.1 -29.09333079  0.489311594   \n",
      "3120  5964    0:10.2 -28.38178382  0.489036664   \n",
      "3140  6000    0:10.2 -27.61457636  0.489464286   \n",
      "3160  6044    0:10.2 -26.8492553   0.489192062   \n",
      "3180  6080    0:10.3 -26.12077335  0.489612676   \n"
     ]
    },
    {
     "name": "stdout",
     "output_type": "stream",
     "text": [
      "3200  6124    0:10.3 -25.37280959  0.489343117   \n",
      "3220  6148    0:10.5 -24.71139696  0.490779401531\n",
      "3240  6172    0:10.5 -24.05879218  0.492203742   \n",
      "3260  6196    0:10.6 -23.47545755  0.493616287   \n",
      "3280  6228    0:10.6 -22.94401057  0.49433768    \n",
      "3300  6272    0:10.6 -22.37684292  0.49403951    \n",
      "3320  6296    0:10.7 -21.86256498  0.495420624152\n",
      "3340  6320    0:10.7 -21.36376862  0.496790541   \n",
      "3360  6352    0:10.7 -20.84366516  0.497479839   \n",
      "3380  6380    0:10.8 -20.32321923  0.498494983   \n",
      "3400  6408    0:10.8 -19.84013769  0.499500665779\n",
      "3420  6428    0:10.8 -19.38529126  0.501161248   \n",
      "3440  6460    0:10.9 -18.84928885  0.501815182   \n",
      "3460  6488    0:10.9 -18.35627169  0.502792378   \n",
      "3480  6516    0:10.9 -17.90573457  0.503760628   \n",
      "3500  6548    0:10.9 -17.50139039  0.504391672   \n",
      "3520  6572    0:11.0 -17.07996583  0.505670771   \n",
      "3540  6600    0:11.2 -16.62060423  0.506612903   \n",
      "3560  6624    0:11.2 -16.18148938  0.507872751   \n",
      "3580  6656    0:11.2 -15.74501987  0.508471867   \n",
      "3600  6684    0:11.3 -15.29617608  0.509388924   \n",
      "3620  6716    0:11.3 -14.85788998  0.509974668   \n",
      "3640  6748    0:11.3 -14.44499682  0.510554505356\n",
      "3660  6788    0:11.4 -14.05134085  0.510488416   \n",
      "3680  6828    0:11.6 -13.66089135  0.510423149   \n",
      "3700  6864    0:11.7 -13.26268287  0.510674505   \n",
      "3720  6900    0:11.7 -12.8901421   0.510923077   \n",
      "3740  6936    0:11.7 -12.54372002  0.511168911   \n",
      "3760  6976    0:11.8 -12.20055244  0.511100973236\n",
      "3780  7040    0:11.8 -11.86709427  0.509186746988\n",
      "3800  7084    0:11.9 -11.48810482  0.50882705    \n",
      "3820  7124    0:11.9 -11.11116159  0.508774539   \n",
      "3840  7188    0:11.9 -10.74096328  0.506923984   \n",
      "3860  7248    0:12.0 -10.38429516  0.505403037   \n",
      "3880  7320    0:12.2 -10.04543797  0.503034682   \n",
      "3900  7400    0:12.3 -9.708591793  0.500142857   \n",
      "3920  7436    0:12.3 -9.384242521  0.500426379   \n",
      "3940  7456    0:12.4 -9.059057786  0.501842404   \n",
      "3960  7484    0:12.4 -8.760585283  0.502682101   \n",
      "3980  7512    0:12.4 -8.483184534  0.503515186   \n",
      "4000  7552    0:12.5 -8.218388224  0.503495526   \n",
      "4020  7580    0:12.5 -7.961875537  0.504317549   \n",
      "4040  7620    0:12.5 -7.708543432  0.504293629   \n",
      "4060  7664    0:12.6 -7.471501763  0.503992291   \n",
      "4080  7712    0:12.6 -7.229460053  0.503419037   \n",
      "4100  7760    0:12.7 -6.987913479  0.502853261   \n",
      "4120  7824    0:12.7 -6.753595078  0.501212284   \n",
      "4140  7872    0:12.9 -6.529015873  0.500669165   \n",
      "4160  7932    0:13.0 -6.310399326  0.499336165693\n",
      "4180  7988    0:13.0 -6.092925437  0.498286768582\n",
      "4200  8032    0:13.1 -5.889278555  0.498034591195\n",
      "4220  8056    0:13.1 -5.696586794  0.499085684   \n",
      "4240  8080    0:13.1 -5.510636016  0.500130208   \n",
      "4260  8108    0:13.2 -5.326726615  0.500908147   \n",
      "4280  8136    0:13.2 -5.147789097  0.501680455   \n",
      "4300  8164    0:13.2 -4.977215225  0.502447192169\n",
      "4320  8188    0:13.2 -4.804968072  0.503466872   \n",
      "4340  8220    0:13.3 -4.637736351  0.503964194   \n",
      "4360  8248    0:13.3 -4.479426958  0.504714577   \n",
      "4380  8284    0:13.3 -4.327858689  0.504946728   \n",
      "4400  8316    0:13.4 -4.180302879  0.505432036382\n",
      "4420  8344    0:13.4 -4.036505127  0.506168177   \n",
      "4440  8368    0:13.4 -3.89513626   0.507153614   \n",
      "4460  8400    0:13.4 -3.756403107  0.507625      \n",
      "4480  8428    0:13.5 -3.619385448  0.50834579    \n",
      "4500  8464    0:13.5 -3.485939767  0.508556547619\n",
      "4520  8496    0:13.5 -3.357421364  0.509016798419\n",
      "4540  8528    0:13.7 -3.232083902  0.509473425   \n",
      "4560  8560    0:13.8 -3.111033347  0.509926471   \n",
      "4580  8596    0:13.8 -2.994324291  0.510126891   \n",
      "4600  8632    0:13.9 -2.881673052  0.510325559   \n",
      "4620  8656    0:13.9 -2.772950093  0.511264535   \n",
      "4640  8684    0:13.9 -2.667882611  0.511950748   \n",
      "4660  8708    0:14.0 -2.565451468  0.512879152624\n",
      "4680  8740    0:14.0 -2.466014502  0.513309352518\n",
      "4700  8776    0:14.0 -2.368419906  0.513490926   \n",
      "4720  8804    0:14.1 -2.273844656  0.514159924   \n",
      "4740  8840    0:14.1 -2.182158279  0.514336492891\n",
      "4760  8880    0:14.1 -2.093022657  0.514268868   \n",
      "4780  8912    0:14.2 -2.006389558  0.51468515    \n",
      "4800  8956    0:14.4 -1.930010949  0.514375877   \n",
      "4820  8976    0:14.4 -1.847727222  0.515508396   \n",
      "4840  9000    0:14.4 -1.767848978  0.516395349   \n",
      "4860  9024    0:14.4 -1.69047806   0.517277365   \n",
      "4880  9048    0:14.5 -1.615920511  0.518154487   \n",
      "4900  9072    0:14.5 -1.543973205  0.519026753   \n",
      "4920  9100    0:14.5 -1.474823263  0.519655172   \n",
      "4940  9136    0:14.6 -1.407889472  0.519803114   \n",
      "4960  9164    0:14.6 -1.343079611  0.520424464   \n",
      "4980  9196    0:14.6 -1.281011229  0.520804911   \n",
      "5000  9228    0:14.7 -1.221396933  0.521182601   \n",
      "5020  9276    0:14.7 -1.164164125  0.520617395   \n",
      "5040  9320    0:14.7 -1.109346032  0.52029148    \n",
      "5060  9364    0:14.8 -1.056708789  0.519968764   \n",
      "5080  9400    0:15.0 -1.006301087  0.520111111   \n",
      "5100  9440    0:15.1 -0.958131     0.520022124   \n",
      "5120  9484    0:15.1 -0.912089     0.519704976   \n",
      "5140  9532    0:15.1 -0.868012     0.519163382   \n",
      "5160  9572    0:15.2 -0.825726     0.519079808   \n",
      "5180  9620    0:15.2 -0.785298     0.518546637744\n",
      "5200  9656    0:15.3 -0.746565     0.518690579   \n",
      "5220  9680    0:15.3 -0.709638     0.51950431    \n",
      "5240  9704    0:15.4 -0.674438     0.520313844   \n",
      "5260  9732    0:15.4 -0.640866     0.520895842   \n",
      "5280  9756    0:15.4 -0.608796     0.521697307   \n",
      "5300  9780    0:15.5 -0.584113     0.52249467    \n",
      "5320  9812    0:15.7 -0.554799     0.522843179   \n",
      "5340  9840    0:15.7 -0.526908     0.523411017   \n",
      "5360  9876    0:15.7 -0.500366     0.523533136   \n",
      "Convergence obtained with Delta_z = -0.499075180566\n",
      "Done!\n"
     ]
    }
   ],
   "source": [
    "samples = sampler.run()\n",
    "print('Done!')"
   ]
  },
  {
   "cell_type": "markdown",
   "metadata": {},
   "source": [
    "## Plot posterior samples versus true parameter values (dashed lines)"
   ]
  },
  {
   "cell_type": "code",
   "execution_count": 4,
   "metadata": {},
   "outputs": [
    {
     "data": {
      "image/png": "[encoded data removed]",
      "text/plain": [
       "<matplotlib.figure.Figure at 0x2635c050ba8>"
      ]
     },
     "metadata": {},
     "output_type": "display_data"
    }
   ],
   "source": [
    "# Plot output\n",
    "import pints.plot\n",
    "\n",
    "pints.plot.histogram([samples], ref_parameters=[r, k, sigma])\n",
    "\n",
    "plt.show()"
   ]
  },
  {
   "cell_type": "markdown",
   "metadata": {},
   "source": [
    "## Plot posterior predictive simulations versus the observed data"
   ]
  },
  {
   "cell_type": "code",
   "execution_count": 5,
   "metadata": {},
   "outputs": [
    {
     "data": {
      "image/png": "[encoded data removed]",
      "text/plain": [
       "<matplotlib.figure.Figure at 0x2635a327ba8>"
      ]
     },
     "metadata": {},
     "output_type": "display_data"
    }
   ],
   "source": [
    "pints.plot.series(samples[:100], problem)\n",
    "plt.show()"
   ]
  },
  {
   "cell_type": "markdown",
   "metadata": {},
   "source": [
    "## Marginal likelihood estimate"
   ]
  },
  {
   "cell_type": "code",
   "execution_count": 6,
   "metadata": {},
   "outputs": [
    {
     "name": "stdout",
     "output_type": "stream",
     "text": [
      "marginal log-likelihood = -378.564837383 ± 0.078601761758\n"
     ]
    }
   ],
   "source": [
    "print('marginal log-likelihood = ' + str(sampler.marginal_log_likelihood())\n",
    "      + ' ± ' + str(sampler.marginal_log_likelihood_standard_deviation()))"
   ]
  },
  {
   "cell_type": "markdown",
   "metadata": {},
   "source": [
    "## Effective sample size"
   ]
  },
  {
   "cell_type": "code",
   "execution_count": 7,
   "metadata": {},
   "outputs": [
    {
     "name": "stdout",
     "output_type": "stream",
     "text": [
      "effective sample size = 1601.53120503\n"
     ]
    }
   ],
   "source": [
    "print('effective sample size = ' + str(sampler.effective_sample_size()))"
   ]
  }
 ],
 "metadata": {
  "kernelspec": {
   "display_name": "Python 3",
   "language": "python",
   "name": "python3"
  },
  "language_info": {
   "codemirror_mode": {
    "name": "ipython",
    "version": 3
   },
   "file_extension": ".py",
   "mimetype": "text/x-python",
   "name": "python",
   "nbconvert_exporter": "python",
   "pygments_lexer": "ipython3",
   "version": "3.6.3"
  }
 },
 "nbformat": 4,
 "nbformat_minor": 2
}
