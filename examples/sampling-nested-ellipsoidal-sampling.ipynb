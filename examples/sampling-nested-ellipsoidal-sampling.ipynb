{
 "cells": [
  {
   "cell_type": "markdown",
   "metadata": {},
   "source": [
    "# Ellipsoidal nested sampling\n",
    "\n",
    "This example demonstrates how to use ellipsoidal nested rejection sampling [1] to sample from the posterior distribution for a logistic model fitted to model-simulated data.\n",
    "\n",
    "[1] \"A nested sampling algorithm for cosmological model selection\", Pia Mukherjee, David Parkinson and Andrew R. Liddle, [arXiv:astro-ph/0508461v2](https://arxiv.org/abs/astro-ph/0508461)."
   ]
  },
  {
   "cell_type": "markdown",
   "metadata": {},
   "source": [
    "First create fake data."
   ]
  },
  {
   "cell_type": "code",
   "execution_count": 1,
   "metadata": {},
   "outputs": [
    {
     "data": {
      "image/png": "[encoded data removed]",
      "text/plain": [
       "<matplotlib.figure.Figure at 0x2b7f08d0c18>"
      ]
     },
     "metadata": {},
     "output_type": "display_data"
    }
   ],
   "source": [
    "import pints\n",
    "import pints.toy as toy\n",
    "import numpy as np\n",
    "import matplotlib.pyplot as plt\n",
    "\n",
    "# Load a forward model\n",
    "model = toy.LogisticModel()\n",
    "\n",
    "# Create some toy data\n",
    "r = 0.015\n",
    "k = 500\n",
    "real_parameters = [r, k]\n",
    "times = np.linspace(0, 1000, 100)\n",
    "signal_values = model.simulate(real_parameters, times)\n",
    "\n",
    "# Add independent Gaussian noise\n",
    "sigma = 10\n",
    "observed_values = signal_values + pints.noise.independent(sigma, signal_values.shape)\n",
    "\n",
    "# Plot\n",
    "plt.plot(times,signal_values,label = 'signal')\n",
    "plt.plot(times,observed_values,label = 'observed')\n",
    "plt.xlabel('Time')\n",
    "plt.ylabel('Values')\n",
    "plt.legend()\n",
    "plt.show()"
   ]
  },
  {
   "cell_type": "markdown",
   "metadata": {},
   "source": [
    "Create the nested sampler that will be used to sample from the posterior."
   ]
  },
  {
   "cell_type": "code",
   "execution_count": 2,
   "metadata": {},
   "outputs": [],
   "source": [
    "# Create an object with links to the model and time series\n",
    "problem = pints.SingleOutputProblem(model, times, observed_values)\n",
    "\n",
    "# Create a log-likelihood function (adds an extra parameter!)\n",
    "log_likelihood = pints.GaussianLogLikelihood(problem)\n",
    "\n",
    "# Create a uniform prior over both the parameters and the new noise variable\n",
    "log_prior = pints.UniformLogPrior(\n",
    "    [0.01, 400, sigma * 0.5],\n",
    "    [0.02, 600, sigma * 1.5])\n",
    "\n",
    "# Create a nested ellipsoidal rejectection sampler\n",
    "sampler = pints.NestedController(log_likelihood, log_prior, method=pints.NestedEllipsoidSampler)\n",
    "\n",
    "# Set number of iterations\n",
    "sampler.set_iterations(8000)\n",
    "\n",
    "# Set the number of posterior samples to generate\n",
    "sampler.set_n_posterior_samples(1600)"
   ]
  },
  {
   "cell_type": "markdown",
   "metadata": {},
   "source": [
    "Run the sampler!"
   ]
  },
  {
   "cell_type": "code",
   "execution_count": 3,
   "metadata": {},
   "outputs": [
    {
     "name": "stdout",
     "output_type": "stream",
     "text": [
      "Running Nested ellipsoidal rejection sampler\n",
      "Number of active points: 400\n",
      "Total number of iterations: 8000\n",
      "Total number of posterior samples: 1600\n",
      "Iter. Eval. Time m:s Delta_log(z) Acceptance rate\n",
      "0     1       0:00.0 -inf          1             \n",
      "0     2       0:00.0 -inf          1             \n",
      "0     3       0:00.0 -inf          1             \n",
      "0     4       0:00.0 -inf          1             \n",
      "0     5       0:00.0 -inf          1             \n",
      "0     21      0:00.0 -inf          1             \n",
      "0     41      0:00.0 -inf          1             \n",
      "0     61      0:00.0 -inf          1             \n",
      "0     81      0:00.0 -inf          1             \n",
      "0     101     0:00.0 -inf          1             \n",
      "0     121     0:00.0 -inf          1             \n",
      "0     141     0:00.0 -inf          1             \n",
      "0     161     0:00.0 -inf          1             \n",
      "0     181     0:00.0 -inf          1             \n",
      "0     201     0:00.0 -inf          1             \n",
      "0     221     0:00.0 -inf          1             \n",
      "0     241     0:00.0 -inf          1             \n",
      "0     261     0:00.0 -inf          1             \n",
      "0     281     0:00.0 -inf          1             \n",
      "0     301     0:00.0 -inf          1             \n",
      "0     321     0:00.1 -inf          1             \n",
      "0     341     0:00.1 -inf          1             \n",
      "0     361     0:00.1 -inf          1             \n",
      "0     381     0:00.1 -inf          1             \n",
      "400   401     0:00.1 -inf          1             \n",
      "420   421     0:00.1 -14667.8823   1             \n",
      "440   441     0:00.1 -9208.389197  1             \n",
      "460   465     0:00.1 -6741.843547  0.938461538   \n",
      "480   487     0:00.1 -5265.036859  0.931034483   \n",
      "500   512     0:00.1 -4684.14852   0.901785714   \n",
      "520   538     0:00.1 -4140.450388  0.876811594   \n",
      "540   571     0:00.2 -3673.527617  0.824561404   \n",
      "560   602     0:00.2 -3241.365115  0.797029703   \n",
      "580   631     0:00.2 -3035.7109    0.783549784   \n",
      "600   657     0:00.2 -2779.259634  0.782101167   \n",
      "620   694     0:00.3 -2531.448537  0.75170068    \n",
      "640   732     0:00.3 -2434.555812  0.725903614   \n",
      "660   776     0:00.3 -2211.437875  0.694148936   \n",
      "680   828     0:00.4 -2023.871985  0.656542056   \n",
      "700   888     0:00.4 -1923.003582  0.616803279   \n",
      "720   924     0:00.4 -1787.934507  0.61259542    \n",
      "740   977     0:00.5 -1699.425428  0.590987868   \n",
      "760   1022    0:00.5 -1601.726049  0.58038585209 \n",
      "780   1064    0:00.5 -1470.591934  0.573795181   \n",
      "800   1099    0:00.5 -1383.802568  0.573676681   \n",
      "820   1156    0:00.6 -1291.508491  0.556878307   \n",
      "840   1196    0:00.6 -1203.661164  0.554020101   \n",
      "860   1245    0:00.6 -1152.603999  0.54556213    \n",
      "880   1302    0:00.7 -1082.131851  0.533259424   \n",
      "900   1368    0:00.7 -1038.889966  0.517561983   \n",
      "920   1408    0:00.7 -964.5368636  0.516865079   \n",
      "940   1448    0:00.8 -921.6975875  0.516221374   \n",
      "960   1506    0:00.8 -853.1760499  0.507233273   \n",
      "980   1571    0:00.9 -815.0896635  0.496157131   \n",
      "1000  1636    0:00.9 -768.0838011  0.486245955   \n",
      "1020  1690    0:00.9 -710.9879804  0.481395349   \n",
      "1040  1738    0:01.0 -685.4730052  0.479073244   \n",
      "1060  1791    0:01.0 -663.6060725  0.475197699   \n",
      "1080  1823    0:01.0 -627.7703972  0.478566409   \n",
      "1100  1870    0:01.1 -588.9497502  0.476870748   \n",
      "1120  1919    0:01.1 -556.610854   0.474654378   \n",
      "1140  1975    0:01.1 -527.1360562  0.47047619    \n",
      "1160  2024    0:01.2 -501.430891   0.468596059   \n",
      "1180  2059    0:01.2 -474.2372215  0.470765521   \n",
      "1200  2100    0:01.3 -454.3085919  0.471176471   \n",
      "1220  2138    0:01.3 -437.815837   0.472382048   \n",
      "1240  2187    0:01.4 -396.5737485  0.47062115277 \n"
     ]
    },
    {
     "name": "stderr",
     "output_type": "stream",
     "text": [
      "c:\\users\\bclamber\\desktop\\pints\\pints\\_log_likelihoods.py:480: RuntimeWarning: invalid value encountered in log\n",
      "  - np.sum(error**2, axis=0) / (2 * sigma**2))\n"
     ]
    },
    {
     "name": "stdout",
     "output_type": "stream",
     "text": [
      "1260  2236    0:01.4 -367.3882788  0.468954248366\n",
      "1280  2285    0:01.5 -350.4203184  0.467374005305\n",
      "1300  2324    0:01.5 -330.15968    0.468295218   \n",
      "1320  2349    0:01.6 -313.024235   0.472550026   \n",
      "1340  2388    0:01.6 -295.1108607  0.47334004    \n",
      "1360  2423    0:01.7 -292.2049334  0.475037073653\n",
      "1380  2469    0:01.7 -279.4858154  0.474142098   \n",
      "1400  2518    0:01.7 -264.2778595  0.472615675   \n",
      "1420  2562    0:01.8 -248.8188485  0.472247919   \n",
      "1440  2614    0:01.8 -240.0505853  0.470189701897\n",
      "1460  2658    0:01.8 -228.9249912  0.469884853853\n",
      "1480  2719    0:01.9 -221.0751996  0.466149202   \n",
      "1500  2764    0:01.9 -208.4778839  0.465736041   \n",
      "1520  2799    0:01.9 -198.8609676  0.467278033   \n",
      "1540  2834    0:02.0 -191.9838806  0.468775678   \n",
      "1560  2881    0:02.0 -182.5122157  0.467956469   \n",
      "1580  2927    0:02.0 -175.1449961  0.467352592   \n",
      "1600  2972    0:02.1 -170.0004912  0.466951788   \n",
      "1620  3023    0:02.1 -164.4540988  0.465497522   \n",
      "1640  3080    0:02.2 -157.7959951  0.463059701   \n",
      "1660  3128    0:02.2 -154.1574985  0.462243402   \n",
      "1680  3208    0:02.3 -150.3774081  0.456196581   \n",
      "1700  3283    0:02.3 -147.4992617  0.451266042317\n",
      "1720  3337    0:02.3 -144.954262   0.449778686   \n",
      "1740  3373    0:02.4 -141.5573964  0.451059536   \n",
      "1760  3415    0:02.4 -138.1860107  0.451409619   \n",
      "1780  3475    0:02.4 -136.284104   0.449105691   \n",
      "1800  3531    0:02.5 -134.0281615  0.447460875   \n",
      "1820  3566    0:02.5 -131.4925944  0.448831333   \n",
      "1840  3597    0:02.6 -129.2201196  0.450735064   \n",
      "1860  3647    0:02.6 -127.2656361  0.449953804   \n",
      "1880  3691    0:02.6 -125.5537839  0.450015193   \n",
      "1900  3742    0:02.7 -123.9309476  0.449132256   \n",
      "1920  3779    0:02.7 -122.1486719  0.450133175   \n",
      "1940  3810    0:02.7 -120.387179   0.451906158   \n",
      "1960  3835    0:02.8 -118.5381819  0.454439592   \n",
      "1980  3870    0:02.8 -116.1424121  0.455619597   \n",
      "2000  3906    0:02.8 -114.1202312  0.45664575    \n",
      "2020  3942    0:02.9 -111.8182746  0.457651045   \n",
      "2040  3975    0:02.9 -109.9986702  0.459020979021\n",
      "2060  4012    0:02.9 -107.7703443  0.459856035   \n",
      "2080  4040    0:02.9 -105.9975299  0.461813187   \n",
      "2100  4072    0:03.0 -104.3952128  0.463235294   \n",
      "2120  4104    0:03.0 -102.2828593  0.464632829   \n",
      "2140  4133    0:03.0 -100.0980774  0.466380927   \n",
      "2160  4168    0:03.0 -98.35310163  0.467356688   \n",
      "2180  4206    0:03.1 -96.97012779  0.467945349   \n",
      "2200  4246    0:03.1 -95.69308831  0.468278731   \n",
      "2220  4275    0:03.1 -94.59227156  0.469935483871\n",
      "2240  4306    0:03.2 -93.6422678   0.471326165   \n",
      "2260  4354    0:03.2 -92.49139244  0.47066262    \n",
      "2280  4399    0:03.2 -91.30074908  0.470367591898\n",
      "2300  4437    0:03.3 -89.95963835  0.470894228   \n",
      "2320  4464    0:03.3 -88.29491489  0.472687007874\n",
      "2340  4489    0:03.3 -86.78685868  0.474688187821\n",
      "2360  4517    0:03.4 -85.26157921  0.476317707   \n",
      "2380  4550    0:03.4 -86.79026642  0.477349398   \n",
      "2400  4582    0:03.4 -85.42220033  0.478479197   \n",
      "2420  4606    0:03.4 -85.11513647  0.480504041845\n",
      "2440  4630    0:03.5 -83.71412896  0.48250591    \n",
      "2460  4656    0:03.5 -82.56950048  0.484257518797\n",
      "2480  4681    0:03.5 -87.21620737  0.486101378   \n",
      "2500  4713    0:03.6 -86.31749233  0.487131927   \n",
      "2520  4742    0:03.6 -85.16617646  0.488484569   \n",
      "2540  4774    0:03.6 -84.02659659  0.489483310471\n",
      "2560  4804    0:03.6 -82.69041059  0.490690282   \n",
      "2580  4838    0:03.7 -81.44793224  0.491437584   \n",
      "2600  4871    0:03.7 -80.01408967  0.492283605   \n",
      "2620  4901    0:03.7 -78.52421951  0.493445901   \n",
      "2640  4932    0:03.7 -77.13227978  0.494483672   \n",
      "2660  4957    0:03.8 -76.12459793  0.496159754   \n",
      "2680  4982    0:03.8 -75.2056803   0.497817547   \n",
      "2700  5012    0:03.8 -74.00820066  0.498915872   \n",
      "2720  5051    0:03.9 -72.31834332  0.499032466   \n",
      "2740  5097    0:03.9 -70.97968078  0.498403236   \n",
      "2760  5130    0:03.9 -69.65695105  0.499154334   \n",
      "2780  5167    0:04.0 -68.18335267  0.499475561   \n",
      "2800  5203    0:04.0 -66.65310969  0.499895898   \n",
      "2820  5235    0:04.0 -65.31653282  0.500723888   \n",
      "2840  5259    0:04.0 -64.16136154  0.502366742128\n",
      "2860  5291    0:04.1 -62.96720553  0.503169086   \n",
      "2880  5335    0:04.1 -61.85106032  0.50273556231 \n",
      "2900  5375    0:04.1 -60.71169927  0.502713568   \n",
      "2920  5404    0:04.2 -59.67571843  0.503796962   \n",
      "2940  5431    0:04.2 -58.65806879  0.505068574836\n",
      "2960  5460    0:04.2 -59.48138739  0.506126482   \n",
      "2980  5495    0:04.3 -58.36729986  0.506575074   \n",
      "3000  5530    0:04.3 -57.15582396  0.507017544   \n",
      "3020  5556    0:04.3 -56.05438738  0.508339798   \n",
      "3040  5586    0:04.3 -54.95913494  0.509255688   \n",
      "3060  5628    0:04.4 -53.83060355  0.508990054   \n",
      "3080  5665    0:04.4 -52.67331063  0.509211776   \n",
      "3100  5697    0:04.5 -51.6244466   0.509911271   \n",
      "3120  5731    0:04.5 -50.4205737   0.510410805   \n",
      "3140  5761    0:04.5 -49.21946076  0.511285208   \n",
      "3160  5787    0:04.5 -48.13156989  0.512530165   \n",
      "3180  5809    0:04.6 -47.07855578  0.514143095   \n",
      "3200  5839    0:04.6 -46.07595549  0.514984372   \n",
      "3220  5866    0:04.6 -45.19762895  0.516099524   \n",
      "3240  5891    0:04.6 -44.19894794  0.517392096   \n",
      "3260  5921    0:04.7 -43.27027235  0.518203224   \n",
      "3280  5951    0:04.7 -42.36635919  0.519005585   \n",
      "3300  5980    0:04.7 -41.40529113  0.519892473   \n",
      "3320  6003    0:04.7 -40.49911515  0.521327860075\n",
      "3340  6032    0:04.8 -39.68290163  0.522194602   \n",
      "3360  6073    0:04.8 -38.83580519  0.52194606    \n",
      "3380  6104    0:04.8 -37.84378314  0.522615708   \n",
      "3400  6137    0:04.9 -37.09179813  0.523095695   \n",
      "3420  6172    0:04.9 -36.4132665   0.523388773   \n",
      "3440  6201    0:04.9 -35.77194003  0.524219962   \n",
      "3460  6229    0:05.0 -35.06902932  0.525132956   \n",
      "3480  6270    0:05.0 -34.33177299  0.524872232   \n",
      "3500  6310    0:05.1 -33.50285259  0.524703891709\n",
      "3520  6342    0:05.1 -32.63029219  0.525244026   \n",
      "3540  6377    0:05.1 -31.75743951  0.525514472   \n",
      "3560  6404    0:05.1 -30.84098642  0.526482345   \n",
      "3580  6455    0:05.2 -30.03051336  0.52535095    \n",
      "3600  6493    0:05.2 -29.31252329  0.525356967   \n",
      "3620  6518    0:05.3 -28.62281146  0.526479242   \n",
      "3640  6553    0:05.3 -27.96184578  0.526734926   \n",
      "3660  6585    0:05.3 -27.27524218  0.527243331   \n",
      "3680  6618    0:05.3 -26.64986369  0.527661627533\n",
      "3700  6647    0:05.4 -26.04202775  0.528413639   \n",
      "3720  6669    0:05.4 -25.35246937  0.529749561   \n",
      "3740  6698    0:05.4 -24.67487876  0.530485869   \n",
      "3760  6725    0:05.4 -23.94742334  0.531383399   \n",
      "3780  6760    0:05.5 -23.28932267  0.531603774   \n",
      "3800  6798    0:05.5 -22.64042369  0.531572366   \n",
      "3820  6831    0:05.5 -22.02466875  0.531954595   \n",
      "3840  6862    0:05.6 -21.41647004  0.532497679   \n",
      "3860  6893    0:05.6 -20.7741952   0.533035576775\n",
      "3880  6931    0:05.6 -20.95081233  0.532996478   \n",
      "3900  6970    0:05.6 -20.39735536  0.532876712   \n",
      "3920  6994    0:05.7 -19.86834557  0.533970276   \n",
      "3940  7028    0:05.7 -19.35853066  0.534248642   \n",
      "3960  7057    0:05.7 -18.87781087  0.534925642   \n",
      "3980  7093    0:05.7 -18.4493365   0.535036605   \n",
      "4000  7121    0:05.8 -18.01192822  0.535783366   \n",
      "4020  7145    0:05.8 -17.57210646  0.536842105   \n",
      "4040  7172    0:05.8 -17.15690332  0.53765505    \n",
      "4060  7201    0:05.9 -16.76827245  0.538303191   \n",
      "4080  7230    0:05.9 -16.40126156  0.538945827   \n",
      "4100  7269    0:05.9 -15.97958507  0.538797496   \n",
      "4120  7304    0:06.0 -15.55780089  0.53896292    \n",
      "4140  7331    0:06.0 -15.13224692  0.539748954   \n",
      "4160  7354    0:06.1 -14.72574453  0.540839804   \n",
      "4180  7382    0:06.1 -14.32934319  0.541535377   \n",
      "4200  7422    0:06.2 -13.93461613  0.541298775   \n",
      "4220  7450    0:06.2 -13.59958263  0.541985816   \n",
      "4240  7478    0:06.2 -13.21676169  0.54266742    \n",
      "4260  7509    0:06.2 -12.8623918   0.543114362   \n",
      "4280  7540    0:06.3 -12.51571492  0.543557423   \n",
      "4300  7583    0:06.3 -12.16534702  0.543087846   \n",
      "4320  7609    0:06.3 -11.83917122  0.543903454   \n",
      "4340  7633    0:06.4 -11.51269407  0.544863819   \n",
      "4360  7656    0:06.4 -11.17706443  0.545893054   \n",
      "4380  7685    0:06.4 -10.8646526   0.54646534    \n",
      "4400  7713    0:06.4 -10.57101575  0.54710789    \n",
      "4420  7738    0:06.5 -10.28556442  0.547969474   \n",
      "4440  7767    0:06.5 -10.00567614  0.548527216   \n",
      "4460  7800    0:06.5 -9.722744245  0.548783784   \n",
      "4480  7837    0:06.6 -9.432705623  0.548742773   \n",
      "4500  7868    0:06.6 -9.15396734   0.54914301    \n",
      "4520  7894    0:06.6 -8.887031842  0.549906592   \n",
      "4540  7927    0:06.7 -8.621752301  0.550152783   \n",
      "4560  7960    0:06.7 -8.3523262    0.550396825   \n",
      "4580  7999    0:06.7 -8.091804328  0.550203974   \n",
      "4600  8039    0:06.8 -7.844481731  0.549941092   \n",
      "4620  8064    0:06.8 -7.601900865  0.550756785   \n"
     ]
    },
    {
     "name": "stdout",
     "output_type": "stream",
     "text": [
      "4640  8096    0:06.8 -7.364382122  0.551065489   \n",
      "4660  8123    0:06.9 -7.218520291  0.551728603   \n",
      "4680  8157    0:06.9 -7.004675772  0.551888617   \n",
      "4700  8191    0:06.9 -6.797435504  0.552047234   \n",
      "4720  8221    0:07.0 -6.598346308  0.552486894259\n",
      "4740  8255    0:07.0 -6.401731265  0.55264163    \n",
      "4760  8288    0:07.0 -6.207740963  0.552865112   \n",
      "4780  8317    0:07.0 -6.021368523  0.553366174   \n",
      "4800  8349    0:07.1 -5.843630828  0.553654548   \n",
      "4820  8375    0:07.1 -5.673132055  0.554357367   \n",
      "4840  8407    0:07.1 -5.50488133   0.554639690271\n",
      "4860  8436    0:07.2 -5.339347504  0.555126929   \n",
      "4880  8469    0:07.2 -5.174925783  0.555335234   \n",
      "4900  8498    0:07.2 -5.012786231  0.555816251   \n",
      "4920  8529    0:07.3 -4.852646493  0.556156969   \n",
      "4940  8561    0:07.3 -4.689625548  0.556426908   \n",
      "4960  8590    0:07.3 -4.53096545   0.556898657   \n",
      "4980  8620    0:07.4 -4.376211972  0.557299270073\n",
      "5000  8655    0:07.4 -4.223787731  0.557359176   \n",
      "5020  8682    0:07.4 -4.076853233  0.557957015   \n",
      "5040  8711    0:07.5 -3.935180985  0.558416556   \n",
      "5060  8740    0:07.5 -3.797568648  0.558872902   \n",
      "5080  8768    0:07.5 -3.664152595  0.559392925   \n",
      "5100  8798    0:07.6 -3.532286302  0.559776137   \n",
      "5120  8826    0:07.6 -3.403882916  0.56028958    \n",
      "5140  8851    0:07.6 -3.280373197  0.560998698   \n",
      "5160  8883    0:07.6 -3.159682534  0.561240127   \n",
      "5180  8906    0:07.7 -3.042578508  0.56207383    \n",
      "5200  8941    0:07.7 -2.929363781  0.562112165   \n",
      "5220  8972    0:07.7 -2.82009667   0.562412506   \n",
      "5240  9001    0:07.8 -2.714273959  0.56284153    \n",
      "5260  9042    0:07.8 -2.609171524  0.562485536   \n",
      "5280  9069    0:07.8 -2.506715585  0.56304072    \n",
      "5300  9095    0:07.8 -2.407842424  0.563657274   \n",
      "5320  9118    0:07.9 -2.311618154  0.564464327   \n",
      "5340  9150    0:07.9 -2.218599847  0.564685714   \n",
      "5360  9181    0:07.9 -2.137387613  0.564969821   \n",
      "5380  9205    0:08.0 -2.050451283  0.565701306   \n",
      "5400  9248    0:08.1 -1.966329777  0.565212477396\n",
      "5420  9282    0:08.1 -1.884298446  0.565300608   \n",
      "5440  9309    0:08.1 -1.805283677  0.565832304   \n",
      "5460  9338    0:08.2 -1.729211391  0.566234056836\n",
      "5480  9370    0:08.2 -1.655510213  0.566443701   \n",
      "5500  9399    0:08.2 -1.584574297  0.56684076    \n",
      "5520  9422    0:08.2 -1.516168351  0.567612502771\n",
      "5540  9448    0:08.3 -1.450111613  0.568191866   \n",
      "5560  9481    0:08.3 -1.385899755  0.568329479   \n",
      "5580  9522    0:08.4 -1.32349653   0.567967551   \n",
      "5600  9564    0:08.4 -1.262659275  0.567546923   \n",
      "5620  9597    0:08.4 -1.204352304  0.567685115   \n",
      "5640  9623    0:08.5 -1.14833325   0.56825328    \n",
      "5660  9651    0:08.5 -1.094531429  0.568695276   \n",
      "5680  9685    0:08.5 -1.042746311  0.568766828   \n",
      "5700  9719    0:08.6 -0.993018     0.568837858   \n",
      "5720  9750    0:08.6 -0.945428     0.569090909   \n",
      "5740  9781    0:08.6 -0.899881     0.569342288   \n",
      "5760  9818    0:08.7 -0.856124     0.569229136   \n",
      "5780  9847    0:08.7 -0.814269     0.569598814   \n",
      "5800  9879    0:08.7 -0.774365     0.569785842   \n",
      "5820  9912    0:08.7 -0.736247     0.56991169    \n",
      "5840  9939    0:08.8 -0.699961     0.57039522    \n",
      "5860  9970    0:08.8 -0.665289     0.570637409   \n",
      "5880  10005   0:08.8 -0.632265     0.570640292   \n",
      "5900  10039   0:08.9 -0.60075      0.570702355   \n",
      "5920  10074   0:08.9 -0.570703     0.570704982   \n",
      "5940  10113   0:08.9 -0.542099     0.570472562545\n",
      "5960  10149   0:09.0 -0.514842     0.570417479   \n",
      "Convergence obtained with Delta_z = -0.499099983374\n",
      "Done!\n"
     ]
    }
   ],
   "source": [
    "samples = sampler.run()\n",
    "print('Done!')"
   ]
  },
  {
   "cell_type": "markdown",
   "metadata": {},
   "source": [
    "## Plot posterior samples versus true parameter values (dashed lines)"
   ]
  },
  {
   "cell_type": "code",
   "execution_count": 4,
   "metadata": {},
   "outputs": [
    {
     "data": {
      "image/png": "[encoded data removed]",
      "text/plain": [
       "<matplotlib.figure.Figure at 0x2b7ef7b3048>"
      ]
     },
     "metadata": {},
     "output_type": "display_data"
    }
   ],
   "source": [
    "# Plot output\n",
    "import pints.plot\n",
    "\n",
    "pints.plot.histogram([samples], ref_parameters=[r, k, sigma])\n",
    "\n",
    "plt.show()"
   ]
  },
  {
   "cell_type": "markdown",
   "metadata": {},
   "source": [
    "## Plot posterior predictive simulations versus the observed data"
   ]
  },
  {
   "cell_type": "code",
   "execution_count": 5,
   "metadata": {},
   "outputs": [
    {
     "data": {
      "image/png": "[encoded data removed]",
      "text/plain": [
       "<matplotlib.figure.Figure at 0x2b7ef7b3438>"
      ]
     },
     "metadata": {},
     "output_type": "display_data"
    }
   ],
   "source": [
    "pints.plot.series(samples[:100], problem)\n",
    "plt.show()"
   ]
  },
  {
   "cell_type": "markdown",
   "metadata": {},
   "source": [
    "## Marginal likelihood estimate"
   ]
  },
  {
   "cell_type": "code",
   "execution_count": 6,
   "metadata": {},
   "outputs": [
    {
     "name": "stdout",
     "output_type": "stream",
     "text": [
      "marginal log-likelihood = -365.225125745 ± 0.0805224272726\n"
     ]
    }
   ],
   "source": [
    "print('marginal log-likelihood = ' + str(sampler.marginal_log_likelihood())\n",
    "      + ' ± ' + str(sampler.marginal_log_likelihood_standard_deviation()))"
   ]
  },
  {
   "cell_type": "markdown",
   "metadata": {},
   "source": [
    "## Effective sample size"
   ]
  },
  {
   "cell_type": "code",
   "execution_count": 7,
   "metadata": {},
   "outputs": [
    {
     "name": "stdout",
     "output_type": "stream",
     "text": [
      "effective sample size = 1618.99733966\n"
     ]
    }
   ],
   "source": [
    "print('effective sample size = ' + str(sampler.effective_sample_size()))"
   ]
  }
 ],
 "metadata": {
  "kernelspec": {
   "display_name": "Python 3",
   "language": "python",
   "name": "python3"
  },
  "language_info": {
   "codemirror_mode": {
    "name": "ipython",
    "version": 3
   },
   "file_extension": ".py",
   "mimetype": "text/x-python",
   "name": "python",
   "nbconvert_exporter": "python",
   "pygments_lexer": "ipython3",
   "version": "3.6.3"
  }
 },
 "nbformat": 4,
 "nbformat_minor": 2
}
